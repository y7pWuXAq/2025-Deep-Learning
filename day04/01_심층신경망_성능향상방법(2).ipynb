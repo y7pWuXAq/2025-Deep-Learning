{
 "cells": [
  {
   "cell_type": "markdown",
   "id": "86bea3ef",
   "metadata": {},
   "source": [
    "1. 패션데이터셋 읽어들이기 : 변수는 기존과 동일\n",
    "2. 데이터 스케일링 : 변수는 기존과 동일\n",
    "3. 2차원 데이터로 변경\n",
    "4. 훈련 : 검증 = 8:2로 분리 : 변수는 기존과 동일\n",
    "5. 모델 생성 : 변수명 model\n",
    "6. 입력계층, 은닉계층, 출력계층 생성 및 모델에 추가하기\n",
    "7. 모델 환경설정\n",
    "8. 모델 훈련 시키기"
   ]
  },
  {
   "cell_type": "code",
   "execution_count": null,
   "id": "e925e6ea",
   "metadata": {
    "id": "e925e6ea"
   },
   "outputs": [],
   "source": [
    "### 텐서플로 프레임워크 사용>\n",
    "# - 사용 라이브러리 : keras\n",
    "\n",
    "### 텐서플로우 프레임워크(패키지라고도 칭함)\n",
    "import tensorflow as tf\n",
    "\n",
    "### 케라스 라이브러리 불러들이기\n",
    "from tensorflow import keras\n",
    "\n",
    "### 시각화 라이브러리 불러들이기\n",
    "import matplotlib.pyplot as plt\n",
    "\n",
    "### 넘파이\n",
    "import numpy as np\n",
    "\n",
    "### 훈련 및 테스트 데이터로 분류하는 라이브러리\n",
    "from sklearn.model_selection import train_test_split\n",
    "\n",
    "### 딥러닝 랜덤 규칙 정의하기\n",
    "# - 딥러닝에서의 랜덤 규칙은 항상 일정하게 유지되지는 않음\n",
    "# - 딥러닝 모델 내부에서 훈련을 위한 데이터를 임의로 추출하여 사용(사람이 관여 안함)\n",
    "tf.keras.utils.set_random_seed(42)\n",
    "# tf.config.experimental.enable_op_determinism()"
   ]
  },
  {
   "cell_type": "code",
   "execution_count": null,
   "id": "6ae9d6e6",
   "metadata": {
    "id": "6ae9d6e6",
    "outputId": "e35a06a6-76ee-46e7-ee21-61001a7ac3be"
   },
   "outputs": [
    {
     "name": "stdout",
     "output_type": "stream",
     "text": [
      "(60000, 28, 28) (60000,)\n",
      "(10000, 28, 28) (10000,)\n"
     ]
    }
   ],
   "source": [
    "### keras에서 제공하는 데이터 라이브러리 : Fashion MNIST\n",
    "# - 이미지 데이터로 되어있음\n",
    "\n",
    "### 데이터셋 읽어들이기\n",
    "# - 반환되는 데이터 : train(독립, 종속), test(독립, 종속) 총 4개 데이터 변수로 반환됨\n",
    "(train_input, train_target), (test_input, test_target) = keras.datasets.fashion_mnist.load_data()\n",
    "\n",
    "print(train_input.shape, train_target.shape)\n",
    "print(test_input.shape, test_target.shape)"
   ]
  },
  {
   "cell_type": "code",
   "execution_count": null,
   "id": "233440de",
   "metadata": {
    "id": "233440de"
   },
   "outputs": [],
   "source": [
    "### 이미지 픽셀 데이터를 0~1사이의 값으로 변환하기\n",
    "# - 이미지 픽셀 데이터의 범위는 0~255의 범위값으로 구성되어 있음\n",
    "# - 따라서, 각 픽셀의 값을 255로 나눠주면, 0~1사이의 값으로 일반화가 가능함\n",
    "# - 훈련 및 테스트 독립변수의 데이터를 모두 255로 나누어서 전처리하기\n",
    "#   (255.0의 소숫점으로 나눠줍니다.)\n",
    "train_scaled_255 = train_input / 255.0\n",
    "test_scaled_255  = test_input / 255.0"
   ]
  },
  {
   "cell_type": "code",
   "execution_count": null,
   "id": "fc4ddf67",
   "metadata": {
    "id": "fc4ddf67",
    "outputId": "16c5ac74-7d55-423b-b18a-9c47ddb0fd0c"
   },
   "outputs": [
    {
     "data": {
      "text/plain": [
       "((60000, 784), (10000, 784))"
      ]
     },
     "execution_count": 4,
     "metadata": {},
     "output_type": "execute_result"
    }
   ],
   "source": [
    "### 2차원 데이터로 변환\n",
    "train_scaled_2d = train_scaled_255.reshape(-1, 28 * 28)\n",
    "test_scaled_2d = test_scaled_255.reshape(-1, 28 * 28)\n",
    "\n",
    "train_scaled_2d.shape, test_scaled_2d.shape"
   ]
  },
  {
   "cell_type": "code",
   "execution_count": null,
   "id": "20061588",
   "metadata": {
    "id": "20061588",
    "outputId": "fd2d43a1-e501-4fa4-a384-61847a6d5f26"
   },
   "outputs": [
    {
     "name": "stdout",
     "output_type": "stream",
     "text": [
      "(48000, 784) (48000,)\n",
      "(12000, 784) (12000,)\n",
      "(10000, 784) (10000,)\n"
     ]
    }
   ],
   "source": [
    "### 훈련(train_scaled, train_target)\n",
    "### 검증(val_scaled, val_target)\n",
    "train_scaled, val_scaled, train_target, val_target = train_test_split(\n",
    "    train_scaled_2d, train_target, test_size=0.2, random_state=42\n",
    ")\n",
    "\n",
    "print(train_scaled.shape,   train_target.shape)\n",
    "print(val_scaled.shape,     val_target.shape)\n",
    "print(test_scaled_2d.shape, test_target.shape)"
   ]
  },
  {
   "cell_type": "code",
   "execution_count": null,
   "id": "51c9a6ed",
   "metadata": {
    "id": "51c9a6ed",
    "outputId": "104a20b8-2527-40c9-9720-e9d6ffab2b64"
   },
   "outputs": [
    {
     "data": {
      "text/plain": [
       "<keras.engine.sequential.Sequential at 0x1f99f6e6dc0>"
      ]
     },
     "execution_count": 35,
     "metadata": {},
     "output_type": "execute_result"
    }
   ],
   "source": [
    "### 모델 생성하기\n",
    "model = keras.Sequential(name=\"Model\")\n",
    "model"
   ]
  },
  {
   "cell_type": "code",
   "execution_count": null,
   "id": "0ee5acaa",
   "metadata": {
    "id": "0ee5acaa",
    "outputId": "9e2eb5b0-5683-41e4-ab21-85086154c297"
   },
   "outputs": [
    {
     "name": "stdout",
     "output_type": "stream",
     "text": [
      "Model: \"Model\"\n",
      "_________________________________________________________________\n",
      " Layer (type)                Output Shape              Param #   \n",
      "=================================================================\n",
      " Input-Layer (Dense)         (None, 100)               78500     \n",
      "                                                                 \n",
      "=================================================================\n",
      "Total params: 78,500\n",
      "Trainable params: 78,500\n",
      "Non-trainable params: 0\n",
      "_________________________________________________________________\n"
     ]
    }
   ],
   "source": [
    "### 입력계층 생성 및 추가하기\n",
    "model.add(\n",
    "    keras.layers.Dense(units=100, activation=\"relu\",\n",
    "                        input_shape=(784,), name=\"Input-Layer\")\n",
    ")\n",
    "model.summary()"
   ]
  },
  {
   "cell_type": "code",
   "execution_count": null,
   "id": "5efb18b0",
   "metadata": {
    "id": "5efb18b0",
    "outputId": "d6861865-4d2b-4a2a-e126-7c12103c6f28"
   },
   "outputs": [
    {
     "name": "stdout",
     "output_type": "stream",
     "text": [
      "Model: \"Model\"\n",
      "_________________________________________________________________\n",
      " Layer (type)                Output Shape              Param #   \n",
      "=================================================================\n",
      " Input-Layer (Dense)         (None, 100)               78500     \n",
      "                                                                 \n",
      " Hidden_Layer01 (Dense)      (None, 100)               10100     \n",
      "                                                                 \n",
      "=================================================================\n",
      "Total params: 88,600\n",
      "Trainable params: 88,600\n",
      "Non-trainable params: 0\n",
      "_________________________________________________________________\n"
     ]
    }
   ],
   "source": [
    "### 은닉계층 생성 및 추가하기\n",
    "model.add(\n",
    "    keras.layers.Dense(units=100, activation=\"relu\", name=\"Hidden_Layer01\")\n",
    ")\n",
    "model.summary()"
   ]
  },
  {
   "cell_type": "code",
   "execution_count": null,
   "id": "6db680b3",
   "metadata": {
    "id": "6db680b3",
    "outputId": "fd11485e-3fd1-45cf-b351-1b7a4f0d2483"
   },
   "outputs": [
    {
     "name": "stdout",
     "output_type": "stream",
     "text": [
      "Model: \"Model\"\n",
      "_________________________________________________________________\n",
      " Layer (type)                Output Shape              Param #   \n",
      "=================================================================\n",
      " Input-Layer (Dense)         (None, 100)               78500     \n",
      "                                                                 \n",
      " Hidden_Layer01 (Dense)      (None, 100)               10100     \n",
      "                                                                 \n",
      " Output-Layer (Dense)        (None, 10)                1010      \n",
      "                                                                 \n",
      "=================================================================\n",
      "Total params: 89,610\n",
      "Trainable params: 89,610\n",
      "Non-trainable params: 0\n",
      "_________________________________________________________________\n"
     ]
    }
   ],
   "source": [
    "### 출력계층 생성 및 모델에 추가하기\n",
    "model.add(\n",
    "    keras.layers.Dense(units=10, activation=\"softmax\", name=\"Output-Layer\")\n",
    ")\n",
    "\n",
    "model.summary()"
   ]
  },
  {
   "cell_type": "code",
   "execution_count": null,
   "id": "586007d8",
   "metadata": {
    "id": "586007d8",
    "outputId": "85c49c68-a33b-4c06-a524-967dd24b4336"
   },
   "outputs": [
    {
     "name": "stdout",
     "output_type": "stream",
     "text": [
      "Epoch 1/50\n",
      "1500/1500 [==============================] - 5s 2ms/step - loss: 0.5681 - accuracy: 0.7949\n",
      "Epoch 2/50\n",
      "1500/1500 [==============================] - 3s 2ms/step - loss: 0.4570 - accuracy: 0.8376\n",
      "Epoch 3/50\n",
      "1500/1500 [==============================] - 3s 2ms/step - loss: 0.4384 - accuracy: 0.8425\n",
      "Epoch 4/50\n",
      "1500/1500 [==============================] - 3s 2ms/step - loss: 0.4194 - accuracy: 0.8492\n",
      "Epoch 5/50\n",
      "1500/1500 [==============================] - 3s 2ms/step - loss: 0.4095 - accuracy: 0.8549\n",
      "Epoch 6/50\n",
      "1500/1500 [==============================] - 3s 2ms/step - loss: 0.3953 - accuracy: 0.8614\n",
      "Epoch 7/50\n",
      "1500/1500 [==============================] - 3s 2ms/step - loss: 0.3896 - accuracy: 0.8615\n",
      "Epoch 8/50\n",
      "1500/1500 [==============================] - 4s 3ms/step - loss: 0.3795 - accuracy: 0.8642\n",
      "Epoch 9/50\n",
      "1500/1500 [==============================] - 3s 2ms/step - loss: 0.3758 - accuracy: 0.8662\n",
      "Epoch 10/50\n",
      "1500/1500 [==============================] - 3s 2ms/step - loss: 0.3752 - accuracy: 0.8667\n",
      "Epoch 11/50\n",
      "1500/1500 [==============================] - 3s 2ms/step - loss: 0.3687 - accuracy: 0.8698\n",
      "Epoch 12/50\n",
      "1500/1500 [==============================] - 3s 2ms/step - loss: 0.3720 - accuracy: 0.8699\n",
      "Epoch 13/50\n",
      "1500/1500 [==============================] - 3s 2ms/step - loss: 0.3671 - accuracy: 0.8692\n",
      "Epoch 14/50\n",
      "1500/1500 [==============================] - 3s 2ms/step - loss: 0.3649 - accuracy: 0.8703\n",
      "Epoch 15/50\n",
      "1500/1500 [==============================] - 3s 2ms/step - loss: 0.3591 - accuracy: 0.8739\n",
      "Epoch 16/50\n",
      "1500/1500 [==============================] - 3s 2ms/step - loss: 0.3509 - accuracy: 0.8732\n",
      "Epoch 17/50\n",
      "1500/1500 [==============================] - 3s 2ms/step - loss: 0.3546 - accuracy: 0.8776\n",
      "Epoch 18/50\n",
      "1500/1500 [==============================] - 3s 2ms/step - loss: 0.3606 - accuracy: 0.8732\n",
      "Epoch 19/50\n",
      "1500/1500 [==============================] - 3s 2ms/step - loss: 0.3502 - accuracy: 0.8760\n",
      "Epoch 20/50\n",
      "1500/1500 [==============================] - 3s 2ms/step - loss: 0.3408 - accuracy: 0.8784\n",
      "Epoch 21/50\n",
      "1500/1500 [==============================] - 3s 2ms/step - loss: 0.3417 - accuracy: 0.8778\n",
      "Epoch 22/50\n",
      "1500/1500 [==============================] - 3s 2ms/step - loss: 0.3456 - accuracy: 0.8769\n",
      "Epoch 23/50\n",
      "1500/1500 [==============================] - 3s 2ms/step - loss: 0.3385 - accuracy: 0.8828\n",
      "Epoch 24/50\n",
      "1500/1500 [==============================] - 3s 2ms/step - loss: 0.3402 - accuracy: 0.8806\n",
      "Epoch 25/50\n",
      "1500/1500 [==============================] - 3s 2ms/step - loss: 0.3387 - accuracy: 0.8800\n",
      "Epoch 26/50\n",
      "1500/1500 [==============================] - 3s 2ms/step - loss: 0.3399 - accuracy: 0.8796\n",
      "Epoch 27/50\n",
      "1500/1500 [==============================] - 3s 2ms/step - loss: 0.3484 - accuracy: 0.8768\n",
      "Epoch 28/50\n",
      "1500/1500 [==============================] - 3s 2ms/step - loss: 0.3356 - accuracy: 0.8803\n",
      "Epoch 29/50\n",
      "1500/1500 [==============================] - 3s 2ms/step - loss: 0.3440 - accuracy: 0.8774\n",
      "Epoch 30/50\n",
      "1500/1500 [==============================] - 3s 2ms/step - loss: 0.3330 - accuracy: 0.8814\n",
      "Epoch 31/50\n",
      "1500/1500 [==============================] - 3s 2ms/step - loss: 0.3315 - accuracy: 0.8822\n",
      "Epoch 32/50\n",
      "1500/1500 [==============================] - 3s 2ms/step - loss: 0.3269 - accuracy: 0.8828\n",
      "Epoch 33/50\n",
      "1500/1500 [==============================] - 3s 2ms/step - loss: 0.3310 - accuracy: 0.8829\n",
      "Epoch 34/50\n",
      "1500/1500 [==============================] - 3s 2ms/step - loss: 0.3398 - accuracy: 0.8821\n",
      "Epoch 35/50\n",
      "1500/1500 [==============================] - 3s 2ms/step - loss: 0.3275 - accuracy: 0.8837\n",
      "Epoch 36/50\n",
      "1500/1500 [==============================] - 3s 2ms/step - loss: 0.3200 - accuracy: 0.8866\n",
      "Epoch 37/50\n",
      "1500/1500 [==============================] - 3s 2ms/step - loss: 0.3215 - accuracy: 0.8851\n",
      "Epoch 38/50\n",
      "1500/1500 [==============================] - 3s 2ms/step - loss: 0.3198 - accuracy: 0.8875\n",
      "Epoch 39/50\n",
      "1500/1500 [==============================] - 3s 2ms/step - loss: 0.3220 - accuracy: 0.8852\n",
      "Epoch 40/50\n",
      "1500/1500 [==============================] - 3s 2ms/step - loss: 0.3256 - accuracy: 0.8848\n",
      "Epoch 41/50\n",
      "1500/1500 [==============================] - 3s 2ms/step - loss: 0.3174 - accuracy: 0.8875\n",
      "Epoch 42/50\n",
      "1500/1500 [==============================] - 3s 2ms/step - loss: 0.3286 - accuracy: 0.8857\n",
      "Epoch 43/50\n",
      "1500/1500 [==============================] - 3s 2ms/step - loss: 0.3199 - accuracy: 0.8868\n",
      "Epoch 44/50\n",
      "1500/1500 [==============================] - 3s 2ms/step - loss: 0.3251 - accuracy: 0.8841\n",
      "Epoch 45/50\n",
      "1500/1500 [==============================] - 3s 2ms/step - loss: 0.3057 - accuracy: 0.8896\n",
      "Epoch 46/50\n",
      "1500/1500 [==============================] - 3s 2ms/step - loss: 0.3210 - accuracy: 0.8886\n",
      "Epoch 47/50\n",
      "1500/1500 [==============================] - 3s 2ms/step - loss: 0.3231 - accuracy: 0.8853\n",
      "Epoch 48/50\n",
      "1500/1500 [==============================] - 3s 2ms/step - loss: 0.3178 - accuracy: 0.8877\n",
      "Epoch 49/50\n",
      "1500/1500 [==============================] - 3s 2ms/step - loss: 0.3175 - accuracy: 0.8863\n",
      "Epoch 50/50\n",
      "1500/1500 [==============================] - 3s 2ms/step - loss: 0.3182 - accuracy: 0.8858\n"
     ]
    },
    {
     "data": {
      "text/plain": [
       "<keras.callbacks.History at 0x1f9a2a28e50>"
      ]
     },
     "execution_count": 39,
     "metadata": {},
     "output_type": "execute_result"
    }
   ],
   "source": [
    "### 1. 모델 환경 설정하기\n",
    "### 2. 훈련 데이터로 10회만 훈련\n",
    "\n",
    "adam = keras.optimizers.Adam(learning_rate = 0.01)\n",
    "\n",
    "model.compile(\n",
    "    optimizer = adam,\n",
    "    loss = \"sparse_categorical_crossentropy\",\n",
    "    metrics = \"accuracy\"\n",
    ")\n",
    "\n",
    "# with tf.device(\"/CPU:0\"):\n",
    "model.fit(train_scaled, train_target, epochs=50)"
   ]
  },
  {
   "cell_type": "code",
   "execution_count": null,
   "id": "3efdfdda",
   "metadata": {
    "id": "3efdfdda",
    "outputId": "aa869382-a9c4-4cd0-8155-ea1bd4fa1cf9"
   },
   "outputs": [
    {
     "name": "stdout",
     "output_type": "stream",
     "text": [
      "1500/1500 [==============================] - 3s 2ms/step - loss: 0.3033 - accuracy: 0.8891\n",
      "훈련 손실율 : 0.30333173274993896, 훈련 정확도 : 0.8891458511352539\n",
      "375/375 [==============================] - 1s 2ms/step - loss: 0.5595 - accuracy: 0.8595\n",
      "검증 손실율 : 0.5594688653945923, 검증 정확도 : 0.859499990940094\n"
     ]
    }
   ],
   "source": [
    "### 훈련데이터로 평가하기\n",
    "train_score = model.evaluate(train_scaled, train_target)\n",
    "print(f\"훈련 손실율 : {train_score[0]}, 훈련 정확도 : {train_score[1]}\")\n",
    "\n",
    "### 검증데이터로 평가하기\n",
    "val_score = model.evaluate(val_scaled, val_target)\n",
    "print(f\"검증 손실율 : {val_score[0]}, 검증 정확도 : {val_score[1]}\")"
   ]
  },
  {
   "cell_type": "markdown",
   "id": "3f033137",
   "metadata": {
    "id": "3f033137"
   },
   "source": [
    "### 모델 저장 방법"
   ]
  },
  {
   "cell_type": "markdown",
   "id": "9b1c170c",
   "metadata": {},
   "source": [
    "<모델 저장 방법>\n",
    "1. 일반적인 저장\n",
    "    - 모델 훈련(fit)이 완료된 결과가 기준임\n",
    "    - 사람이 가장 좋은 시점을 튜닝에 의해 주로 판단함\n",
    "    - 가중치만 저장, 모델 자체 저장\n",
    "\n",
    "2. 훈련 중 저장\n",
    "    - 모델 훈련(fit) 중에 가장 좋은 시점(일반화)에 모델을 저장\n",
    "    - 사람이 개입하지 않음. 모델 훈련 중 자동으로 찾아냄\n",
    "    - 이벤트 명령을 정의해 주어야 함\n",
    "        - 이벤트를 콜백 이라고함 이때 사용되는 기능을 \"콜백 함수\"라고 칭함\n",
    "    - 모델 자체를 저장"
   ]
  },
  {
   "cell_type": "markdown",
   "id": "4c954f30",
   "metadata": {
    "id": "4c954f30"
   },
   "source": [
    "### 1. 일반적인 저장 방법"
   ]
  },
  {
   "cell_type": "markdown",
   "id": "6b5b8699",
   "metadata": {},
   "source": [
    "1. 가중치만 저장하는 방식\n",
    "    - 훈련 중 손실을 줄이기 위해 모델이 스스로 찾아낸 가중치(w) 값들을 저장하는 방식\n",
    "    - 저장된 가중치를 사용하는 방법\n",
    "        - 모델 생성 > 저장된 가중치 읽어들이기 > 예측 진행\n",
    "        - fit은 하지 않습니다. 이미 훈련된 가중치이기 때문\n",
    "\n",
    "2. 모델 자체를 저장하는 방식\n",
    "    - 훈련 최종 결과 모델 자체를 저장하는 방식\n",
    "    - 가중치 및 설정들에 대한 모든 것을 저장함\n",
    "    - 저장된 모델을 사용하는 방법\n",
    "        - 모델 읽어들이기 > 예측 진행\n",
    "        - 별도의 모델 생성 및 fit은 하지 않음 -> 이미 모델 자체를 사용하기 때문"
   ]
  },
  {
   "cell_type": "markdown",
   "id": "4926a726",
   "metadata": {
    "id": "4926a726"
   },
   "source": [
    "##### <가중치를 저장해서 사용하는 방식>"
   ]
  },
  {
   "cell_type": "code",
   "execution_count": null,
   "id": "597e8be5",
   "metadata": {
    "id": "597e8be5"
   },
   "outputs": [],
   "source": [
    "### 모델의 가중치만 저장하기\n",
    "# - 저장시 파일의 확장자는 보통 h5를 사용함\n",
    "model.save_weights(\"./model/model_weights.h5\")"
   ]
  },
  {
   "cell_type": "code",
   "execution_count": null,
   "id": "610d1da1",
   "metadata": {
    "id": "610d1da1"
   },
   "outputs": [],
   "source": [
    "### 저장된 가중치를 불러들이기\n",
    "# - 모델 생성 > 가중치 불러들이기\n",
    "\n",
    "### 모델 생성하기\n",
    "model2 = keras.Sequential(name=\"Model\")\n",
    "\n",
    "### 입력계층 생성 및 추가하기\n",
    "model2.add(\n",
    "    keras.layers.Dense(units=100, activation=\"relu\",\n",
    "                        input_shape=(784,), name=\"Input-Layer\")\n",
    ")\n",
    "\n",
    "### 은닉계층 생성 및 추가하기\n",
    "model2.add(\n",
    "    keras.layers.Dense(units=100, activation=\"relu\", name=\"Hidden_Layer01\")\n",
    ")\n",
    "\n",
    "### 출력계층 생성 및 모델에 추가하기\n",
    "model2.add(\n",
    "    keras.layers.Dense(units=10, activation=\"softmax\", name=\"Output-Layer\")\n",
    ")\n",
    "\n",
    "adam = keras.optimizers.Adam(learning_rate = 0.01)\n",
    "\n",
    "model2.compile(\n",
    "    optimizer = adam,\n",
    "    loss = \"sparse_categorical_crossentropy\",\n",
    "    metrics = \"accuracy\"\n",
    ")\n",
    "\n",
    "### 모델 불러들이기\n",
    "model2.load_weights(\"./model/model_weights.h5\")\n",
    "\n",
    "### 이후부터는 예측으로 사용"
   ]
  },
  {
   "cell_type": "markdown",
   "id": "434aac8f",
   "metadata": {
    "id": "434aac8f"
   },
   "source": [
    "##### <모델 자체 저장하는 방식>"
   ]
  },
  {
   "cell_type": "code",
   "execution_count": null,
   "id": "2393f0c6",
   "metadata": {
    "id": "2393f0c6"
   },
   "outputs": [],
   "source": [
    "### 모델 자체 저장하기\n",
    "model.save(\"./model/model_all.h5\")"
   ]
  },
  {
   "cell_type": "code",
   "execution_count": null,
   "id": "78334577",
   "metadata": {
    "id": "78334577",
    "outputId": "fd54bc6d-4135-4693-e09e-9a766aece7e7"
   },
   "outputs": [
    {
     "name": "stdout",
     "output_type": "stream",
     "text": [
      "Model: \"Model\"\n",
      "_________________________________________________________________\n",
      " Layer (type)                Output Shape              Param #   \n",
      "=================================================================\n",
      " Input-Layer (Dense)         (None, 100)               78500     \n",
      "                                                                 \n",
      " Hidden_Layer01 (Dense)      (None, 100)               10100     \n",
      "                                                                 \n",
      " Output-Layer (Dense)        (None, 10)                1010      \n",
      "                                                                 \n",
      "=================================================================\n",
      "Total params: 89,610\n",
      "Trainable params: 89,610\n",
      "Non-trainable params: 0\n",
      "_________________________________________________________________\n"
     ]
    }
   ],
   "source": [
    "### 저장된 모델 불러들이기\n",
    "model_all = keras.models.load_model(\"./model/model_all.h5\")\n",
    "model_all.summary()"
   ]
  },
  {
   "cell_type": "markdown",
   "id": "1a9e2102",
   "metadata": {
    "id": "1a9e2102"
   },
   "source": [
    "### 예측(predict)하기"
   ]
  },
  {
   "cell_type": "code",
   "execution_count": null,
   "id": "24683851",
   "metadata": {
    "id": "24683851",
    "outputId": "e15d0ea2-f7a2-4004-b704-fb22b7bf819f"
   },
   "outputs": [
    {
     "data": {
      "text/plain": [
       "array([[0.0000000e+00, 0.0000000e+00, 0.0000000e+00, ..., 5.8092725e-02,\n",
       "        7.6374684e-17, 9.4037884e-01],\n",
       "       [3.3026859e-06, 2.5968182e-12, 9.0121204e-01, ..., 0.0000000e+00,\n",
       "        5.3475633e-06, 5.7182508e-18],\n",
       "       [2.9740325e-25, 1.0000000e+00, 2.5425843e-24, ..., 0.0000000e+00,\n",
       "        6.2457061e-37, 0.0000000e+00],\n",
       "       ...,\n",
       "       [0.0000000e+00, 0.0000000e+00, 0.0000000e+00, ..., 0.0000000e+00,\n",
       "        1.0000000e+00, 0.0000000e+00],\n",
       "       [4.5941223e-20, 1.0000000e+00, 2.4039820e-19, ..., 0.0000000e+00,\n",
       "        2.8305058e-29, 0.0000000e+00],\n",
       "       [2.3377101e-15, 0.0000000e+00, 1.5939673e-22, ..., 9.1042016e-03,\n",
       "        2.7568492e-12, 1.6691825e-04]], dtype=float32)"
      ]
     },
     "execution_count": 45,
     "metadata": {},
     "output_type": "execute_result"
    }
   ],
   "source": [
    "### 테스트 데이터로 예측\n",
    "test_pred = model_all.predict(test_scaled_2d)\n",
    "test_pred"
   ]
  },
  {
   "cell_type": "code",
   "execution_count": null,
   "id": "6fa0196d",
   "metadata": {
    "id": "6fa0196d",
    "outputId": "2cf7e93b-ff24-404a-9575-1137a74858a7"
   },
   "outputs": [
    {
     "data": {
      "text/plain": [
       "array([0.0000000e+00, 0.0000000e+00, 0.0000000e+00, 0.0000000e+00,\n",
       "       0.0000000e+00, 1.5284129e-03, 1.5699996e-20, 5.8092725e-02,\n",
       "       7.6374684e-17, 9.4037884e-01], dtype=float32)"
      ]
     },
     "execution_count": 46,
     "metadata": {},
     "output_type": "execute_result"
    }
   ],
   "source": [
    "### 0번째 예측결과만 추출해 보기\n",
    "test_pred[0]"
   ]
  },
  {
   "cell_type": "code",
   "execution_count": null,
   "id": "6a68ead6",
   "metadata": {
    "id": "6a68ead6",
    "outputId": "f6d2d763-62aa-4aa7-b825-ccbbdaeda692"
   },
   "outputs": [
    {
     "data": {
      "text/plain": [
       "9"
      ]
     },
     "execution_count": 47,
     "metadata": {},
     "output_type": "execute_result"
    }
   ],
   "source": [
    "### 0번째 정답 출력하기\n",
    "test_target[0]"
   ]
  },
  {
   "cell_type": "code",
   "execution_count": null,
   "id": "9b8aa5fe",
   "metadata": {
    "id": "9b8aa5fe",
    "outputId": "1ff7d9cb-5fb7-47e0-d4d1-c5d6c78a5009"
   },
   "outputs": [
    {
     "data": {
      "text/plain": [
       "(9, 9)"
      ]
     },
     "execution_count": 49,
     "metadata": {},
     "output_type": "execute_result"
    }
   ],
   "source": [
    "### 예측값과 정답 비교하기\n",
    "# 예측값 10개의 확률데이터 중에 가장 높은 값의 위치값을 반환함\n",
    "#  - 반환된 위치값이 종속변수의 예측 라벨값이 됨\n",
    "np.argmax(test_pred[0]), test_target[0]"
   ]
  },
  {
   "cell_type": "code",
   "execution_count": null,
   "id": "d8c3afaf",
   "metadata": {
    "id": "d8c3afaf",
    "outputId": "22c635f1-db1a-412b-d2e6-b9841714b60d"
   },
   "outputs": [
    {
     "data": {
      "text/plain": [
       "(2, 2)"
      ]
     },
     "execution_count": 51,
     "metadata": {},
     "output_type": "execute_result"
    }
   ],
   "source": [
    "np.argmax(test_pred[1]), test_target[1]"
   ]
  },
  {
   "cell_type": "code",
   "execution_count": null,
   "id": "d0750b5f",
   "metadata": {
    "id": "d0750b5f",
    "outputId": "6db04baf-fdb4-43b6-b56c-4df9feef7dd6"
   },
   "outputs": [
    {
     "name": "stdout",
     "output_type": "stream",
     "text": [
      "정답 갯수 : 8453\n",
      "오답 갯수 : 1547\n",
      "정답률 : 0.8453\n",
      "오답률 : 0.1547\n"
     ]
    }
   ],
   "source": [
    "### 정답갯수, 오답갯수, 정답률, 오답률 출력\n",
    "\n",
    "### 예측 결과의 모든 행에서 -> 가장 높은 값을 가지는 열의 위치값을 추출하기\n",
    "# - axis=1 : 열을 의미 (열 중에 가장 높은 값을 가지는 위치값 추출)\n",
    "test_pred_max_idx = np.argmax(test_pred, axis=1)\n",
    "len(test_pred_max_idx), test_pred_max_idx\n",
    "\n",
    "### 정답갯수 확인하기\n",
    "ok = np.sum(test_pred_max_idx == test_target)\n",
    "print(f\"정답 갯수 : {ok}\")\n",
    "\n",
    "### 오답갯수 확인하기\n",
    "no = np.sum(test_pred_max_idx != test_target)\n",
    "print(f\"오답 갯수 : {no}\")\n",
    "\n",
    "### 정답률 확인하기\n",
    "ok_p = ok / len(test_target)\n",
    "print(f\"정답률 : {ok_p}\")\n",
    "\n",
    "### 오답률 확인하기\n",
    "no_p = no / len(test_target)\n",
    "print(f\"오답률 : {no_p}\")"
   ]
  },
  {
   "cell_type": "markdown",
   "id": "54e97659",
   "metadata": {
    "id": "54e97659"
   },
   "source": [
    "##### 성능향상 방법 : <훈련(fit) 중 최적화 시점의 모델 저장하기>"
   ]
  },
  {
   "cell_type": "markdown",
   "id": "1162c9af",
   "metadata": {},
   "source": [
    "- 최적화 시점의 모델 저장\n",
    "    - 훈련 반복(fit) 중 가장 좋은 시점(손실이 적거나, 더이상 손실이 낮아지지 않는 시점)의 모델을 저장해서 사용하는 방법을 의미합니다.\n",
    "\n",
    "- 콜백(Callback) 함수란?\n",
    "    - 모델 훈련 중에 특정 작업(함수)을 호출(call)하여 수행하고자 할 때 사용\n",
    "    - 훈련 시에 fit 함수에 적용하여 사용\n",
    "    - 훈련 중에 발생시키는 함수라는 의미로 -> \"이벤트(event) 함수\"라고도 함\n",
    "    - 별도의 계층은 아님 fit함수의 속성(매개변수)로 사용\n",
    "\n",
    "\n",
    "- 최적화 시점의 모델 저장 및 훈련 종료를 위한 콜백(Callback) 함수 종류\n",
    "    - 1. ModelCheckpoint() 함수 : 모델(model) 확인(check) 시점(point) 확인 함수\n",
    "        - epoch 마다 모델을 저장하는 기능을 수행하는 함수\n",
    "        - 단, 이전 epoch에서 실행된 훈련 성능보다 높아진 경우에만 저장됨\n",
    "\n",
    "    - 2. EaralyStopping() 함수 : 조기(earaly) 종료(stopping) 함수\n",
    "        - 훈련이 더 이상 좋와지지 않으면(loss 기준) 훈련을 종료시키는 함수\n",
    "        - \"일반적으로 ModelCheckpoint()와 함께 사용함\""
   ]
  },
  {
   "cell_type": "code",
   "execution_count": null,
   "id": "1da4bee3",
   "metadata": {
    "id": "1da4bee3"
   },
   "outputs": [],
   "source": [
    "### 모델 생성하기\n",
    "model = keras.Sequential(name=\"Model\")\n",
    "\n",
    "### 입력계층 생성 및 추가하기\n",
    "model.add(\n",
    "    keras.layers.Dense(units=100, activation=\"relu\",\n",
    "                        input_shape=(784,), name=\"Input-Layer\")\n",
    ")\n",
    "\n",
    "### 은닉계층 생성 및 추가하기\n",
    "model.add(\n",
    "    keras.layers.Dense(units=100, activation=\"relu\", name=\"Hidden_Layer01\")\n",
    ")\n",
    "\n",
    "### 출력계층 생성 및 모델에 추가하기\n",
    "model.add(\n",
    "    keras.layers.Dense(units=10, activation=\"softmax\", name=\"Output-Layer\")\n",
    ")\n",
    "\n",
    "adam = keras.optimizers.Adam(learning_rate = 0.01)\n",
    "\n",
    "model.compile(\n",
    "    optimizer = adam,\n",
    "    loss = \"sparse_categorical_crossentropy\",\n",
    "    metrics = \"accuracy\"\n",
    ")"
   ]
  },
  {
   "cell_type": "code",
   "execution_count": null,
   "id": "225d40a0",
   "metadata": {
    "id": "225d40a0",
    "outputId": "5526a4c4-66cd-460a-fe96-3a72aa87f1de"
   },
   "outputs": [
    {
     "data": {
      "text/plain": [
       "<keras.callbacks.ModelCheckpoint at 0x1f9a28b24f0>"
      ]
     },
     "execution_count": 62,
     "metadata": {},
     "output_type": "execute_result"
    }
   ],
   "source": [
    "### 모델 저장시키는 콜백함수 정의하기\n",
    "checkpoint_cb = keras.callbacks.ModelCheckpoint(\n",
    "    # 저장할 위치 지정\n",
    "    \"./model/best_model.h5\",\n",
    "\n",
    "    # epoch 마다 훈련 모델 자동 저장 여부 설정\n",
    "    #  - save_best_only = True : 모델 성능이 좋아질 때만 자동 저장\n",
    "    #  - save_best_only = False : epoch 마다 자동 저장\n",
    "    save_best_only = True\n",
    ")\n",
    "\n",
    "checkpoint_cb"
   ]
  },
  {
   "cell_type": "code",
   "execution_count": null,
   "id": "9ed699ce",
   "metadata": {
    "id": "9ed699ce",
    "outputId": "d8ec7135-c18e-46aa-ec0e-9403ee6cbe97"
   },
   "outputs": [
    {
     "name": "stdout",
     "output_type": "stream",
     "text": [
      "Epoch 1/10\n",
      "1500/1500 [==============================] - 5s 3ms/step - loss: 0.5711 - accuracy: 0.7951 - val_loss: 0.4793 - val_accuracy: 0.8338\n",
      "Epoch 2/10\n",
      "1500/1500 [==============================] - 4s 3ms/step - loss: 0.4657 - accuracy: 0.8350 - val_loss: 0.4324 - val_accuracy: 0.8438\n",
      "Epoch 3/10\n",
      "1500/1500 [==============================] - 4s 3ms/step - loss: 0.4397 - accuracy: 0.8415 - val_loss: 0.4391 - val_accuracy: 0.8429\n",
      "Epoch 4/10\n",
      "1500/1500 [==============================] - 4s 3ms/step - loss: 0.4200 - accuracy: 0.8490 - val_loss: 0.4381 - val_accuracy: 0.8486\n",
      "Epoch 5/10\n",
      "1500/1500 [==============================] - 4s 2ms/step - loss: 0.4073 - accuracy: 0.8530 - val_loss: 0.4583 - val_accuracy: 0.8472\n",
      "Epoch 6/10\n",
      "1500/1500 [==============================] - 4s 3ms/step - loss: 0.4026 - accuracy: 0.8578 - val_loss: 0.4537 - val_accuracy: 0.8294\n",
      "Epoch 7/10\n",
      "1500/1500 [==============================] - 4s 3ms/step - loss: 0.3867 - accuracy: 0.8611 - val_loss: 0.4512 - val_accuracy: 0.8401\n",
      "Epoch 8/10\n",
      "1500/1500 [==============================] - 4s 3ms/step - loss: 0.3843 - accuracy: 0.8647 - val_loss: 0.4203 - val_accuracy: 0.8524\n",
      "Epoch 9/10\n",
      "1500/1500 [==============================] - 4s 2ms/step - loss: 0.3783 - accuracy: 0.8647 - val_loss: 0.4455 - val_accuracy: 0.8527\n",
      "Epoch 10/10\n",
      "1500/1500 [==============================] - 4s 3ms/step - loss: 0.3777 - accuracy: 0.8670 - val_loss: 0.4360 - val_accuracy: 0.8558\n"
     ]
    }
   ],
   "source": [
    "### 훈련 시 콜백함수 사용하기\n",
    "history = model.fit(\n",
    "    train_scaled, train_target, epochs=10,\n",
    "    validation_data=(val_scaled, val_target),\n",
    "\n",
    "    # 콜백함수 정의하기\n",
    "    callbacks = [checkpoint_cb]\n",
    ")"
   ]
  },
  {
   "cell_type": "code",
   "execution_count": null,
   "id": "e53f79b5",
   "metadata": {
    "id": "e53f79b5",
    "outputId": "e5db4bf5-f23d-4994-9198-0474ce6d81cb"
   },
   "outputs": [
    {
     "data": {
      "text/plain": [
       "array([[7.3349167e-11, 3.4458174e-06, 1.8131883e-13, ..., 1.3989516e-01,\n",
       "        7.8927515e-05, 7.7165663e-01],\n",
       "       [2.8061128e-04, 8.0120044e-06, 9.8402047e-01, ..., 5.0595381e-20,\n",
       "        3.3874963e-05, 1.8846844e-13],\n",
       "       [4.8647455e-18, 1.0000000e+00, 2.7724316e-17, ..., 0.0000000e+00,\n",
       "        5.9404377e-25, 0.0000000e+00],\n",
       "       ...,\n",
       "       [3.0049264e-06, 3.2973693e-11, 2.2714768e-07, ..., 4.8344242e-11,\n",
       "        9.9999630e-01, 8.8274908e-17],\n",
       "       [5.1862308e-12, 1.0000000e+00, 4.4641749e-11, ..., 1.0187867e-29,\n",
       "        3.8040502e-13, 6.0763219e-26],\n",
       "       [1.1748404e-07, 4.3048384e-10, 1.7725584e-10, ..., 7.3309807e-06,\n",
       "        8.3687661e-07, 1.4449509e-08]], dtype=float32)"
      ]
     },
     "execution_count": 64,
     "metadata": {},
     "output_type": "execute_result"
    }
   ],
   "source": [
    "### 저장된 베스트 모델 불러들여서 예측\n",
    "model_cb = keras.models.load_model(\"./model/best_model.h5\")\n",
    "model_cb.predict(test_scaled_2d)"
   ]
  },
  {
   "cell_type": "markdown",
   "id": "28351709",
   "metadata": {
    "id": "28351709"
   },
   "source": [
    "##### 훈련 자동 종료 시키는 -> 콜백함수 사용하기"
   ]
  },
  {
   "cell_type": "markdown",
   "id": "cd0d55e9",
   "metadata": {},
   "source": [
    "- 최적의 모델 저장 및 훈련 자동 종료는 주로 함께 사용"
   ]
  },
  {
   "cell_type": "code",
   "execution_count": null,
   "id": "7f11f56c",
   "metadata": {
    "id": "7f11f56c"
   },
   "outputs": [],
   "source": [
    "### 모델 생성하기\n",
    "model = keras.Sequential(name=\"Model\")\n",
    "\n",
    "### 입력계층 생성 및 추가하기\n",
    "model.add(\n",
    "    keras.layers.Dense(units=100, activation=\"relu\",\n",
    "                        input_shape=(784,), name=\"Input-Layer\")\n",
    ")\n",
    "\n",
    "### 은닉계층 생성 및 추가하기\n",
    "model.add(\n",
    "    keras.layers.Dense(units=100, activation=\"relu\", name=\"Hidden_Layer01\")\n",
    ")\n",
    "\n",
    "### 출력계층 생성 및 모델에 추가하기\n",
    "model.add(\n",
    "    keras.layers.Dense(units=10, activation=\"softmax\", name=\"Output-Layer\")\n",
    ")\n",
    "\n",
    "adam = keras.optimizers.Adam(learning_rate = 0.01)\n",
    "\n",
    "model.compile(\n",
    "    optimizer = adam,\n",
    "    loss = \"sparse_categorical_crossentropy\",\n",
    "    metrics = \"accuracy\"\n",
    ")"
   ]
  },
  {
   "cell_type": "code",
   "execution_count": null,
   "id": "93bb00f9",
   "metadata": {
    "id": "93bb00f9",
    "outputId": "9f774aa6-bfe8-4e87-9e43-a03f0d289d92"
   },
   "outputs": [
    {
     "data": {
      "text/plain": [
       "<keras.callbacks.ModelCheckpoint at 0x1f9a5be2bb0>"
      ]
     },
     "execution_count": 66,
     "metadata": {},
     "output_type": "execute_result"
    }
   ],
   "source": [
    "### 모델 저장시키는 콜백함수 정의하기\n",
    "checkpoint_cb = keras.callbacks.ModelCheckpoint(\n",
    "    # 저장할 위치 지정\n",
    "    \"./model/best_model.h5\",\n",
    "\n",
    "    # epoch 마다 훈련 모델 자동 저장 여부 설정\n",
    "    #  - save_best_only = True : 모델 성능이 좋아질 때만 자동 저장\n",
    "    #  - save_best_only = False : epoch 마다 자동 저장\n",
    "    save_best_only = True\n",
    ")\n",
    "checkpoint_cb"
   ]
  },
  {
   "cell_type": "code",
   "execution_count": null,
   "id": "30c47258",
   "metadata": {
    "id": "30c47258",
    "outputId": "a23e20de-7a61-4867-bd1b-8135091c2a98"
   },
   "outputs": [
    {
     "data": {
      "text/plain": [
       "<keras.callbacks.EarlyStopping at 0x1f9a5bd23a0>"
      ]
     },
     "execution_count": 67,
     "metadata": {},
     "output_type": "execute_result"
    }
   ],
   "source": [
    "### 훈련 자동 종료 시키는 콜백함수 정의\n",
    "early_stopping_cb = keras.callbacks.EarlyStopping(\n",
    "    # 더 이상 좋아지지 않는 epoch의 갯수 지정\n",
    "    #  - 가장 좋은 시점의 epoch 이후 2번 더 수행 후\n",
    "    #    -- 그래도 좋와지지 않으면 종료시킨다는 의미\n",
    "    #  - 주로 2 또는 3을 사용\n",
    "    patience = 2,\n",
    "\n",
    "    # 종료 시점에 가장 낮은 검증 손실일 때의 하이퍼파라메터로 모델 업데이트 시킴\n",
    "    #  - 가중치 업데이트\n",
    "    restore_best_weights = True\n",
    ")\n",
    "\n",
    "early_stopping_cb"
   ]
  },
  {
   "cell_type": "code",
   "execution_count": null,
   "id": "66698bf6",
   "metadata": {
    "id": "66698bf6",
    "outputId": "4b46ff8d-b433-4338-8afd-a467aa4c05f7"
   },
   "outputs": [
    {
     "name": "stdout",
     "output_type": "stream",
     "text": [
      "Epoch 1/1000\n",
      "1500/1500 [==============================] - 5s 3ms/step - loss: 0.5577 - accuracy: 0.8005 - val_loss: 0.5201 - val_accuracy: 0.8100\n",
      "Epoch 2/1000\n",
      "1500/1500 [==============================] - 4s 3ms/step - loss: 0.4520 - accuracy: 0.8400 - val_loss: 0.4281 - val_accuracy: 0.8429\n",
      "Epoch 3/1000\n",
      "1500/1500 [==============================] - 4s 3ms/step - loss: 0.4351 - accuracy: 0.8459 - val_loss: 0.4417 - val_accuracy: 0.8397\n",
      "Epoch 4/1000\n",
      "1500/1500 [==============================] - 4s 3ms/step - loss: 0.4183 - accuracy: 0.8491 - val_loss: 0.4322 - val_accuracy: 0.8464\n"
     ]
    }
   ],
   "source": [
    "### 훈련 시 콜백함수 사용하기\n",
    "history = model.fit(\n",
    "    train_scaled, train_target, epochs=1000,\n",
    "    validation_data=(val_scaled, val_target),\n",
    "\n",
    "    # 콜백함수 정의하기\n",
    "    callbacks = [checkpoint_cb, early_stopping_cb]\n",
    ")"
   ]
  },
  {
   "cell_type": "code",
   "execution_count": null,
   "id": "491ee78c",
   "metadata": {
    "id": "491ee78c",
    "outputId": "6af31654-ee2e-44b4-c36b-d0eed141b9b1"
   },
   "outputs": [
    {
     "name": "stdout",
     "output_type": "stream",
     "text": [
      "1500/1500 [==============================] - 3s 2ms/step - loss: 0.4041 - accuracy: 0.8491\n",
      "375/375 [==============================] - 1s 2ms/step - loss: 0.4281 - accuracy: 0.8429\n",
      "훈련 : 0.4041164815425873 / 0.8491458296775818\n",
      "검증 : 0.4280591309070587 / 0.8429166674613953\n"
     ]
    }
   ],
   "source": [
    "### 최적의 모델 불러들이기\n",
    "# - 훈련 성능 평가\n",
    "# - 검증 성능 평가\n",
    "\n",
    "model_all = keras.models.load_model(\"./model/best_model.h5\")\n",
    "train_score = model_all.evaluate(train_scaled, train_target)\n",
    "val_score = model_all.evaluate(val_scaled, val_target)\n",
    "\n",
    "print(f\"훈련 : {train_score[0]} / {train_score[1]}\")\n",
    "print(f\"검증 : {val_score[0]} / {val_score[1]}\")"
   ]
  },
  {
   "cell_type": "markdown",
   "id": "19f43071",
   "metadata": {
    "id": "19f43071"
   },
   "source": [
    "### 성능향상 : 성능규제(Dropout) 방법"
   ]
  },
  {
   "cell_type": "markdown",
   "id": "d9acb27d",
   "metadata": {},
   "source": [
    "- 성능 규제\n",
    "    - 성능(과적합 여부 포함)을 높이기 위한 방법\n",
    "    - 보통 \"전처리 계층\"을 사용\n",
    "    - 전처리 계층은 훈련에 영향을 미치지 않음\n",
    "\n",
    "- 성능 규제 방법\n",
    "    * Dropout(드롭아웃) 방법을 사용함\n",
    "    - 훈련 과정 중에 일부 \"특성\"들을 랜덤하게 제외 시켜서 과대/과소 적합을 해소하는 방법\n",
    "    - 딥러닝에서 자주 사용되는\" 전처리 계층\"으로 성능 개선에 효율적으로 사용됨\n",
    "    - 주로 \"과대적합\"이 발생한 경우에 사용하면 일반화에 효과가 있음\n",
    "        - 드롭아웃은 조금 멍청하게 만드는 개념\n",
    "\n",
    "    * Dropout 적용방법\n",
    "        - 은닉계층(Hidden Layer)으로 추가하여 주로 사용됨\n",
    "        - 제외시킬 값을 비율로 정의"
   ]
  },
  {
   "cell_type": "code",
   "execution_count": null,
   "id": "836d9db8",
   "metadata": {
    "id": "836d9db8"
   },
   "outputs": [],
   "source": [
    "### 모델 생성하기\n",
    "model = keras.Sequential(name=\"Model\")\n",
    "\n",
    "### 입력계층 생성 및 추가하기\n",
    "model.add(\n",
    "    keras.layers.Dense(units=100, activation=\"relu\",\n",
    "                        input_shape=(784,), name=\"Input-Layer\")\n",
    ")\n",
    "\n",
    "### 주로 입력 계층 다음에 성능규제(Dropout) 계층을 사용\n",
    "# - 전처리 계층\n",
    "# - Dropout(0.3) : 0.3은 30%를 의미함\n",
    "# - 사용되는 특성 중 랜덤하게 30%를 제거하고 다음 계층에 넘겨줌\n",
    "# - **** 단, 제거는 하되 넘겨줄때 출력 갯수는 입력 갯수와 동일한 사이즈로 넘겨줌 ****\n",
    "model.add(\n",
    "    keras.layers.Dropout(0.3)\n",
    ")\n",
    "\n",
    "### 은닉계층 생성 및 추가하기\n",
    "model.add(\n",
    "    keras.layers.Dense(units=100, activation=\"relu\", name=\"Hidden_Layer01\")\n",
    ")\n",
    "\n",
    "### 출력계층 생성 및 모델에 추가하기\n",
    "model.add(\n",
    "    keras.layers.Dense(units=10, activation=\"softmax\", name=\"Output-Layer\")\n",
    ")\n",
    "\n",
    "adam = keras.optimizers.Adam(learning_rate = 0.01)\n",
    "\n",
    "model.compile(\n",
    "    optimizer = adam,\n",
    "    loss = \"sparse_categorical_crossentropy\",\n",
    "    metrics = \"accuracy\"\n",
    ")"
   ]
  },
  {
   "cell_type": "code",
   "execution_count": null,
   "id": "fd707139",
   "metadata": {
    "id": "fd707139",
    "outputId": "834f17dc-8828-4838-a8c0-ecd5a609ef33"
   },
   "outputs": [
    {
     "name": "stdout",
     "output_type": "stream",
     "text": [
      "Model: \"Model\"\n",
      "_________________________________________________________________\n",
      " Layer (type)                Output Shape              Param #   \n",
      "=================================================================\n",
      " Input-Layer (Dense)         (None, 100)               78500     \n",
      "                                                                 \n",
      " dropout_1 (Dropout)         (None, 100)               0         \n",
      "                                                                 \n",
      " Hidden_Layer01 (Dense)      (None, 100)               10100     \n",
      "                                                                 \n",
      " Output-Layer (Dense)        (None, 10)                1010      \n",
      "                                                                 \n",
      "=================================================================\n",
      "Total params: 89,610\n",
      "Trainable params: 89,610\n",
      "Non-trainable params: 0\n",
      "_________________________________________________________________\n"
     ]
    }
   ],
   "source": [
    "model.summary()"
   ]
  },
  {
   "cell_type": "code",
   "execution_count": null,
   "id": "ecfbde52",
   "metadata": {
    "id": "ecfbde52",
    "outputId": "e1c666dd-1741-46c3-b4b4-56bf52e2bc24"
   },
   "outputs": [
    {
     "name": "stdout",
     "output_type": "stream",
     "text": [
      "Epoch 1/1000\n",
      "1500/1500 [==============================] - 4s 3ms/step - loss: 0.7387 - accuracy: 0.7250 - val_loss: 0.5706 - val_accuracy: 0.8016\n",
      "Epoch 2/1000\n",
      "1500/1500 [==============================] - 4s 2ms/step - loss: 0.6244 - accuracy: 0.7741 - val_loss: 0.4918 - val_accuracy: 0.8344\n",
      "Epoch 3/1000\n",
      "1500/1500 [==============================] - 4s 3ms/step - loss: 0.5949 - accuracy: 0.7890 - val_loss: 0.5092 - val_accuracy: 0.8180\n",
      "Epoch 4/1000\n",
      "1500/1500 [==============================] - 4s 3ms/step - loss: 0.5858 - accuracy: 0.7943 - val_loss: 0.5164 - val_accuracy: 0.8294\n"
     ]
    }
   ],
   "source": [
    "### 훈련 시 콜백함수 사용하기\n",
    "history = model.fit(\n",
    "    train_scaled, train_target, epochs=1000,\n",
    "    validation_data=(val_scaled, val_target),\n",
    "\n",
    "    # 콜백함수 정의하기\n",
    "    callbacks = [checkpoint_cb, early_stopping_cb]\n",
    ")"
   ]
  },
  {
   "cell_type": "code",
   "execution_count": null,
   "id": "060a3ef8",
   "metadata": {
    "id": "060a3ef8",
    "outputId": "154bc3d6-5bf0-4db9-d80d-8529fd1dcef5"
   },
   "outputs": [
    {
     "name": "stdout",
     "output_type": "stream",
     "text": [
      "1500/1500 [==============================] - 3s 2ms/step - loss: 0.4041 - accuracy: 0.8491\n",
      "375/375 [==============================] - 1s 2ms/step - loss: 0.4281 - accuracy: 0.8429\n",
      "훈련 : 0.4041164815425873 / 0.8491458296775818\n",
      "검증 : 0.4280591309070587 / 0.8429166674613953\n"
     ]
    },
    {
     "data": {
      "text/plain": [
       "'\\n훈련 : 0.4041164815425873 / 0.8491458296775818\\n검증 : 0.4280591309070587 / 0.8429166674613953\\n'"
      ]
     },
     "execution_count": 77,
     "metadata": {},
     "output_type": "execute_result"
    }
   ],
   "source": [
    "### 최적의 모델 불러들이기\n",
    "# - 훈련 성능 평가\n",
    "# - 검증 성능 평가\n",
    "\n",
    "model_all = keras.models.load_model(\"./model/best_model.h5\")\n",
    "train_score = model_all.evaluate(train_scaled, train_target)\n",
    "val_score = model_all.evaluate(val_scaled, val_target)\n",
    "\n",
    "print(f\"훈련 : {train_score[0]} / {train_score[1]}\")\n",
    "print(f\"검증 : {val_score[0]} / {val_score[1]}\")\n",
    "\n",
    "\n",
    "# 훈련 : 0.4041164815425873 / 0.8491458296775818\n",
    "# 검증 : 0.4280591309070587 / 0.8429166674613953"
   ]
  }
 ],
 "metadata": {
  "colab": {
   "provenance": []
  },
  "kernelspec": {
   "display_name": "pk_dl_gpu_kernel",
   "language": "python",
   "name": "pk_dl_gpu"
  },
  "language_info": {
   "codemirror_mode": {
    "name": "ipython",
    "version": 3
   },
   "file_extension": ".py",
   "mimetype": "text/x-python",
   "name": "python",
   "nbconvert_exporter": "python",
   "pygments_lexer": "ipython3",
   "version": "3.9.21"
  }
 },
 "nbformat": 4,
 "nbformat_minor": 5
}
