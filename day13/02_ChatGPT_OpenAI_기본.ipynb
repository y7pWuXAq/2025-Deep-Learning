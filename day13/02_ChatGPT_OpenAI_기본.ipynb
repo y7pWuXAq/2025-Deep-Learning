{
 "cells": [
  {
   "cell_type": "markdown",
   "id": "7a8468c0",
   "metadata": {},
   "source": [
    "- ChatGPT\n",
    "    - OpenAI 재단에서 만든 대용량 언어 모델(LLM, Large Language Model)\n",
    "    - 대화형 모델로 이름을 ChatGPT라고 칭함\n",
    "    - 사용 라이브러리 : openai \n",
    "    - 설치 : pip install openai\n",
    "    - openai 사용을 위해서는 : openai 계정 및 api-key 발급을 받아야 함\n",
    "        - 카드 등록이 필수 (최초 무료, 이후 유료)\n",
    "        - 일정 금액을 충전 방식으로 사용하기에 지속적인 과금은 발생되지 않음\n",
    "        - 보통 5$에서 10$ 정도 충전 후 테스트로 사용\n",
    "        - 충전 금액이 소진되면, 자동으로 openai 사용이 막힘(과금 안됨)\n",
    " - openai 사용 모델(모두 유료 모델) : GPT-3.5 Turbo, GPT-4o, GPT-4mini 등등"
   ]
  },
  {
   "cell_type": "markdown",
   "id": "7692b3fe",
   "metadata": {},
   "source": [
    "- ChatGPT 사용을 위한 OpenAI 라이브러리 설치\n",
    "    - openai 사이트에 접속\n",
    "    - URL 접속 : https://platform.openai.com\n",
    "\n",
    "    - 사용자 계정 등록(SNS 계정으로 로그인해도 됨)\n",
    " \n",
    "    - api-key 발급\n",
    "        - 왼쪽 메뉴에서 [API keys] 클릭 \n",
    "        - Create new secret key 클릭\n",
    "        - Owned by는 You 선택 / Name은 임의로 입력(\"openai-key\")\n",
    "        - / project는 Default 선택 / ALL 체크 > Create secret key 버튼 클릭\n",
    "        - api-key 창이 뜨면 [Copy]하여 개인적으로 관리하기\n",
    "\n",
    "    - 결재 정보 등록 및 결재 하기\n",
    "    - 왼쪽 메뉴에서 [Billing] 클릭\n",
    "    - 상단 탭 메뉴에서 [Payment methods(결재 방법)] 클릭 > [Add payment method(결재 방법 추가)] 클릭\n",
    "    - 상단 탭 메뉴에서 [Overview(개요)] 클릭 > [Add to credit balance(신용 잔액 추가)] 클릭\n",
    "        - Amount to add(추가할 금액)에 \"5$ 또는 10%\" 입력\n",
    "        - Payment method(결제 방법) 선택 : 위에서 등록한 카드 선택\n",
    "        - [Continue] 버튼 클릭\n",
    "\n",
    "    - 전체 종료 : 이후부터는 프로그램 처리\n",
    "\n",
    "- openai API를 사용하기 위하여 아래 라이브러리 설치\n",
    "  - pip install openai"
   ]
  },
  {
   "cell_type": "code",
   "execution_count": 3,
   "id": "8da545b5",
   "metadata": {},
   "outputs": [],
   "source": [
    "### 라이브러리 정의하기\n",
    "import openai"
   ]
  },
  {
   "cell_type": "code",
   "execution_count": 4,
   "id": "5c277a61",
   "metadata": {},
   "outputs": [],
   "source": [
    "### OpenAI API-Key 설정하기\n",
    "# - 보안을 위해 가급적 외부 파일에 저장하여 import하여 사용\n",
    "from api_key import openai_api_key\n",
    "\n",
    "api_key = openai_api_key.API_KEY"
   ]
  },
  {
   "cell_type": "markdown",
   "id": "0d5dd6af",
   "metadata": {},
   "source": [
    "### 사용할 GPT 모델 설정하기"
   ]
  },
  {
   "cell_type": "code",
   "execution_count": 5,
   "id": "9355ae12",
   "metadata": {},
   "outputs": [
    {
     "data": {
      "text/plain": [
       "'gpt-3.5-turbo'"
      ]
     },
     "execution_count": 5,
     "metadata": {},
     "output_type": "execute_result"
    }
   ],
   "source": [
    "model = \"gpt-3.5-turbo\"\n",
    "# model = \"gpt-4\"\n",
    "model"
   ]
  },
  {
   "cell_type": "markdown",
   "id": "5729d630",
   "metadata": {},
   "source": [
    "### openai 클래스 생성하기"
   ]
  },
  {
   "cell_type": "code",
   "execution_count": 6,
   "id": "5e4cabe9",
   "metadata": {},
   "outputs": [
    {
     "data": {
      "text/plain": [
       "<openai.OpenAI at 0x1fc0b684700>"
      ]
     },
     "execution_count": 6,
     "metadata": {},
     "output_type": "execute_result"
    }
   ],
   "source": [
    "### 클래스 생성 시 api-key 등록을 동시에 진행함\n",
    "client = openai.OpenAI(\n",
    "    api_key=api_key\n",
    ")\n",
    "client"
   ]
  },
  {
   "cell_type": "markdown",
   "id": "014d4c67",
   "metadata": {},
   "source": [
    "### GPT를 통해 질문하는 방법"
   ]
  },
  {
   "cell_type": "code",
   "execution_count": null,
   "id": "453131f0",
   "metadata": {},
   "outputs": [],
   "source": [
    "\"\"\"\n",
    "<ChatGPT 대화 기능>\n",
    " - 대화 시작 함수 : completions.create()\n",
    "\"\"\"\n",
    "### 질문 및 답변 처리\n",
    "# - 반환값 답변\n",
    "response1 = client.chat.completions.create(\n",
    "    ### 사용할 모델 정의\n",
    "    model=model,\n",
    "    \n",
    "    ### 질문 처리\n",
    "    # - messages : 사용자(user)가 질문을 작성하는 부분(질문이 입력되는 부분)\n",
    "    # - role : 역할 구분 (user : 질문자를 의미함)\n",
    "    # - content : 질문 내용 정의\n",
    "    messages = [{\n",
    "        \"role\" : \"user\",\n",
    "        \"content\" : \"Say this is a test\"\n",
    "    }],\n",
    "    \n",
    "    ### 응답(답변)의 창의성 정도를 조절하는 매개변수\n",
    "    # - 값의 범위 : 0.0~2.0(기본값 1)\n",
    "    # - 0에 가까울 수록 : 질문에 맞는 값을 생성하는 범위가 좁음\n",
    "    # - 2에 가까울 수록 : 모델이 창의적으로 생성 값의 범위를 넓게 찾음\n",
    "    temperature = 1,\n",
    "   \n",
    "    ### 모델이 응답을 생성할 때 고려할 토큰(단어)의 범위를 조절하는 매개변수\n",
    "    # - 값의 범위 : 0.0~1.0 (기본값 1)\n",
    "    # - 0에 가까울 수록 : 가장 확률이 높은 단일 토큰을 선택\n",
    "    # - 1에 가까울 수록 : 전체 분포에서 샘플링함\n",
    "    top_p = 0.5,\n",
    "   \n",
    "    ### 새로운 주제나 단어를 포함시키려는 경향을 증가시키는 매개변수\n",
    "    # - 값의 범위 : 0.0~2.0(기본값 0)\n",
    "    # - 2에 가까울 수록 : 새로운 주제에 대한 샘플링을 수행함\n",
    "    presence_penalty = 0.5,\n",
    "   \n",
    "    ### 같은 단어를 반복해서 사용하는 것을 얼마나 억제할지 결정하는 매개변수\n",
    "    # - 값의 범위 : 0.0~2.0(기본값 0)\n",
    "    # - 2에 가까울 수록 : 이미 생성한 단어를 자제하고 다양한 중복되지 않은 텍스트 생성\n",
    "    frequency_penalty = 1.5,\n",
    "   \n",
    "    ### 질문에 대한 답변의 갯수를 지정함\n",
    "    # - 값의 범위 : 1이상 (기본값 1)\n",
    "    # - n의 값을 1 이상으로 하게되면,\n",
    "    #    --> 질문에 대한 같은 답변을 1이상 하게되는 현상이 발생함(1 사용을 권장)\n",
    "    n = 1,\n",
    "   \n",
    "    ### 답변의 최대 토큰수(글자수)를 지정함\n",
    "    # - 값의 범위 : 1이상 (기본값 : 모델의 최대 토큰수가 됨)\n",
    "    # - 토큰수에 따라 요금이 부과됨\n",
    "    #   (테스트를 위해서는 보통 50 이내로 사용하면 과금이 적게 나옴)\n",
    "    # - 값을 크게 할 수록 답변의 글자수가 많아 지기에, 처리 속도가 느려짐\n",
    "    max_tokens = 10,\n",
    "   \n",
    "    ### 정지 문자 설정\n",
    "    # - None : 답변을 끝까지 생성(별도의 중지 문자 사용 안함)\n",
    "    # - 사용할 경우 : [\"\\n\", \"end of text\"] 예시 처럼 리스트로 작성함\n",
    "    #   --> 중지 문자를 사용할 경우, 해당 문자를 인지하는 시점에 답변을 종료함\n",
    "    stop = None\n",
    ")"
   ]
  },
  {
   "cell_type": "code",
   "execution_count": 8,
   "id": "2c91d4ec",
   "metadata": {},
   "outputs": [
    {
     "data": {
      "text/plain": [
       "ChatCompletion(id='chatcmpl-BjdvTQSmYaHWaIvCOTuWeQaKElyH7', choices=[Choice(finish_reason='stop', index=0, logprobs=None, message=ChatCompletionMessage(content='This is a test.', refusal=None, role='assistant', annotations=[], audio=None, function_call=None, tool_calls=None))], created=1750217935, model='gpt-3.5-turbo-0125', object='chat.completion', service_tier='default', system_fingerprint=None, usage=CompletionUsage(completion_tokens=5, prompt_tokens=12, total_tokens=17, completion_tokens_details=CompletionTokensDetails(accepted_prediction_tokens=0, audio_tokens=0, reasoning_tokens=0, rejected_prediction_tokens=0), prompt_tokens_details=PromptTokensDetails(audio_tokens=0, cached_tokens=0)))"
      ]
     },
     "execution_count": 8,
     "metadata": {},
     "output_type": "execute_result"
    }
   ],
   "source": [
    "### 답변 출력하기\n",
    "response1"
   ]
  },
  {
   "cell_type": "code",
   "execution_count": 9,
   "id": "70c92ef7",
   "metadata": {},
   "outputs": [
    {
     "name": "stdout",
     "output_type": "stream",
     "text": [
      "[답변] :  This is a test.\n"
     ]
    }
   ],
   "source": [
    "\"\"\"\n",
    "ChatCompletion(\n",
    "    id='chatcmpl-BjdljQoSKhWnjjq0nzfAifp3jk7Dj', \n",
    "    choices=[Choice(finish_reason='stop', \n",
    "                        index=0, logprobs=None, \n",
    "                        message=ChatCompletionMessage(\n",
    "                            content='This is a test.', \n",
    "                            refusal=None, role='assistant', annotations=[], audio=None, function_call=None, tool_calls=None))], created=1750217331, model='gpt-3.5-turbo-0125', object='chat.completion', service_tier='default', system_fingerprint=None, usage=CompletionUsage(completion_tokens=5, prompt_tokens=12, total_tokens=17, completion_tokens_details=CompletionTokensDetails(accepted_prediction_tokens=0, audio_tokens=0, reasoning_tokens=0, rejected_prediction_tokens=0), prompt_tokens_details=PromptTokensDetails(audio_tokens=0, cached_tokens=0)))\n",
    "\"\"\"\n",
    "### 답변 추출\n",
    "# - content='This is a test.' 이 부분의 값이 답변 입니다.\n",
    "ans = response1.choices[0].message.content\n",
    "\n",
    "print(\"[답변] : \", ans)"
   ]
  }
 ],
 "metadata": {
  "kernelspec": {
   "display_name": "pk_dl2_kernel",
   "language": "python",
   "name": "pk_dl2"
  },
  "language_info": {
   "codemirror_mode": {
    "name": "ipython",
    "version": 3
   },
   "file_extension": ".py",
   "mimetype": "text/x-python",
   "name": "python",
   "nbconvert_exporter": "python",
   "pygments_lexer": "ipython3",
   "version": "3.9.23"
  }
 },
 "nbformat": 4,
 "nbformat_minor": 5
}
