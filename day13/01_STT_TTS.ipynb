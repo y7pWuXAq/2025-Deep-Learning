{
 "cells": [
  {
   "cell_type": "markdown",
   "id": "661253da",
   "metadata": {},
   "source": [
    "- STT\n",
    "    - 음성을 텍스트로 변환하는 기능 -> 스피커랑 마이크 필요\n",
    "    - SpeechRecognition 음성인식 라이브러리 사용(무료)\n",
    "\n",
    "- TTS\n",
    "    - 텍스트를 음성으로 변환하는 기능\n",
    "    - gTTS or pyttsx3 라이브러리 사용(무료)"
   ]
  },
  {
   "cell_type": "markdown",
   "id": "fc6c60ba",
   "metadata": {},
   "source": [
    "### TTS : 텍스트를 음성으로 변환하기"
   ]
  },
  {
   "cell_type": "markdown",
   "id": "f5b10e82",
   "metadata": {},
   "source": [
    "- gTTS 라이브러리 사용(음원 파일로 저장하는 방식)"
   ]
  },
  {
   "cell_type": "code",
   "execution_count": 1,
   "id": "46da036a",
   "metadata": {},
   "outputs": [],
   "source": [
    "### 라이브러리 정의\n",
    "# 설치 필요 : pip install gTTS\n",
    "\n",
    "from gtts import gTTS\n",
    "import os"
   ]
  },
  {
   "cell_type": "code",
   "execution_count": 2,
   "id": "9e65f922",
   "metadata": {},
   "outputs": [
    {
     "data": {
      "text/plain": [
       "'안녕하세요. 파이썬으로 한글을 음성으로 생성합니다.'"
      ]
     },
     "execution_count": 2,
     "metadata": {},
     "output_type": "execute_result"
    }
   ],
   "source": [
    "### 음성으로 표현할 임의 텍스트 정의하기\n",
    "kor_text = \"안녕하세요. 파이썬으로 한글을 음성으로 생성합니다.\"\n",
    "kor_text"
   ]
  },
  {
   "cell_type": "code",
   "execution_count": 3,
   "id": "5d4bc990",
   "metadata": {},
   "outputs": [
    {
     "data": {
      "text/plain": [
       "<gtts.tts.gTTS at 0x228b6a177f0>"
      ]
     },
     "execution_count": 3,
     "metadata": {},
     "output_type": "execute_result"
    }
   ],
   "source": [
    "### gTTS 함수 호출하기\n",
    "# 텍스트를 음성으로 변환하여 -> 음성으로 바로 말해주지는 않음\n",
    "# - 음성파일(mp3)로 저장하는 역할을 하는 라이브러리\n",
    "speech = gTTS(text=kor_text, lang=\"ko\")\n",
    "speech"
   ]
  },
  {
   "cell_type": "code",
   "execution_count": 4,
   "id": "4d5303c0",
   "metadata": {},
   "outputs": [],
   "source": [
    "### 생성한 gTTS의 음원을 mp3 파일로 저장시키기\n",
    "\n",
    "### mp3폴더가 존재하지 않으면 -> mp3 폴더를 생성\n",
    "if not os.path.exists(\"mp3\"):\n",
    "    os.makedirs(\"mp3\")\n",
    "\n",
    "### 음원파일 생성하기\n",
    "mp3_path = \"./mp3/text_to_speech.mp3\"\n",
    "speech.save(mp3_path)"
   ]
  },
  {
   "cell_type": "code",
   "execution_count": 5,
   "id": "f748e799",
   "metadata": {},
   "outputs": [
    {
     "data": {
      "text/plain": [
       "0"
      ]
     },
     "execution_count": 5,
     "metadata": {},
     "output_type": "execute_result"
    }
   ],
   "source": [
    "### 음원 파일 재생시키기\n",
    "\n",
    "# windows OS에서 실행명령\n",
    "os.system(f\"start {mp3_path}\")\n",
    "\n",
    "# macOS에서 실행명령\n",
    "#os.system(f\"afplay {mp3_path}\")\n",
    "\n",
    "# Linux OS에서 실행명령\n",
    "#os.system(f\"mpg321 {mp3_path}\")"
   ]
  },
  {
   "cell_type": "code",
   "execution_count": 6,
   "id": "5e52c1ad",
   "metadata": {},
   "outputs": [],
   "source": [
    "### 음원 파일 삭제하기\n",
    "# os.remove(mp3_path)"
   ]
  },
  {
   "cell_type": "markdown",
   "id": "2b6213fb",
   "metadata": {},
   "source": [
    "## pyttsx3 라이브러리 사용(텍스트를 음성으로 직접 말하기)"
   ]
  },
  {
   "cell_type": "code",
   "execution_count": 7,
   "id": "bb5c0fdc",
   "metadata": {},
   "outputs": [],
   "source": [
    "### 라이브러리 정의\n",
    "# 설치 필요 : pip install pyttsx3\n",
    "\n",
    "import pyttsx3"
   ]
  },
  {
   "cell_type": "code",
   "execution_count": 17,
   "id": "a78ee23e",
   "metadata": {},
   "outputs": [],
   "source": [
    "### 사용할 텍스트\n",
    "kor_text = \"시리야, 지금 몇시야?\""
   ]
  },
  {
   "cell_type": "code",
   "execution_count": 9,
   "id": "9eed28f6",
   "metadata": {},
   "outputs": [
    {
     "data": {
      "text/plain": [
       "<pyttsx3.engine.Engine at 0x228b6a17460>"
      ]
     },
     "execution_count": 9,
     "metadata": {},
     "output_type": "execute_result"
    }
   ],
   "source": [
    "### pyttsx3 엔진 초기화(객체 생성과 동일)\n",
    "engine = pyttsx3.init()\n",
    "engine"
   ]
  },
  {
   "cell_type": "code",
   "execution_count": 10,
   "id": "de2a1ae0",
   "metadata": {},
   "outputs": [
    {
     "name": "stdout",
     "output_type": "stream",
     "text": [
      "[<pyttsx3.voice.Voice object at 0x00000228B6CC0EE0>, <pyttsx3.voice.Voice object at 0x00000228B7228D00>]\n"
     ]
    },
    {
     "data": {
      "text/plain": [
       "<pyttsx3.voice.Voice at 0x228b6cc0ee0>"
      ]
     },
     "execution_count": 10,
     "metadata": {},
     "output_type": "execute_result"
    }
   ],
   "source": [
    "### pyttsx3 기본 설정하기(1)\n",
    "# 음성 엔진(목소리) 설정하기\n",
    "voices = engine.getProperty(\"voices\")\n",
    "print(voices)\n",
    "\n",
    "# 음성엔진 목소리 선택하기\n",
    "selected_voice = voices[0]\n",
    "selected_voice"
   ]
  },
  {
   "cell_type": "code",
   "execution_count": 11,
   "id": "56a9be28",
   "metadata": {},
   "outputs": [],
   "source": [
    "### pyttsx3 기본 설정하기(2)\n",
    "# - 음성 읽기 속도 정의\n",
    "# - 100 : 텍스트를 일반적인 읽기 속도로 읽기(기본값)\n",
    "# - 100 초과 : 텍스트를 더 빠른 속도로 읽음\n",
    "# - 100 미만 : 텍스트를 더 느린 속도로 읽음\n",
    "rate_value = 130\n",
    "engine.setProperty(\"rate\", rate_value)"
   ]
  },
  {
   "cell_type": "code",
   "execution_count": 12,
   "id": "1f59a202",
   "metadata": {},
   "outputs": [],
   "source": [
    "### pyttsx3 엔진 내에서 -> 텍스트를 음성으로 변환시켜 놓기\n",
    "engine.say(kor_text)"
   ]
  },
  {
   "cell_type": "code",
   "execution_count": 13,
   "id": "cb3f04c2",
   "metadata": {},
   "outputs": [],
   "source": [
    "### 변환된 음성 재생하기\n",
    "engine.runAndWait()"
   ]
  },
  {
   "cell_type": "markdown",
   "id": "3fac5856",
   "metadata": {},
   "source": [
    "### STT : 음성을 입력으로 받아서 텍스트로 변환"
   ]
  },
  {
   "cell_type": "code",
   "execution_count": 14,
   "id": "db820e38",
   "metadata": {},
   "outputs": [],
   "source": [
    "### 음성인식 라이브러리 설치\n",
    "# - 설치 필요 : pip install SpeechRecognition\n",
    "import speech_recognition as sr\n",
    "\n",
    "### 마이크에서 음성 추출 라이브러리\n",
    "# - 설치 필요: pip install pyaudio\n",
    "import pyaudio"
   ]
  },
  {
   "cell_type": "code",
   "execution_count": 15,
   "id": "76a47611",
   "metadata": {},
   "outputs": [
    {
     "data": {
      "text/plain": [
       "<speech_recognition.Recognizer at 0x228b6c2d040>"
      ]
     },
     "execution_count": 15,
     "metadata": {},
     "output_type": "execute_result"
    }
   ],
   "source": [
    "### 음성 인식기 클래스 생성\n",
    "recognizer = sr.Recognizer()\n",
    "recognizer"
   ]
  },
  {
   "cell_type": "code",
   "execution_count": null,
   "id": "0b0e2140",
   "metadata": {},
   "outputs": [
    {
     "ename": "OSError",
     "evalue": "No Default Input Device Available",
     "output_type": "error",
     "traceback": [
      "\u001b[1;31m---------------------------------------------------------------------------\u001b[0m",
      "\u001b[1;31mOSError\u001b[0m                                   Traceback (most recent call last)",
      "Cell \u001b[1;32mIn[16], line 2\u001b[0m\n\u001b[0;32m      1\u001b[0m \u001b[38;5;66;03m### 음성 입력 받기\u001b[39;00m\n\u001b[1;32m----> 2\u001b[0m \u001b[38;5;28;01mwith\u001b[39;00m \u001b[43msr\u001b[49m\u001b[38;5;241;43m.\u001b[39;49m\u001b[43mMicrophone\u001b[49m\u001b[43m(\u001b[49m\u001b[43m)\u001b[49m \u001b[38;5;28;01mas\u001b[39;00m source :\n\u001b[0;32m      3\u001b[0m     \u001b[38;5;28mprint\u001b[39m(\u001b[38;5;124m\"\u001b[39m\u001b[38;5;124m(말하기) 음성을 입력해 주세요 : \u001b[39m\u001b[38;5;124m\"\u001b[39m)\n\u001b[0;32m      4\u001b[0m     audio \u001b[38;5;241m=\u001b[39m recognizer\u001b[38;5;241m.\u001b[39mlisten(source)\n",
      "File \u001b[1;32mc:\\Users\\Administrator\\anaconda3\\envs\\pk_dl2\\lib\\site-packages\\speech_recognition\\__init__.py:82\u001b[0m, in \u001b[0;36mMicrophone.__init__\u001b[1;34m(self, device_index, sample_rate, chunk_size)\u001b[0m\n\u001b[0;32m     80\u001b[0m     \u001b[38;5;28;01massert\u001b[39;00m \u001b[38;5;241m0\u001b[39m \u001b[38;5;241m<\u001b[39m\u001b[38;5;241m=\u001b[39m device_index \u001b[38;5;241m<\u001b[39m count, \u001b[38;5;124m\"\u001b[39m\u001b[38;5;124mDevice index out of range (\u001b[39m\u001b[38;5;132;01m{}\u001b[39;00m\u001b[38;5;124m devices available; device index should be between 0 and \u001b[39m\u001b[38;5;132;01m{}\u001b[39;00m\u001b[38;5;124m inclusive)\u001b[39m\u001b[38;5;124m\"\u001b[39m\u001b[38;5;241m.\u001b[39mformat(count, count \u001b[38;5;241m-\u001b[39m \u001b[38;5;241m1\u001b[39m)\n\u001b[0;32m     81\u001b[0m \u001b[38;5;28;01mif\u001b[39;00m sample_rate \u001b[38;5;129;01mis\u001b[39;00m \u001b[38;5;28;01mNone\u001b[39;00m:  \u001b[38;5;66;03m# automatically set the sample rate to the hardware's default sample rate if not specified\u001b[39;00m\n\u001b[1;32m---> 82\u001b[0m     device_info \u001b[38;5;241m=\u001b[39m audio\u001b[38;5;241m.\u001b[39mget_device_info_by_index(device_index) \u001b[38;5;28;01mif\u001b[39;00m device_index \u001b[38;5;129;01mis\u001b[39;00m \u001b[38;5;129;01mnot\u001b[39;00m \u001b[38;5;28;01mNone\u001b[39;00m \u001b[38;5;28;01melse\u001b[39;00m \u001b[43maudio\u001b[49m\u001b[38;5;241;43m.\u001b[39;49m\u001b[43mget_default_input_device_info\u001b[49m\u001b[43m(\u001b[49m\u001b[43m)\u001b[49m\n\u001b[0;32m     83\u001b[0m     \u001b[38;5;28;01massert\u001b[39;00m \u001b[38;5;28misinstance\u001b[39m(device_info\u001b[38;5;241m.\u001b[39mget(\u001b[38;5;124m\"\u001b[39m\u001b[38;5;124mdefaultSampleRate\u001b[39m\u001b[38;5;124m\"\u001b[39m), (\u001b[38;5;28mfloat\u001b[39m, \u001b[38;5;28mint\u001b[39m)) \u001b[38;5;129;01mand\u001b[39;00m device_info[\u001b[38;5;124m\"\u001b[39m\u001b[38;5;124mdefaultSampleRate\u001b[39m\u001b[38;5;124m\"\u001b[39m] \u001b[38;5;241m>\u001b[39m \u001b[38;5;241m0\u001b[39m, \u001b[38;5;124m\"\u001b[39m\u001b[38;5;124mInvalid device info returned from PyAudio: \u001b[39m\u001b[38;5;132;01m{}\u001b[39;00m\u001b[38;5;124m\"\u001b[39m\u001b[38;5;241m.\u001b[39mformat(device_info)\n\u001b[0;32m     84\u001b[0m     sample_rate \u001b[38;5;241m=\u001b[39m \u001b[38;5;28mint\u001b[39m(device_info[\u001b[38;5;124m\"\u001b[39m\u001b[38;5;124mdefaultSampleRate\u001b[39m\u001b[38;5;124m\"\u001b[39m])\n",
      "File \u001b[1;32mc:\\Users\\Administrator\\anaconda3\\envs\\pk_dl2\\lib\\site-packages\\pyaudio\\__init__.py:812\u001b[0m, in \u001b[0;36mPyAudio.get_default_input_device_info\u001b[1;34m(self)\u001b[0m\n\u001b[0;32m    803\u001b[0m \u001b[38;5;28;01mdef\u001b[39;00m\u001b[38;5;250m \u001b[39m\u001b[38;5;21mget_default_input_device_info\u001b[39m(\u001b[38;5;28mself\u001b[39m):\n\u001b[0;32m    804\u001b[0m \u001b[38;5;250m    \u001b[39m\u001b[38;5;124;03m\"\"\"Returns the default input device parameters as a dictionary.\u001b[39;00m\n\u001b[0;32m    805\u001b[0m \n\u001b[0;32m    806\u001b[0m \u001b[38;5;124;03m    The keys of the dictionary mirror the data fields of PortAudio's\u001b[39;00m\n\u001b[1;32m   (...)\u001b[0m\n\u001b[0;32m    810\u001b[0m \u001b[38;5;124;03m    :rtype: dict\u001b[39;00m\n\u001b[0;32m    811\u001b[0m \u001b[38;5;124;03m    \"\"\"\u001b[39;00m\n\u001b[1;32m--> 812\u001b[0m     device_index \u001b[38;5;241m=\u001b[39m \u001b[43mpa\u001b[49m\u001b[38;5;241;43m.\u001b[39;49m\u001b[43mget_default_input_device\u001b[49m\u001b[43m(\u001b[49m\u001b[43m)\u001b[49m\n\u001b[0;32m    813\u001b[0m     \u001b[38;5;28;01mreturn\u001b[39;00m \u001b[38;5;28mself\u001b[39m\u001b[38;5;241m.\u001b[39mget_device_info_by_index(device_index)\n",
      "\u001b[1;31mOSError\u001b[0m: No Default Input Device Available"
     ]
    }
   ],
   "source": [
    "### 음성 입력 받기\n",
    "with sr.Microphone() as source :\n",
    "    print(\"(말하기) 음성을 입력해 주세요 : \")\n",
    "    audio = recognizer.listen(source)\n",
    "    \n",
    "### 입력 받은 음성을 -> 텍스트로 변환하기\n",
    "# - 예외 처리를 해야 함\n",
    "try :\n",
    "    ### 음성을 텍스트로 변환하기\n",
    "    recoginzed_text = recognizer.recognizer_google(audio, language='ko-kr')\n",
    "    \n",
    "    ### 음성 인식 결과 출력\n",
    "    print(f\"음성 인식 결과: {recoginzed_text}\")\n",
    "    \n",
    "except sr.UnknownValueError :\n",
    "    print ('음성을 인식할 수 없습니다')\n",
    "    \n",
    "except sr.RequestError as e :\n",
    "    print(f\"오류 발생: {e}\")"
   ]
  },
  {
   "cell_type": "markdown",
   "id": "57c36aa2",
   "metadata": {},
   "source": [
    "### STT -> TTS : 음성을 입력으로 받아서 텍스트로 변환 후 다시 음성으로 출력"
   ]
  },
  {
   "cell_type": "code",
   "execution_count": null,
   "id": "43779317",
   "metadata": {},
   "outputs": [],
   "source": [
    "############ [ STT 영역 ] ############\n",
    "### 음성 인식기 클래스 생성\n",
    "recognizer = sr.Recognizer()\n",
    "\n",
    "### 음성 입력 받기\n",
    "with sr.Microphone() as source :\n",
    "    print(\"(말하기) 음성을 입력해 주세요 : \")\n",
    "    audio = recognizer.listen(source)\n",
    "    \n",
    "### 입력 받은 음성을 -> 텍스트로 변환하기\n",
    "# - 예외 처리를 해야 함\n",
    "recoginzed_text = \"\"\n",
    "\n",
    "try :\n",
    "    ### 음성을 텍스트로 변환하기\n",
    "    recoginzed_text = recognizer.recognizer_google(audio, language='ko-kr')\n",
    "    \n",
    "    ### 음성 인식 결과 출력\n",
    "    print(f\"음성 인식 결과: {recoginzed_text}\")\n",
    "    \n",
    "except sr.UnknownValueError :\n",
    "    print ('음성을 인식할 수 없습니다')\n",
    "    \n",
    "except sr.RequestError as e :\n",
    "    print(f\"오류 발생: {e}\")\n",
    "\n",
    "\n",
    "\n",
    "############ [ TTS 영역 ] ############\n",
    "### pyttsx3 엔진 초기화(객체 생성과 동일)\n",
    "engine = pyttsx3.init()\n",
    "\n",
    "### pyttsx3 기본 설정하기(1)\n",
    "# 음성 엔진(목소리) 설정하기\n",
    "voices = engine.getProperty(\"voices\")\n",
    "\n",
    "# 음성엔진 목소리 선택하기\n",
    "selected_voice = voices[0]\n",
    "\n",
    "### pyttsx3 기본 설정하기(2)\n",
    "# - 음성 읽기 속도 정의\n",
    "# - 100 : 텍스트를 일반적인 읽기 속도로 읽기(기본값)\n",
    "# - 100 초과 : 텍스트를 더 빠른 속도로 읽음\n",
    "# - 100 미만 : 텍스트를 더 느린 속도로 읽음\n",
    "rate_value = 130\n",
    "engine.setProperty(\"rate\", rate_value)\n",
    "\n",
    "### pyttsx3 엔진 내에서 -> 텍스트를 음성으로 변환시켜 놓기\n",
    "engine.say(recoginzed_text)\n",
    "\n",
    "### 변환된 음성 재생하기\n",
    "engine.runAndWait()"
   ]
  },
  {
   "cell_type": "markdown",
   "id": "e9533840",
   "metadata": {},
   "source": [
    "### 함수로 정의하기"
   ]
  },
  {
   "cell_type": "code",
   "execution_count": 18,
   "id": "6b7708e9",
   "metadata": {},
   "outputs": [],
   "source": [
    "# STT 처리 함수명 : getSpeechToText()\n",
    "def getSpeechToText():\n",
    "    # 음성 인식기 객체 생성\n",
    "    recognizer = sr.Recognizer()\n",
    "\n",
    "    # 마이크로부터 음성 입력 받기\n",
    "    with sr.Microphone() as source:\n",
    "        print(\"(말하기) 음성을 입력해 주세요 : \")\n",
    "        audio = recognizer.listen(source)\n",
    "\n",
    "    # 음성 입력 → 텍스트 변환\n",
    "    recognized_text = \"\"\n",
    "    try:\n",
    "        recognized_text = recognizer.recognize_google(audio, language='ko-kr')\n",
    "        print(f\"음성 인식 결과: {recognized_text}\")\n",
    "    except sr.UnknownValueError:\n",
    "        print('음성을 인식할 수 없습니다.')\n",
    "    except sr.RequestError as e:\n",
    "        print(f\"요청 중 오류 발생: {e}\")\n",
    "\n",
    "    return recognized_text\n",
    "\n",
    "\n",
    "# TTS 처리 함수명 : getTextToSpeech()\n",
    "def getTextToSpeech(text):\n",
    "    # TTS 엔진 초기화\n",
    "    engine = pyttsx3.init()\n",
    "\n",
    "    # 음성 엔진 설정\n",
    "    voices = engine.getProperty(\"voices\")\n",
    "    engine.setProperty(\"voice\", voices[0].id)  # 기본 목소리 선택\n",
    "\n",
    "    # 말하기 속도 설정\n",
    "    engine.setProperty(\"rate\", 130)\n",
    "\n",
    "    # 텍스트 → 음성 변환\n",
    "    engine.say(text)\n",
    "\n",
    "    # 음성 출력\n",
    "    engine.runAndWait()"
   ]
  }
 ],
 "metadata": {
  "kernelspec": {
   "display_name": "pk_dl2_kernel",
   "language": "python",
   "name": "pk_dl2"
  },
  "language_info": {
   "codemirror_mode": {
    "name": "ipython",
    "version": 3
   },
   "file_extension": ".py",
   "mimetype": "text/x-python",
   "name": "python",
   "nbconvert_exporter": "python",
   "pygments_lexer": "ipython3",
   "version": "3.9.23"
  }
 },
 "nbformat": 4,
 "nbformat_minor": 5
}
