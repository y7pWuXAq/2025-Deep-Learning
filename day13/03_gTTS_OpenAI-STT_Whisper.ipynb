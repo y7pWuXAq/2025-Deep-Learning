{
 "cells": [
  {
   "cell_type": "code",
   "execution_count": 1,
   "metadata": {},
   "outputs": [],
   "source": [
    "### TTS 라이브러리\n",
    "from gtts import gTTS\n",
    "\n",
    "### 텍스트를 음성으로 직접 말하기\n",
    "import pyttsx3\n",
    "\n",
    "### text를 음원으로 변환하기\n",
    "tts = gTTS(text=\"안녕하세요. 음성비서프로그램 실습중입니다.\", lang=\"ko\")\n",
    "\n",
    "### 음원을 mp3 파일로 저장하기\n",
    "tts.save(\"./mp3/output.mp3\")"
   ]
  },
  {
   "cell_type": "markdown",
   "metadata": {},
   "source": [
    "### OpenAI의 STT(음성을 텍스트로 변환)하는 라이브러리"
   ]
  },
  {
   "cell_type": "code",
   "execution_count": 10,
   "metadata": {},
   "outputs": [],
   "source": [
    "### 사용 라이브러리\n",
    "import openai\n",
    "import os\n",
    "from api_key import openai_api_key"
   ]
  },
  {
   "cell_type": "code",
   "execution_count": 11,
   "metadata": {},
   "outputs": [],
   "source": [
    "# - 개인 API-Key\n",
    "api_key = openai_api_key.API_KEY\n",
    "\n",
    "### openai 클래스 생성\n",
    "client = openai.OpenAI(\n",
    "    api_key=api_key\n",
    ")"
   ]
  },
  {
   "cell_type": "code",
   "execution_count": 12,
   "metadata": {},
   "outputs": [],
   "source": [
    "### 음원 파일 위치\n",
    "filename = \"./mp3/output.mp3\"\n",
    "\n",
    "### OpenAI의 whisper~1 모델을 사용하여 텍스트로 변환하기\n",
    "# - whisper~1모델 : openai에서 제공하는 음성을 텍스트로 변환하는 모델\n",
    "with open(filename, \"rb\") as audio_file:\n",
    "    transcript = client.audio.transcriptions.create(\n",
    "        model = \"whisper-1\", \n",
    "        file = audio_file\n",
    "    )\n",
    "\n",
    "### 음원 파일 삭제하기\n",
    "os.remove(filename)"
   ]
  },
  {
   "cell_type": "code",
   "execution_count": 13,
   "metadata": {},
   "outputs": [
    {
     "name": "stdout",
     "output_type": "stream",
     "text": [
      "안녕하세요. 음성비서 프로그램 실습 중입니다.\n"
     ]
    }
   ],
   "source": [
    "### 결과 출력\n",
    "# - 음원이 변환된 텍스트 출력하기\n",
    "print(transcript.text)"
   ]
  },
  {
   "cell_type": "code",
   "execution_count": null,
   "metadata": {},
   "outputs": [
    {
     "name": "stdout",
     "output_type": "stream",
     "text": [
      "사용할 음성(목소리) 엔진 목록 : [<pyttsx3.voice.Voice object at 0x0000020019293DF0>, <pyttsx3.voice.Voice object at 0x0000020019709FD0>, <pyttsx3.voice.Voice object at 0x000002001944E040>]\n"
     ]
    }
   ],
   "source": [
    "############# [TTS - 텍스트를 음성으로 처리하기] ############\n",
    "\n",
    "### 사용할 텍스트 정의\n",
    "kor_text = transcript.text\n",
    "\n",
    "### pyttsx3 엔진 초기화 (객체 생성과 동일)\n",
    "engine = pyttsx3.init()\n",
    "\n",
    "### 음성 엔진(목소리) 정의하기\n",
    "voices = engine.getProperty(\"voices\")\n",
    "print(f\"사용할 음성(목소리) 엔진 목록 : {voices}\")\n",
    "\n",
    "### 음성 엔진(목소리) 선택하기\n",
    "selected_voice = voices[0]\n",
    "\n",
    "### rate : 음성 읽기 속도 정의하기\n",
    "# - (\"rate\", 100) : 텍스트를 일반적인 읽기 속도로 읽음(기본값)\n",
    "# - (\"rate\", 100이상) : 텍스트를 더 빠른 속도로 읽음\n",
    "# - (\"rate\", 100이하) : 텍스트를 더 느린 속도로 읽음\n",
    "rate_value = 130\n",
    "engine.setProperty(\"rate\", rate_value)\n",
    "\n",
    "### 텍스트를 음성으로 변환하기\n",
    "engine.say(kor_text)\n",
    "\n",
    "### 변환한 음성을 재생하기\n",
    "engine.runAndWait()"
   ]
  }
 ],
 "metadata": {
  "kernelspec": {
   "display_name": "pk_dl2_kernel",
   "language": "python",
   "name": "pk_dl2"
  },
  "language_info": {
   "codemirror_mode": {
    "name": "ipython",
    "version": 3
   },
   "file_extension": ".py",
   "mimetype": "text/x-python",
   "name": "python",
   "nbconvert_exporter": "python",
   "pygments_lexer": "ipython3",
   "version": "3.9.23"
  }
 },
 "nbformat": 4,
 "nbformat_minor": 2
}
