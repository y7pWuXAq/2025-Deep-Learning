{
 "cells": [
  {
   "cell_type": "markdown",
   "id": "b61e25c3",
   "metadata": {},
   "source": [
    "- 합성곱신경망(Convolutional Neural Network, CNN)\n",
    "    - 이미지 분석에 주로 사용되는 대표적 계층\n",
    " \n",
    "    - 기존의 인공신경망에서의 이미지 분석시에는 높이와 너비를 1차원으로 사용\n",
    "        - 합성곱신경망(CNN)은 원형 그대로의 이미지 높이와 너비 \"2차원을 원본 그대로 사용\"\n",
    "   \n",
    "    - 합성곱신경망(CNN)에서 훈련에 사용하는 차원은 4차원을 사용\n",
    "        - 4차원 데이터 = (행의갯수, 이미지사이즈1, 이미지사이즈2, 채널)\n",
    "        - 채널 : 이미지의 색상(흑백 또는 컬러)을 의미\n",
    "            - 흑백은 1의 값, 컬러는 RGB의 3의 값을 사용합니다.\n",
    "            - 흑백 => (행의갯수, 이미지사이즈1, 이미지사이즈2, 1)\n",
    "            - 컬러 => (행의갯수, 이미지사이즈1, 이미지사이즈2, 3)\n",
    "            \n",
    "    - 우리가 사용하는 패션 이미지 데이터는 흑백 사진 픽셀 데이터\n",
    " \n",
    "- 합성곱신경망(CNN)을 사용하는 이유\n",
    "    - 기존 이미지 분석 시 높이와 너비를 곱하여 1차원으로 사용하게되면,\n",
    "    * 원형 그대로의 주변 이미지 공간 정보를 활용하지 못하는 단점이 발생\n",
    "    * 이러한 이유로 \"특정 픽셀의 주변 특징 추출\"을 잘 못함\n",
    "        - 학습이 잘 이루어지지 않는 경우가 발생함\n",
    "\n",
    "\n",
    "- 기존 인공신경망 모델의 단점을 보완하여 만들어진 계층이 -> CNN 계층\n",
    "    * 원본 형태의 이미지 정보를 그대로 유지한 상태로 학습 가능한 계층임\n",
    "    * 이미지의 공간(\"격자\"라고 합니다. 픽셀이 아님) 정보를 나누어서 특징을 추출\n",
    "    * 인접 이미지의 특징을 포함하여 훈련\n",
    " \n",
    "- 합성곱신경망(CNN) 계층구조\n",
    "    1. 입력계층 : 아래 2번, 3번, 5번은 입력계층으로 사용 가능\n",
    "    2. 합성곱계층(CNN)\n",
    "        - 이미지 특징을 추출하는 계층\n",
    "    3. 활성화 함수 계층(은닉계층-Hidden Layer)\n",
    "    4. 풀링계층(Pooling Layer)\n",
    "        - 공간 크기를 줄이고 계산량을 감소시키기 위한 계층(중요 특징만 추출하는 계층)\n",
    "        - 머신러닝에서 주성분분석(PCA)과 유사한 기능\n",
    "        - 풀링방법 : 최대풀링(Max Pooling), 평균풀링(Average Pooling)이 있음\n",
    "        - 주로 최대풀링(Max Pooling) 사용\n",
    "    5. 완전 연결 계층(은니계층-Hidden Layer)\n",
    "        - 추출된 특징을 이용해서 최종 예측 전 수행하는 계층\n",
    "        - 이때는 기존의 방법과 동일하게 1차원(높이*너비)의 전처리 계층(Flatten)을 사용하는 경우도 있음(인공신경망 구조와 동일하게 진행)\n",
    "    6. 출력계층\n",
    " \n",
    "* CNN계층에서는 2~4번 계층구조가 일반적으로 사용되며 나머지 계층은 기존 인공신경망 구조를 따름\n",
    "    - 2~4번 계층 셋트가 여러개 포함 될 수 있음"
   ]
  },
  {
   "cell_type": "markdown",
   "id": "2fe1851f",
   "metadata": {},
   "source": [
    "### 라이브러리 정의하기"
   ]
  },
  {
   "cell_type": "code",
   "execution_count": 1,
   "id": "4c430ec7",
   "metadata": {},
   "outputs": [],
   "source": [
    "### 텐서플로우 프레임워크(패키지)\n",
    "import tensorflow as tf\n",
    "\n",
    "### 케라스 라이브러리 \n",
    "from tensorflow import keras\n",
    "\n",
    "### 시각화 라이브러리\n",
    "import matplotlib.pyplot as plt\n",
    "\n",
    "### 넘파이\n",
    "import numpy as np\n",
    "\n",
    "### 데이터 분류\n",
    "from sklearn.model_selection import train_test_split\n",
    "\n",
    "### 딥러닝 랜덤 규칙\n",
    "tf.keras.utils.set_random_seed(42)"
   ]
  },
  {
   "cell_type": "markdown",
   "id": "c883c9e4",
   "metadata": {},
   "source": [
    "### 사용할 데이터 불러들이기 - 패션 이미지"
   ]
  },
  {
   "cell_type": "code",
   "execution_count": 2,
   "id": "fd2cf6cf",
   "metadata": {},
   "outputs": [
    {
     "name": "stdout",
     "output_type": "stream",
     "text": [
      "(60000, 28, 28) (60000,)\n",
      "(10000, 28, 28) (10000,)\n"
     ]
    }
   ],
   "source": [
    "### 변수명 : train_input, train_target, test_input, test_target\n",
    "(train_input, train_target), (test_input, test_target) = \\\n",
    "    keras.datasets.fashion_mnist.load_data()\n",
    "    \n",
    "print(train_input.shape, train_target.shape)\n",
    "print(test_input.shape, test_target.shape)"
   ]
  },
  {
   "cell_type": "markdown",
   "id": "8d94860e",
   "metadata": {},
   "source": [
    "### CNN 처리를 위해서 독립변수의 차원을 4차원으로 변환하기"
   ]
  },
  {
   "cell_type": "code",
   "execution_count": 3,
   "id": "5eb36ab3",
   "metadata": {},
   "outputs": [
    {
     "data": {
      "text/plain": [
       "array([0, 0, 0, 0, 0, 0, 0, 0, 0, 0, 0, 0, 0, 0, 0, 0, 0, 0, 0, 0, 0, 0,\n",
       "       0, 0, 0, 0, 0, 0], dtype=uint8)"
      ]
     },
     "execution_count": 3,
     "metadata": {},
     "output_type": "execute_result"
    }
   ],
   "source": [
    "### 이미지 데이터가 흑백 or 컬러 확인하기\n",
    "# - 마지막 차원의 값이 1개의 값으로 구성되어 있는지 3개의 값으로 구성되어 있는지 확인\n",
    "train_input[0][0]"
   ]
  },
  {
   "cell_type": "code",
   "execution_count": null,
   "id": "0e204587",
   "metadata": {},
   "outputs": [
    {
     "name": "stdout",
     "output_type": "stream",
     "text": [
      "(60000, 28, 28, 1) (60000,)\n",
      "(10000, 28, 28) (10000,)\n"
     ]
    }
   ],
   "source": [
    "### (갯수, 너비, 높이, 채널)의 4차원으로 변환\n",
    "### (축, 행, 열, 채널)\n",
    "# - 채널 : 흑백 이미지는 1의 값을, 컬러 이미지는 3의 값을 사용\n",
    "# - 최종 차원 =  (축, 행, 열, 채널) = (60000, 28, 28, 1)\n",
    "train_input_4d = train_input.reshape(-1, 28, 28, 1)\n",
    "\n",
    "print(train_input_4d.shape, train_target.shape)\n",
    "print(test_input.shape, test_target.shape)"
   ]
  },
  {
   "cell_type": "markdown",
   "id": "717e7b66",
   "metadata": {},
   "source": [
    "### 데이터 스케일링 처리하기"
   ]
  },
  {
   "cell_type": "code",
   "execution_count": 8,
   "id": "d6cae43f",
   "metadata": {},
   "outputs": [
    {
     "name": "stdout",
     "output_type": "stream",
     "text": [
      "(60000, 28, 28, 1) (60000,)\n",
      "[[0.        ]\n",
      " [0.        ]\n",
      " [0.        ]\n",
      " [0.        ]\n",
      " [0.        ]\n",
      " [0.00392157]\n",
      " [0.        ]\n",
      " [0.        ]\n",
      " [0.        ]\n",
      " [0.        ]\n",
      " [0.16078431]\n",
      " [0.7372549 ]\n",
      " [0.40392157]\n",
      " [0.21176471]\n",
      " [0.18823529]\n",
      " [0.16862745]\n",
      " [0.34117647]\n",
      " [0.65882353]\n",
      " [0.52156863]\n",
      " [0.0627451 ]\n",
      " [0.        ]\n",
      " [0.        ]\n",
      " [0.        ]\n",
      " [0.        ]\n",
      " [0.        ]\n",
      " [0.        ]\n",
      " [0.        ]\n",
      " [0.        ]]\n"
     ]
    }
   ],
   "source": [
    "### 데이터를 0~1사이의 값으로 스케일링 처리하기\n",
    "# - 데이터는 픽셀 데이터로 0~255까지의 데이터를 사용하고 있음\n",
    "train_scaled = train_input_4d / 255.0\n",
    "print(train_scaled.shape, train_target.shape)\n",
    "print(train_scaled[1][0])"
   ]
  },
  {
   "cell_type": "markdown",
   "id": "2cb4c96e",
   "metadata": {},
   "source": [
    "### 훈련 : 검증 = 8 : 2로 분류하기"
   ]
  },
  {
   "cell_type": "code",
   "execution_count": 9,
   "id": "3a71dd95",
   "metadata": {},
   "outputs": [],
   "source": [
    "### 사용변수 : train_scaled, train_target, val_scaled, val_target\n",
    "train_scaled, val_scaled, train_target, val_target = train_test_split(\n",
    "    train_scaled, train_target, test_size=0.2, random_state=42\n",
    ")"
   ]
  },
  {
   "cell_type": "code",
   "execution_count": 10,
   "id": "c53bda28",
   "metadata": {},
   "outputs": [
    {
     "name": "stdout",
     "output_type": "stream",
     "text": [
      "(48000, 28, 28, 1) (48000,)\n",
      "(12000, 28, 28, 1) (12000,)\n"
     ]
    }
   ],
   "source": [
    "print(train_scaled.shape, train_target.shape)\n",
    "print(val_scaled.shape, val_target.shape)"
   ]
  },
  {
   "cell_type": "markdown",
   "id": "545b9351",
   "metadata": {},
   "source": [
    "### 훈련모델 생성하기 : CNN 합성곱신경망 사용"
   ]
  },
  {
   "cell_type": "code",
   "execution_count": 11,
   "id": "a8df0e85",
   "metadata": {},
   "outputs": [
    {
     "data": {
      "text/plain": [
       "<keras.engine.sequential.Sequential at 0x1e520d14130>"
      ]
     },
     "execution_count": 11,
     "metadata": {},
     "output_type": "execute_result"
    }
   ],
   "source": [
    "### 모델 생성하기\n",
    "model = keras.Sequential()\n",
    "model"
   ]
  },
  {
   "cell_type": "markdown",
   "id": "5d1556ad",
   "metadata": {},
   "source": [
    "- 합성곱신경망(CNN) 계층 속성\n",
    "    - CNN은 데이터(행열 원본 데이터)와 필터(filter, 행열)가 곱해진다고 해서 합성곱이라는 단어가 생겨남\n",
    "    - 이미지와 같은 2차원(이미지 사이즈1 * 이미지 사이즈2) 데이터 분류에는 보통 2차원 합성곱(Conv2D) 사용\n",
    "    - 입력 계층으로 사용하는 경우에는 input_shape() 사용\n",
    " \n",
    "- kernel_size, 커널사이즈\n",
    "    - 이미지를 훓으면서 특징을 추출하는 역할을 수행\n",
    "    - 필터에서 사용할 사이즈를 정의함\n",
    "    - kernel_size = 3의 의미 : 필터가 사용할 사이즈는 3행 3열로 특징 추출 진행\n",
    "        - 3행 3열을 줄여서 3이라고 정의\n",
    "    - kernel_size는 홀수로 정의 : 보통 3, 5, 7, 9..(주로 3, 5를 사용)\n",
    " \n",
    "- filters, 필터\n",
    "    - 데이터를 훓으면서(strides) 특징을 추출하는 역할을 함(필터링 개념)\n",
    "    - 필터의 값이 클수록 훈련 속도가 오래 걸림\n",
    "    - 보통 32, 64가 주로 사용됨\n",
    "    - CNN계층을 여러개 사용하는 경우에는 처음 CNN계층에는 작은값부터 시작\n",
    "        - 16, 32, 64, 128...정도가 주로  사용됨\n",
    "    - 필터의 갯수는 해당 레이어에서의 출력 갯수가 됨\n",
    " \n",
    "- padding, 패팅\n",
    "    - 경계 처리 방식을 정의\n",
    "    - 커널 사이즈에 대한 원본 사이즈가 부적합할 경우 주변 픽셀을 만들어서 사용하는 방법\n",
    "    - 입력(이미지 높이 * 너비) 데이터의 주변에 추가되는 가상의 공간을 만듬\n",
    "    - 패딩을 사용하지 않으면, 중복이 일어나지 않은 픽셀값들이 발생함(처음과 마지막 픽셀들)\n",
    "        - 중복이 일어나지 않으면 특징 추출 시 정밀성이 떨어짐\n",
    "        - 따라서 중복을 허용할 수 있도록 하기 위해 주변에 가상공간을 두어서 하는 경우가 있음\n",
    "    - 처리 방식 : same과 valid가 있음\n",
    "    * same : 패팅을 사용하여 입력과 출력의 크기를 동일하게 만들어서 훈련하고자 할때 사용\n",
    "    * valid : 패팅을 사용하지 않음을 의미함\n",
    "    * same을 주로 사용하도록 권장하고 있음\n",
    " \n",
    "- strides, 스트라이드\n",
    "    - 커널 사이즈에 해당하는 필터가 이미지 데이터의 특징을 추출하기 위해 이동하는 간격 정의\n",
    "    - 특징 추출을 위한 이동 순서 : 왼쪽에서 -> 오른쪽, 위에서 -> 아래로\n",
    "    - strides=1의 의미 : 오른쪽으로 1씩, 아래로 1씩 이동한다는 의미"
   ]
  },
  {
   "cell_type": "code",
   "execution_count": 12,
   "id": "5666270a",
   "metadata": {},
   "outputs": [],
   "source": [
    "### 입력계층 추가하기 : 합성곱신경망(CNN) 계층을 입력으로 사용\n",
    "model.add(\n",
    "    # Conv2D : 2D는 이미지 높이, 너비의 2차원을 의미함\n",
    "    keras.layers.Conv2D(\n",
    "        kernel_size = 3,\n",
    "        filters = 32,\n",
    "        # CNN에서는 주로 relu를 사용\n",
    "        activation = \"relu\",\n",
    "        padding = \"same\",\n",
    "        strides = 1,\n",
    "        # (행, 열, 채널)을 사용\n",
    "        input_shape = (28, 28, 1)\n",
    "    )\n",
    ")"
   ]
  },
  {
   "cell_type": "code",
   "execution_count": 13,
   "id": "35b6d50b",
   "metadata": {},
   "outputs": [
    {
     "name": "stdout",
     "output_type": "stream",
     "text": [
      "Model: \"sequential\"\n",
      "_________________________________________________________________\n",
      " Layer (type)                Output Shape              Param #   \n",
      "=================================================================\n",
      " conv2d (Conv2D)             (None, 28, 28, 32)        320       \n",
      "                                                                 \n",
      "=================================================================\n",
      "Total params: 320\n",
      "Trainable params: 320\n",
      "Non-trainable params: 0\n",
      "_________________________________________________________________\n"
     ]
    }
   ],
   "source": [
    "model.summary()"
   ]
  },
  {
   "cell_type": "markdown",
   "id": "d355fc13",
   "metadata": {},
   "source": [
    "### 풀링계층(Pooling Layer) 추가하기"
   ]
  },
  {
   "cell_type": "markdown",
   "id": "1cf51ad9",
   "metadata": {},
   "source": [
    "- 풀링계층(Pooling Layer)\n",
    "    - CNN 계층 추가 이후에 일반적으로 함께 사용되는 계층\n",
    "    - CNN 계층에서 추출된 특징들 중에 \"중요한 정보만을 추출\"하는 계층\n",
    "    - 머신러닝의 주성분분석(PCA)과 유사한 개념\n",
    "    - 이미지를 구성하는 픽셀들이, 주변 픽셀들끼리는 유사한 정보를 가진다는 개념에서 접근\n",
    "    - 중복된 값들이나 유사한 값들을 대표하는 값들, 즉 중요한 특징을 가지는 값들만 추출\n",
    "    - \"과적합 방지에 효율적\"으로 사용되며 훈련에 참여하지는 않는 \"전처리 계층\"\n",
    " \n",
    "- MaxPool2D\n",
    "    - 사소한 값들(특징이 약한 값들)은 무시하고, 최대값의 특징들만 추출하는 방식\n",
    "    - pool_size=2 : 2행 2열의 공간에 중요 특징들만 저장하라는 의미\n",
    "    - strides=2 : CNN에서 추출한 특징값들은 행렬 구조 데이터 \n",
    "        - 2행2열의 공간을 이용하여 오른쪽으로 2칸씩, 아래로 2칸씩 움직이면서 추출\n",
    "        - 디폴트(기본값)은 2\n",
    "    - 풀링 계층에서 대표적으로 사용되는 계층"
   ]
  },
  {
   "cell_type": "code",
   "execution_count": 14,
   "id": "004786fd",
   "metadata": {},
   "outputs": [],
   "source": [
    "model.add(\n",
    "    keras.layers.MaxPool2D(pool_size=2, strides=2)\n",
    ")"
   ]
  },
  {
   "cell_type": "code",
   "execution_count": 15,
   "id": "6a6597fd",
   "metadata": {},
   "outputs": [
    {
     "name": "stdout",
     "output_type": "stream",
     "text": [
      "Model: \"sequential\"\n",
      "_________________________________________________________________\n",
      " Layer (type)                Output Shape              Param #   \n",
      "=================================================================\n",
      " conv2d (Conv2D)             (None, 28, 28, 32)        320       \n",
      "                                                                 \n",
      " max_pooling2d (MaxPooling2D  (None, 14, 14, 32)       0         \n",
      " )                                                               \n",
      "                                                                 \n",
      "=================================================================\n",
      "Total params: 320\n",
      "Trainable params: 320\n",
      "Non-trainable params: 0\n",
      "_________________________________________________________________\n"
     ]
    }
   ],
   "source": [
    "model.summary()"
   ]
  },
  {
   "cell_type": "markdown",
   "id": "3f065cf2",
   "metadata": {},
   "source": [
    "### CNN 계층 또 추가하기"
   ]
  },
  {
   "cell_type": "code",
   "execution_count": 18,
   "id": "d7b5d993",
   "metadata": {},
   "outputs": [],
   "source": [
    "model.add(\n",
    "    keras.layers.Conv2D(\n",
    "        kernel_size = (3, 3),\n",
    "        filters = 64,\n",
    "        activation = \"relu\",\n",
    "        padding = \"same\",\n",
    "        strides = 1\n",
    "    )\n",
    ")"
   ]
  },
  {
   "cell_type": "code",
   "execution_count": 19,
   "id": "246f45dc",
   "metadata": {},
   "outputs": [
    {
     "name": "stdout",
     "output_type": "stream",
     "text": [
      "Model: \"sequential\"\n",
      "_________________________________________________________________\n",
      " Layer (type)                Output Shape              Param #   \n",
      "=================================================================\n",
      " conv2d (Conv2D)             (None, 28, 28, 32)        320       \n",
      "                                                                 \n",
      " max_pooling2d (MaxPooling2D  (None, 14, 14, 32)       0         \n",
      " )                                                               \n",
      "                                                                 \n",
      " conv2d_1 (Conv2D)           (None, 14, 14, 64)        18496     \n",
      "                                                                 \n",
      "=================================================================\n",
      "Total params: 18,816\n",
      "Trainable params: 18,816\n",
      "Non-trainable params: 0\n",
      "_________________________________________________________________\n"
     ]
    }
   ],
   "source": [
    "model.summary()"
   ]
  },
  {
   "cell_type": "code",
   "execution_count": 20,
   "id": "bd6c097c",
   "metadata": {},
   "outputs": [],
   "source": [
    "### Pooling 레이어 추가\n",
    "model.add(\n",
    "    keras.layers.MaxPool2D(pool_size=2, strides=2)\n",
    ")"
   ]
  },
  {
   "cell_type": "code",
   "execution_count": 21,
   "id": "caea47b1",
   "metadata": {},
   "outputs": [
    {
     "name": "stdout",
     "output_type": "stream",
     "text": [
      "Model: \"sequential\"\n",
      "_________________________________________________________________\n",
      " Layer (type)                Output Shape              Param #   \n",
      "=================================================================\n",
      " conv2d (Conv2D)             (None, 28, 28, 32)        320       \n",
      "                                                                 \n",
      " max_pooling2d (MaxPooling2D  (None, 14, 14, 32)       0         \n",
      " )                                                               \n",
      "                                                                 \n",
      " conv2d_1 (Conv2D)           (None, 14, 14, 64)        18496     \n",
      "                                                                 \n",
      " max_pooling2d_1 (MaxPooling  (None, 7, 7, 64)         0         \n",
      " 2D)                                                             \n",
      "                                                                 \n",
      "=================================================================\n",
      "Total params: 18,816\n",
      "Trainable params: 18,816\n",
      "Non-trainable params: 0\n",
      "_________________________________________________________________\n"
     ]
    }
   ],
   "source": [
    "model.summary()"
   ]
  },
  {
   "cell_type": "markdown",
   "id": "89a8df41",
   "metadata": {},
   "source": [
    "### 심층신경망(DNN)을 이용해서 최종 결과 도출 계층 생성하기"
   ]
  },
  {
   "cell_type": "code",
   "execution_count": null,
   "id": "213187f0",
   "metadata": {},
   "outputs": [],
   "source": [
    "# 1. 1차원 전처리 계층 추가하기\n",
    "#    : 이전 계층의 출력값을 입력으로 받아서 자동으로 1차원으로 만들어줌\n",
    "# 2. 은닉계층 추가하기 : 출력갯수 100개, 활성화함수 relu\n",
    "# 3. 일부 특성 제외하기 위한 계층 추가 : 20% 훈련에서 제외\n",
    "# 4. 출력계층 추가하기"
   ]
  },
  {
   "cell_type": "code",
   "execution_count": null,
   "id": "62b1fbff",
   "metadata": {},
   "outputs": [],
   "source": [
    "# 1. 1차원 전처리 계층 추가하기\n",
    "#    : 이전 계층의 출력값을 입력으로 받아서 자동으로 1차원으로 만들어줌\n",
    "model.add(keras.layers.Flatten())"
   ]
  },
  {
   "cell_type": "code",
   "execution_count": 23,
   "id": "564a70c0",
   "metadata": {},
   "outputs": [],
   "source": [
    "# 2. 은닉계층 추가하기 : 출력갯수 100개, 활성화함수 relu\n",
    "model.add(keras.layers.Dense(units=100, activation=\"relu\"))"
   ]
  },
  {
   "cell_type": "code",
   "execution_count": 24,
   "id": "c857074b",
   "metadata": {},
   "outputs": [],
   "source": [
    "# 3. 일부 특성 제외하기 위한 전처리 계층 추가(훈련에 관여하지 않음) : 20% 훈련에서 제외\n",
    "model.add(keras.layers.Dropout(0.2))"
   ]
  },
  {
   "cell_type": "code",
   "execution_count": 25,
   "id": "e49055f8",
   "metadata": {},
   "outputs": [],
   "source": [
    "# 4. 출력계층 추가하기\n",
    "model.add(keras.layers.Dense(units=10, activation=\"softmax\"))"
   ]
  },
  {
   "cell_type": "code",
   "execution_count": null,
   "id": "96eb662f",
   "metadata": {},
   "outputs": [
    {
     "name": "stdout",
     "output_type": "stream",
     "text": [
      "Model: \"sequential\"\n",
      "_________________________________________________________________\n",
      " Layer (type)                Output Shape              Param #   \n",
      "=================================================================\n",
      " conv2d (Conv2D)             (None, 28, 28, 32)        320       \n",
      "                                                                 \n",
      " max_pooling2d (MaxPooling2D  (None, 14, 14, 32)       0         \n",
      " )                                                               \n",
      "                                                                 \n",
      " conv2d_1 (Conv2D)           (None, 14, 14, 64)        18496     \n",
      "                                                                 \n",
      " max_pooling2d_1 (MaxPooling  (None, 7, 7, 64)         0         \n",
      " 2D)                                                             \n",
      "                                                                 \n",
      " flatten (Flatten)           (None, 3136)              0         \n",
      "                                                                 \n",
      " dense (Dense)               (None, 100)               313700    \n",
      "                                                                 \n",
      " dropout (Dropout)           (None, 100)               0         \n",
      "                                                                 \n",
      " dense_1 (Dense)             (None, 10)                1010      \n",
      "                                                                 \n",
      "=================================================================\n",
      "Total params: 333,526\n",
      "Trainable params: 333,526\n",
      "Non-trainable params: 0\n",
      "_________________________________________________________________\n"
     ]
    }
   ],
   "source": [
    "model.summary()\n",
    "\n",
    "\n",
    "# <CNN 계층에서 Param 계산 공식>\n",
    "#  * conv2d (Conv2D) -> Param = 320\n",
    "#   - 필터 1개에 대한 Param 먼저 계산\n",
    "#     = (커널너비 * 커널높이 * 입력채널(원본 채널색상)) + 1\n",
    "#     = (3 * 3 * 1) + 1 = 10\n",
    "#   - 전체 필터 갯수에 대한 Param 계산\n",
    "#     = 전체 필터 갯수 * 1개 필터 Param값\n",
    "#     = 32 * 10 = 320\n",
    "   \n",
    "#  * conv2d_1 (Conv2D) -> Param = 18,496\n",
    "#   - 필터 1개에 대한 Param 먼저 계산\n",
    "#     = (커널너비 * 커널높이 * 입력채널(이전계층의 필터갯수와 같음)) + 1\n",
    "#     = (3 * 3 * 32) + 1 = 289\n",
    "#   - 전체 필터 갯수에 대한 Param 계산\n",
    "#     = 전체 필터 갯수 * 1개 필터 Param값\n",
    "#     = 64 * 289 = 18,496"
   ]
  },
  {
   "cell_type": "markdown",
   "id": "596a0851",
   "metadata": {},
   "source": [
    "### 모델 환경설정(compile) 하기"
   ]
  },
  {
   "cell_type": "code",
   "execution_count": null,
   "id": "928abf2d",
   "metadata": {},
   "outputs": [],
   "source": [
    "# - 옵티마이저 : adam 사용\n",
    "# - 손실함수 추가\n",
    "# - 훈련시 정확도 확인시켜주기\n",
    "\n",
    "model.compile(\n",
    "    optimizer = \"adam\",\n",
    "    loss = \"sparse_categorical_crossentropy\",\n",
    "    metrics = \"accuracy\"\n",
    ")"
   ]
  },
  {
   "cell_type": "markdown",
   "id": "4e51a522",
   "metadata": {},
   "source": [
    "### 콜백함수 정의하기"
   ]
  },
  {
   "cell_type": "code",
   "execution_count": null,
   "id": "acc45f04",
   "metadata": {},
   "outputs": [
    {
     "data": {
      "text/plain": [
       "(<keras.callbacks.ModelCheckpoint at 0x1e817d8b2b0>,\n",
       " <keras.callbacks.EarlyStopping at 0x1e817d8ba90>)"
      ]
     },
     "execution_count": 29,
     "metadata": {},
     "output_type": "execute_result"
    }
   ],
   "source": [
    "### 콜백함수 추가하기\n",
    "# 저장위치 : model\n",
    "# 저장 파일명 : best_cnn_fashion_model.h5\n",
    "# 자동종료 확인 횟수 : 2회\n",
    "\n",
    "### 자동저장 콜백함수\n",
    "checkpoint_cb = keras.callbacks.ModelCheckpoint(\"./model/best_cnn_fashion_model.h5\")\n",
    "\n",
    "### 자동종료 콜백함수\n",
    "# - restore_best_weights=True : 종료시점에 최적의 가중치로 model 업데이트하라는 옵션\n",
    "earlystopping_cb = keras.callbacks.EarlyStopping(patience=2, restore_best_weights=True)\n",
    "\n",
    "checkpoint_cb, earlystopping_cb"
   ]
  },
  {
   "cell_type": "markdown",
   "id": "74d58c9d",
   "metadata": {},
   "source": [
    "### 훈련시키기"
   ]
  },
  {
   "cell_type": "code",
   "execution_count": null,
   "id": "136c40cc",
   "metadata": {},
   "outputs": [
    {
     "name": "stdout",
     "output_type": "stream",
     "text": [
      "Epoch 1/1000\n",
      "1500/1500 [==============================] - 23s 9ms/step - loss: 0.4787 - accuracy: 0.8281 - val_loss: 0.3203 - val_accuracy: 0.8817\n",
      "Epoch 2/1000\n",
      "1500/1500 [==============================] - 12s 8ms/step - loss: 0.3138 - accuracy: 0.8848 - val_loss: 0.2702 - val_accuracy: 0.8997\n",
      "Epoch 3/1000\n",
      "1500/1500 [==============================] - 11s 7ms/step - loss: 0.2656 - accuracy: 0.9019 - val_loss: 0.2429 - val_accuracy: 0.9103\n",
      "Epoch 4/1000\n",
      "1500/1500 [==============================] - 11s 8ms/step - loss: 0.2329 - accuracy: 0.9136 - val_loss: 0.2320 - val_accuracy: 0.9148\n",
      "Epoch 5/1000\n",
      "1500/1500 [==============================] - 11s 7ms/step - loss: 0.2036 - accuracy: 0.9237 - val_loss: 0.2235 - val_accuracy: 0.9199\n",
      "Epoch 6/1000\n",
      "1500/1500 [==============================] - 11s 8ms/step - loss: 0.1816 - accuracy: 0.9329 - val_loss: 0.2195 - val_accuracy: 0.9200\n",
      "Epoch 7/1000\n",
      "1500/1500 [==============================] - 11s 7ms/step - loss: 0.1631 - accuracy: 0.9389 - val_loss: 0.2114 - val_accuracy: 0.9248\n",
      "Epoch 8/1000\n",
      "1500/1500 [==============================] - 11s 8ms/step - loss: 0.1447 - accuracy: 0.9444 - val_loss: 0.2278 - val_accuracy: 0.9217\n",
      "Epoch 9/1000\n",
      "1500/1500 [==============================] - 12s 8ms/step - loss: 0.1319 - accuracy: 0.9506 - val_loss: 0.2358 - val_accuracy: 0.9193\n"
     ]
    }
   ],
   "source": [
    "# - 훈련데이터와 검증데이터를 사용하여 훈련시키기\n",
    "# - 훈련횟수 : 1000회\n",
    "# - 훈련 시 콜백함수 적용\n",
    "# - 훈련결과를 history 변수에 담기\n",
    "\n",
    "# <커널이 작동안하는 경우 CPU로 처리>\n",
    "# with tf.device(\"/CPU:0\") :\n",
    "#     history = model.fit(\n",
    "#         train_scaled, train_target, epochs=1000,\n",
    "#         validation_data=(val_scaled, val_target),\n",
    "#         callbacks=[checkpoint_cb, earlystopping_cb]\n",
    "# )\n",
    "\n",
    "\n",
    "history = model.fit(\n",
    "    train_scaled, train_target, epochs=1000,\n",
    "    validation_data=(val_scaled, val_target),\n",
    "    callbacks=[checkpoint_cb, earlystopping_cb]\n",
    ")"
   ]
  },
  {
   "cell_type": "markdown",
   "id": "954465b3",
   "metadata": {},
   "source": [
    "- 딥러닝에서 주로 사용되는 숫자들\n",
    "    - 사이즈(행렬)를 나타내는 크기값 : 3, 5를 주로 사용\n",
    "    - 커널 등 갯수를 나타내는 값 : 16, 32, 64, 128로 계층이 추가될때 증가하면서 사용\n",
    "    - 이동을 나타내는 값 : 1, 2를 주로 사용(오른쪽으로 1씩/아래로 1씩, 또는 2씩)"
   ]
  },
  {
   "cell_type": "markdown",
   "id": "6fce489d",
   "metadata": {},
   "source": [
    "### 훈련 vs 검증에 대한 손실율 곡선 그리기"
   ]
  },
  {
   "cell_type": "code",
   "execution_count": 33,
   "id": "e4fefa9b",
   "metadata": {},
   "outputs": [
    {
     "data": {
      "image/png": "[encoded data removed]",
      "text/plain": [
       "<Figure size 640x480 with 1 Axes>"
      ]
     },
     "metadata": {},
     "output_type": "display_data"
    }
   ],
   "source": [
    "plt.title(\"CNN train vs val Loss\")\n",
    "plt.plot(history.epoch, history.history[\"loss\"])\n",
    "plt.plot(history.epoch, history.history[\"val_loss\"])\n",
    "\n",
    "plt.xlabel(\"epoch\")\n",
    "plt.ylabel(\"loss\")\n",
    "\n",
    "plt.legend([\"train\", \"val\"])\n",
    "plt.grid()\n",
    "plt.show()"
   ]
  },
  {
   "cell_type": "markdown",
   "id": "260400c8",
   "metadata": {},
   "source": [
    "### 훈련 vs 검증의 정확도 비교 곡선 그리기"
   ]
  },
  {
   "cell_type": "code",
   "execution_count": 34,
   "id": "1e0c5bbb",
   "metadata": {},
   "outputs": [
    {
     "data": {
      "image/png": "[encoded data removed]",
      "text/plain": [
       "<Figure size 640x480 with 1 Axes>"
      ]
     },
     "metadata": {},
     "output_type": "display_data"
    }
   ],
   "source": [
    "plt.title(\"CNN train vs val Accuracy\")\n",
    "plt.plot(history.epoch, history.history[\"accuracy\"])\n",
    "plt.plot(history.epoch, history.history[\"val_accuracy\"])\n",
    "\n",
    "plt.xlabel(\"epoch\")\n",
    "plt.ylabel(\"accuracy\")\n",
    "\n",
    "plt.legend([\"train\", \"val\"])\n",
    "plt.grid()\n",
    "plt.show()"
   ]
  },
  {
   "cell_type": "markdown",
   "id": "7bc0709b",
   "metadata": {},
   "source": [
    "### 성능 검증(evaluate)하기"
   ]
  },
  {
   "cell_type": "code",
   "execution_count": 36,
   "id": "c430d278",
   "metadata": {},
   "outputs": [
    {
     "name": "stdout",
     "output_type": "stream",
     "text": [
      "1500/1500 [==============================] - 3s 2ms/step - loss: 0.0989 - accuracy: 0.9640\n",
      "375/375 [==============================] - 1s 2ms/step - loss: 0.2358 - accuracy: 0.9193\n",
      "훈련손실율 : 0.09892214089632034, 훈련정확도 : 0.964020848274231\n",
      "검증손실율 : 0.23583629727363586, 검증정확도 : 0.9192500114440918\n"
     ]
    }
   ],
   "source": [
    "### 최종 성능 검증 결과 확인하기\n",
    "# 최적의 저장된 모델 불러들이기\n",
    "best_model = keras.models.load_model(\"./model/best_cnn_fashion_model.h5\")\n",
    "\n",
    "# 훈련데이터를 이용한 손실 및 정확도 확인하기\n",
    "train_score = best_model.evaluate(train_scaled, train_target)\n",
    "\n",
    "# 검증데이터를 이용한 손실 및 정확도 확인하기\n",
    "val_score = best_model.evaluate(val_scaled, val_target)\n",
    "\n",
    "print(f\"훈련손실율 : {train_score[0]}, 훈련정확도 : {train_score[1]}\")\n",
    "print(f\"검증손실율 : {val_score[0]}, 검증정확도 : {val_score[1]}\")\n"
   ]
  },
  {
   "cell_type": "markdown",
   "id": "de71a14a",
   "metadata": {},
   "source": [
    "### 훈련에 사용된 데이터를 이미지로 그리기"
   ]
  },
  {
   "cell_type": "code",
   "execution_count": null,
   "id": "ef40de6f",
   "metadata": {},
   "outputs": [
    {
     "data": {
      "text/plain": [
       "(28, 28)"
      ]
     },
     "execution_count": 41,
     "metadata": {},
     "output_type": "execute_result"
    }
   ],
   "source": [
    "### 검증 데이터 1개 이미지로 그려보기\n",
    "# - 훈련에 사용한 데이터를 이미지로 그리기 위해서는 원본 차원으로 변환해야 함\n",
    "val_scaled[0]\n",
    "\n",
    "# - 훈련에 사용된 데이터 차원은 (28, 28, 1) : 3차원\n",
    "val_scaled[0].shape \n",
    "\n",
    "### 원본 데이터의 차원은 (28, 28) : 2차원\n",
    "# - 0번째 이미지 데이터를 2차원으로 변환하기\n",
    "val_scaled_0 = val_scaled[0].reshape(28, 28)\n",
    "val_scaled_0.shape"
   ]
  },
  {
   "cell_type": "code",
   "execution_count": null,
   "id": "a1f85bc4",
   "metadata": {},
   "outputs": [
    {
     "data": {
      "image/png": "[encoded data removed]",
      "text/plain": [
       "<Figure size 640x480 with 1 Axes>"
      ]
     },
     "metadata": {},
     "output_type": "display_data"
    }
   ],
   "source": [
    "### 0번째 이미지데이터를 이용해서 이미지로 시각화\n",
    "# plt.imshow(val_scaled_0)\n",
    "\n",
    "# - cmap=\"gray_r\" : 색상 반전(바탕은 흰색으로, 이미지가 있는 부분은 회색으로)\n",
    "plt.imshow(val_scaled_0, cmap=\"gray_r\")\n",
    "plt.show()"
   ]
  },
  {
   "cell_type": "code",
   "execution_count": null,
   "id": "3201ddf8",
   "metadata": {},
   "outputs": [
    {
     "data": {
      "text/plain": [
       "8"
      ]
     },
     "execution_count": 45,
     "metadata": {},
     "output_type": "execute_result"
    }
   ],
   "source": [
    "### 검증데이터의 0번째 종속변수의 정답 확인하기\n",
    "# - 가방 : 8번\n",
    "val_target[0]"
   ]
  },
  {
   "cell_type": "markdown",
   "id": "15464768",
   "metadata": {},
   "source": [
    "### 예측하기"
   ]
  },
  {
   "cell_type": "code",
   "execution_count": null,
   "id": "5a4f80cc",
   "metadata": {},
   "outputs": [
    {
     "data": {
      "text/plain": [
       "array([[1.4923840e-16, 1.9329571e-28, 5.7412670e-24, 8.9349012e-21,\n",
       "        3.0889178e-19, 2.6729337e-16, 1.0971277e-18, 6.6802194e-15,\n",
       "        1.0000000e+00, 1.0474114e-15]], dtype=float32)"
      ]
     },
     "execution_count": 48,
     "metadata": {},
     "output_type": "execute_result"
    }
   ],
   "source": [
    "### 검증 데이터의 0번째 데이터를 이용하여 예측하기\n",
    "# - 0번째 검증데이터 추출하기\n",
    "val_scaled[ : 1]\n",
    "\n",
    "### 예측하기\n",
    "val_pred_0 = best_model.predict(val_scaled[:1])\n",
    "val_pred_0"
   ]
  },
  {
   "cell_type": "code",
   "execution_count": 54,
   "id": "f96ded02",
   "metadata": {},
   "outputs": [
    {
     "data": {
      "image/png": "[encoded data removed]",
      "text/plain": [
       "<Figure size 640x480 with 1 Axes>"
      ]
     },
     "metadata": {},
     "output_type": "display_data"
    }
   ],
   "source": [
    "### 검증데이터 0번째 예측 결과에 대한 10개 확률결과를 막대그래프로 그리기\n",
    "# - x축은 인덱스번호\n",
    "# - y축은 확률값\n",
    "\n",
    "plt.bar(range(len(val_pred_0[0])), val_pred_0[0])\n",
    "plt.xticks(range(len(val_pred_0[0])))\n",
    "plt.grid()\n",
    "plt.show()"
   ]
  },
  {
   "cell_type": "code",
   "execution_count": 55,
   "id": "766939cb",
   "metadata": {},
   "outputs": [
    {
     "data": {
      "text/plain": [
       "['티셔츠', '바지', '스웨터', '드레스', '코트', '샌달', '셔츠', '스니커즈', '가방', '앵클부츠']"
      ]
     },
     "execution_count": 55,
     "metadata": {},
     "output_type": "execute_result"
    }
   ],
   "source": [
    "### 종속변수의 범주 명칭\n",
    "classes = [\"티셔츠\", \"바지\", \"스웨터\", \"드레스\", \"코트\",\n",
    "           \"샌달\", \"셔츠\", \"스니커즈\", \"가방\", \"앵클부츠\"]\n",
    "classes"
   ]
  },
  {
   "cell_type": "code",
   "execution_count": null,
   "id": "83f374cf",
   "metadata": {},
   "outputs": [
    {
     "data": {
      "image/png": "[encoded data removed]",
      "text/plain": [
       "<Figure size 640x480 with 1 Axes>"
      ]
     },
     "metadata": {},
     "output_type": "display_data"
    },
    {
     "name": "stdout",
     "output_type": "stream",
     "text": [
      "예측값 : 8\n",
      "예측값(한글명) : 가방\n",
      "실제값(한글명) : 가방\n"
     ]
    }
   ],
   "source": [
    "### 검증데이터 0번째에 대한 이미지, 예측값, 예측값(한글명), 실제값(한글명) 출력\n",
    "plt.imshow(val_scaled_0, cmap=\"gray_r\")\n",
    "plt.show()\n",
    "\n",
    "print(f\"예측값 : {np.argmax(val_pred_0)}\")\n",
    "print(f\"예측값(한글명) : {classes[np.argmax(val_pred_0)]}\")\n",
    "print(f\"실제값(한글명) : {classes[val_target[0]]}\")"
   ]
  },
  {
   "cell_type": "markdown",
   "id": "f4bb7fbd",
   "metadata": {},
   "source": [
    "### 테스트 데이터로 예측하기"
   ]
  },
  {
   "cell_type": "markdown",
   "id": "8bd36b52",
   "metadata": {},
   "source": [
    "- 전체 테스트 데이터를 이용해서 예측하기\n",
    "- 예측 결과 중 10개 데이터만 추출\n",
    "- 10개 각각 예측결과에 대해\n",
    "   - 실제 이미지그리기(이미지 사이즈는 (2, 2) 사용)\n",
    "   - 예측값/예측값(한글명)/실제값(한글명) 출력하기"
   ]
  },
  {
   "cell_type": "code",
   "execution_count": null,
   "id": "90325f4b",
   "metadata": {},
   "outputs": [
    {
     "data": {
      "text/plain": [
       "(10000, 28, 28, 1)"
      ]
     },
     "execution_count": 59,
     "metadata": {},
     "output_type": "execute_result"
    }
   ],
   "source": [
    "### 테스트 데이터를 4차원 데이터로 변환 후 스케일링 처리를 해야 함\n",
    "# --> 예측을 위해서\n",
    "test_scaled = test_input.reshape(-1, 28, 28, 1) / 255.0\n",
    "test_scaled.shape"
   ]
  },
  {
   "cell_type": "code",
   "execution_count": 60,
   "id": "40991af9",
   "metadata": {},
   "outputs": [
    {
     "data": {
      "text/plain": [
       "(10000, 10)"
      ]
     },
     "execution_count": 60,
     "metadata": {},
     "output_type": "execute_result"
    }
   ],
   "source": [
    "### 테스트 데이터 전체로 예측하기\n",
    "test_pred = model.predict(test_scaled)\n",
    "test_pred.shape"
   ]
  },
  {
   "cell_type": "code",
   "execution_count": 61,
   "id": "227453f9",
   "metadata": {},
   "outputs": [
    {
     "data": {
      "image/png": "[encoded data removed]",
      "text/plain": [
       "<Figure size 200x200 with 1 Axes>"
      ]
     },
     "metadata": {},
     "output_type": "display_data"
    },
    {
     "name": "stdout",
     "output_type": "stream",
     "text": [
      "예측값 : 9\n",
      "예측값(한글명) : 앵클부츠\n",
      "실제값(한글명) : 앵클부츠\n"
     ]
    },
    {
     "data": {
      "image/png": "[encoded data removed]",
      "text/plain": [
       "<Figure size 200x200 with 1 Axes>"
      ]
     },
     "metadata": {},
     "output_type": "display_data"
    },
    {
     "name": "stdout",
     "output_type": "stream",
     "text": [
      "예측값 : 2\n",
      "예측값(한글명) : 스웨터\n",
      "실제값(한글명) : 스웨터\n"
     ]
    },
    {
     "data": {
      "image/png": "[encoded data removed]",
      "text/plain": [
       "<Figure size 200x200 with 1 Axes>"
      ]
     },
     "metadata": {},
     "output_type": "display_data"
    },
    {
     "name": "stdout",
     "output_type": "stream",
     "text": [
      "예측값 : 1\n",
      "예측값(한글명) : 바지\n",
      "실제값(한글명) : 바지\n"
     ]
    },
    {
     "data": {
      "image/png": "[encoded data removed]",
      "text/plain": [
       "<Figure size 200x200 with 1 Axes>"
      ]
     },
     "metadata": {},
     "output_type": "display_data"
    },
    {
     "name": "stdout",
     "output_type": "stream",
     "text": [
      "예측값 : 1\n",
      "예측값(한글명) : 바지\n",
      "실제값(한글명) : 바지\n"
     ]
    },
    {
     "data": {
      "image/png": "[encoded data removed]",
      "text/plain": [
       "<Figure size 200x200 with 1 Axes>"
      ]
     },
     "metadata": {},
     "output_type": "display_data"
    },
    {
     "name": "stdout",
     "output_type": "stream",
     "text": [
      "예측값 : 6\n",
      "예측값(한글명) : 셔츠\n",
      "실제값(한글명) : 셔츠\n"
     ]
    },
    {
     "data": {
      "image/png": "[encoded data removed]",
      "text/plain": [
       "<Figure size 200x200 with 1 Axes>"
      ]
     },
     "metadata": {},
     "output_type": "display_data"
    },
    {
     "name": "stdout",
     "output_type": "stream",
     "text": [
      "예측값 : 1\n",
      "예측값(한글명) : 바지\n",
      "실제값(한글명) : 바지\n"
     ]
    },
    {
     "data": {
      "image/png": "[encoded data removed]",
      "text/plain": [
       "<Figure size 200x200 with 1 Axes>"
      ]
     },
     "metadata": {},
     "output_type": "display_data"
    },
    {
     "name": "stdout",
     "output_type": "stream",
     "text": [
      "예측값 : 4\n",
      "예측값(한글명) : 코트\n",
      "실제값(한글명) : 코트\n"
     ]
    },
    {
     "data": {
      "image/png": "[encoded data removed]",
      "text/plain": [
       "<Figure size 200x200 with 1 Axes>"
      ]
     },
     "metadata": {},
     "output_type": "display_data"
    },
    {
     "name": "stdout",
     "output_type": "stream",
     "text": [
      "예측값 : 6\n",
      "예측값(한글명) : 셔츠\n",
      "실제값(한글명) : 셔츠\n"
     ]
    },
    {
     "data": {
      "image/png": "[encoded data removed]",
      "text/plain": [
       "<Figure size 200x200 with 1 Axes>"
      ]
     },
     "metadata": {},
     "output_type": "display_data"
    },
    {
     "name": "stdout",
     "output_type": "stream",
     "text": [
      "예측값 : 5\n",
      "예측값(한글명) : 샌달\n",
      "실제값(한글명) : 샌달\n"
     ]
    },
    {
     "data": {
      "image/png": "[encoded data removed]",
      "text/plain": [
       "<Figure size 200x200 with 1 Axes>"
      ]
     },
     "metadata": {},
     "output_type": "display_data"
    },
    {
     "name": "stdout",
     "output_type": "stream",
     "text": [
      "예측값 : 7\n",
      "예측값(한글명) : 스니커즈\n",
      "실제값(한글명) : 스니커즈\n"
     ]
    }
   ],
   "source": [
    "### 예측결과 상위10개에 대해서만 출력\n",
    "for i in range(10) :\n",
    "    # 이미지 사이즈 지정\n",
    "    plt.figure(figsize=(2, 2))\n",
    "    \n",
    "    # 이미지 2차원으로 변환 수 시각화\n",
    "    plt.imshow(test_scaled[i].reshape(28, 28), cmap=\"gray_r\")\n",
    "    plt.show()\n",
    "    \n",
    "    # 예측값, 예측값(한글), 실제값(한글) 출력하기\n",
    "    print(f\"예측값 : {np.argmax(test_pred[i])}\")\n",
    "    print(f\"예측값(한글명) : {classes[np.argmax(test_pred[i])]}\")\n",
    "    print(f\"실제값(한글명) : {classes[test_target[i]]}\")\n",
    "    "
   ]
  }
 ],
 "metadata": {
  "kernelspec": {
   "display_name": "pk_dl_gpu_kernel",
   "language": "python",
   "name": "pk_dl_gpu"
  },
  "language_info": {
   "codemirror_mode": {
    "name": "ipython",
    "version": 3
   },
   "file_extension": ".py",
   "mimetype": "text/x-python",
   "name": "python",
   "nbconvert_exporter": "python",
   "pygments_lexer": "ipython3",
   "version": "3.9.21"
  }
 },
 "nbformat": 4,
 "nbformat_minor": 5
}
