{
 "cells": [
  {
   "cell_type": "markdown",
   "id": "8a4a6690",
   "metadata": {},
   "source": [
    "### 자연어처리 라이브러리 설치"
   ]
  },
  {
   "cell_type": "markdown",
   "id": "5b7070f6",
   "metadata": {},
   "source": [
    "- 자연어처리 파이썬 라이브러리\n",
    "    - NLTK(Natural Language Toolkit)\n",
    "        - 영어 중심의 자연어처리용 파이썬 라이브러리\n",
    "        - 텍스트 전처리, 토큰화, 품사 태깅, 말뭉치 처리 등에 유용\n",
    "    \n",
    "    - KoNLPY(Korean Natural Language Processing in Python)\n",
    "        - 한국어 중심의 자연어처리용 파이썬 라이브러리\n",
    "        - NLTK 라이브러리 기반에서 만들어졌음\n",
    "        - 여러 형태소 분석기를 제공하고 있음\n",
    "  \n",
    "- 사용 환경 및 설치 라이브러리\n",
    "    - NLTK 및 KoNLPY는 Java로 만들어진 라이브러리로 JDK 개발 라이브러리가 필수\n",
    "    - NLTK, KoNLPY 설치 필요\n",
    "    - 일반적으로 사용되는 라이브러리(설치 필요)\n",
    "        - wordcloud(워드클라우드)\n",
    "        - JPype1(파이썬에서 자바라이브러리를 사용할 수 있도록 도와주는 라이브러리)\n",
    "   \n",
    "- 설치 순서\n",
    "    - pip install -U nltk\n",
    "    - python\n",
    "    - import nltk\n",
    "    - nltk.download()\n",
    "        - 팝업창 탭에서 All Packages 선택 -> punkt, punkt.tab, stopwords install 시키기\n",
    "        - 창 닫기\n",
    "    - quit()\n",
    "\n",
    "- pip install -U wordcloud\n",
    "- pip install -U JPype1 (끝에는 숫자 1입니다.)\n",
    "- pip install -U konlpy\n",
    "\n",
    "- konlpy 설정\n",
    "    - 가상환경 이름의 > konlpy 설치 폴더로 이동 > jvm.py 파일 메모장으로 열기\n",
    "    - *표시 제거"
   ]
  },
  {
   "cell_type": "markdown",
   "id": "8de0196a",
   "metadata": {},
   "source": [
    "### 설치 확인하기"
   ]
  },
  {
   "cell_type": "code",
   "execution_count": 2,
   "id": "eeb1820a",
   "metadata": {},
   "outputs": [],
   "source": [
    "### 라이브러리 정의\n",
    "# Okt : 트위터에서 제공해주는 형태소 분석기 라이브러리\n",
    "from konlpy.tag import Okt"
   ]
  },
  {
   "cell_type": "code",
   "execution_count": 3,
   "id": "36ffd760",
   "metadata": {},
   "outputs": [
    {
     "data": {
      "text/plain": [
       "<konlpy.tag._okt.Okt at 0x2025eb4c2e0>"
      ]
     },
     "execution_count": 3,
     "metadata": {},
     "output_type": "execute_result"
    }
   ],
   "source": [
    "### 형태소 분석기 클래스 생성하기\n",
    "word = Okt()\n",
    "word"
   ]
  },
  {
   "cell_type": "markdown",
   "id": "1a0dad50",
   "metadata": {},
   "source": [
    "### 테스트 문장 처리하기"
   ]
  },
  {
   "cell_type": "code",
   "execution_count": 4,
   "id": "e120e5bd",
   "metadata": {},
   "outputs": [
    {
     "data": {
      "text/plain": [
       "'한국어 분석을 시작합니다.'"
      ]
     },
     "execution_count": 4,
     "metadata": {},
     "output_type": "execute_result"
    }
   ],
   "source": [
    "### 형태소 분석에 사용할 문장 만들기\n",
    "text = \"한국어 분석을 시작합니다.\"\n",
    "text"
   ]
  },
  {
   "cell_type": "code",
   "execution_count": 5,
   "id": "dccfb7e7",
   "metadata": {},
   "outputs": [
    {
     "data": {
      "text/plain": [
       "['한국어', '분석', '을', '시작', '합니다', '.']"
      ]
     },
     "execution_count": 5,
     "metadata": {},
     "output_type": "execute_result"
    }
   ],
   "source": [
    "### 형태소 분할하기\n",
    "# - 단어를 형태소(품사) 별로 분할\n",
    "word.morphs(text)"
   ]
  },
  {
   "cell_type": "code",
   "execution_count": 6,
   "id": "76d00121",
   "metadata": {},
   "outputs": [
    {
     "data": {
      "text/plain": [
       "[('한국어', 'Noun'),\n",
       " ('분석', 'Noun'),\n",
       " ('을', 'Josa'),\n",
       " ('시작', 'Noun'),\n",
       " ('합니다', 'Verb'),\n",
       " ('.', 'Punctuation')]"
      ]
     },
     "execution_count": 6,
     "metadata": {},
     "output_type": "execute_result"
    }
   ],
   "source": [
    "### 형태소 분할 시 품사 이름과 함께 분할\n",
    "word.pos(text)"
   ]
  },
  {
   "cell_type": "code",
   "execution_count": 7,
   "id": "c1ba245d",
   "metadata": {},
   "outputs": [
    {
     "data": {
      "text/plain": [
       "['한국어', '분석', '시작']"
      ]
     },
     "execution_count": 7,
     "metadata": {},
     "output_type": "execute_result"
    }
   ],
   "source": [
    "### 명사 추출하기\n",
    "word.nouns(text)"
   ]
  }
 ],
 "metadata": {
  "kernelspec": {
   "display_name": "pk_dl_gpu_kernel",
   "language": "python",
   "name": "pk_dl_gpu"
  },
  "language_info": {
   "codemirror_mode": {
    "name": "ipython",
    "version": 3
   },
   "file_extension": ".py",
   "mimetype": "text/x-python",
   "name": "python",
   "nbconvert_exporter": "python",
   "pygments_lexer": "ipython3",
   "version": "3.9.21"
  }
 },
 "nbformat": 4,
 "nbformat_minor": 5
}
