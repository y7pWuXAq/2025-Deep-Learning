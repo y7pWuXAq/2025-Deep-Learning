{
 "cells": [
  {
   "cell_type": "markdown",
   "id": "6b246168",
   "metadata": {},
   "source": [
    "1. 패션데이터셋 읽어들이기 : 변수는 기존과 동일\n",
    "2. 데이터 스케일링 : 변수는 기존과 동일\n",
    "3. 2차원 데이터로 변경\n",
    "4. 훈련 : 검증 = 8:2로 분리 : 변수는 기존과 동일"
   ]
  },
  {
   "cell_type": "code",
   "execution_count": null,
   "id": "912a84a9",
   "metadata": {},
   "outputs": [],
   "source": [
    "### 텐서플로 프레임워크 사용\n",
    "# - 사용 라이브러리 : keras\n",
    "\n",
    "### 텐서플로우 프레임워크(패키지라고도 칭함)\n",
    "import tensorflow as tf\n",
    "\n",
    "### 케라스 라이브러리 불러들이기\n",
    "from tensorflow import keras\n",
    "\n",
    "### 시각화 라이브러리 불러들이기\n",
    "import matplotlib.pyplot as plt\n",
    "\n",
    "### 넘파이\n",
    "import numpy as np\n",
    "\n",
    "### 훈련 및 테스트 데이터로 분류하는 라이브러리\n",
    "from sklearn.model_selection import train_test_split\n",
    "\n",
    "### 딥러닝 랜덤 규칙 정의하기\n",
    "# - 딥러닝에서의 랜덤 규칙은 항상 일정하게 유지되지는 않음\n",
    "# - 딥러닝 모델 내부에서 훈련을 위한 데이터를 임의로 추출하여 사용(사람이 관여 안함)\n",
    "tf.keras.utils.set_random_seed(42)\n",
    "tf.config.experimental.enable_op_determinism()"
   ]
  },
  {
   "cell_type": "code",
   "execution_count": null,
   "id": "015d521e",
   "metadata": {},
   "outputs": [
    {
     "name": "stdout",
     "output_type": "stream",
     "text": [
      "(60000, 28, 28) (60000,)\n",
      "(10000, 28, 28) (10000,)\n"
     ]
    }
   ],
   "source": [
    "### keras에서 제공하는 데이터 라이브러리 : Fashion MNIST\n",
    "# - 이미지 데이터로 되어있음\n",
    "\n",
    "### 데이터셋 읽어들이기\n",
    "# - 반환되는 데이터 : train(독립, 종속), test(독립, 종속) 총 4개 데이터 변수로 반환됨\n",
    "(train_input, train_target), (test_input, test_target) = keras.datasets.fashion_mnist.load_data()\n",
    "\n",
    "print(train_input.shape, train_target.shape)\n",
    "print(test_input.shape, test_target.shape)"
   ]
  },
  {
   "cell_type": "code",
   "execution_count": null,
   "id": "7ad8d4ec",
   "metadata": {},
   "outputs": [],
   "source": [
    "### 이미지 픽셀 데이터를 0~1사이의 값으로 변환하기\n",
    "# - 이미지 픽셀 데이터의 범위는 0~255의 범위값으로 구성되어 있음\n",
    "# - 따라서, 각 픽셀의 값을 255로 나눠주면, 0~1사이의 값으로 일반화가 가능함\n",
    "# - 훈련 및 테스트 독립변수의 데이터를 모두 255로 나누어서 전처리하기\n",
    "#   (255.0의 소숫점으로 나눠줌)\n",
    "train_scaled_255 = train_input / 255.0\n",
    "test_scaled_255  = test_input / 255.0"
   ]
  },
  {
   "cell_type": "code",
   "execution_count": 5,
   "id": "1c063318",
   "metadata": {},
   "outputs": [
    {
     "data": {
      "text/plain": [
       "((60000, 784), (10000, 784))"
      ]
     },
     "execution_count": 5,
     "metadata": {},
     "output_type": "execute_result"
    }
   ],
   "source": [
    "### 2차원 데이터로 변환\n",
    "train_scaled_2d = train_scaled_255.reshape(-1, 28 * 28)\n",
    "test_scaled_2d = test_scaled_255.reshape(-1, 28 * 28)\n",
    "\n",
    "train_scaled_2d.shape, test_scaled_2d.shape"
   ]
  },
  {
   "cell_type": "code",
   "execution_count": 6,
   "id": "8defa178",
   "metadata": {},
   "outputs": [
    {
     "name": "stdout",
     "output_type": "stream",
     "text": [
      "(48000, 784) (48000,)\n",
      "(12000, 784) (12000,)\n",
      "(10000, 784) (10000,)\n"
     ]
    }
   ],
   "source": [
    "### 훈련(train_scaled, train_target)\n",
    "### 검증(val_scaled, val_target)\n",
    "train_scaled, val_scaled, train_target, val_target = train_test_split(\n",
    "    train_scaled_2d, train_target, test_size=0.2, random_state=42\n",
    ")\n",
    "\n",
    "print(train_scaled.shape,   train_target.shape)\n",
    "print(val_scaled.shape,     val_target.shape)\n",
    "print(test_scaled_2d.shape, test_target.shape)"
   ]
  },
  {
   "cell_type": "markdown",
   "id": "38412866",
   "metadata": {},
   "source": [
    "### 신경망 모델에 계층(Layer) 추가하는 방법(3가지)"
   ]
  },
  {
   "cell_type": "markdown",
   "id": "a544f89b",
   "metadata": {},
   "source": [
    "#### 1. 계층(Layer)을 먼저 만들고, 신경망 모델 생성 시 추가하는 방법"
   ]
  },
  {
   "cell_type": "code",
   "execution_count": 7,
   "id": "b87fb9db",
   "metadata": {},
   "outputs": [
    {
     "data": {
      "text/plain": [
       "<keras.layers.core.dense.Dense at 0x27df050a6d0>"
      ]
     },
     "execution_count": 7,
     "metadata": {},
     "output_type": "execute_result"
    }
   ],
   "source": [
    "### 입력계층 생성하기\n",
    "# - 변수명 : dense1\n",
    "# - 활성화 함수 : sigmoid 사용\n",
    "# - 출력 데이터 갯수 : 100개\n",
    "# - 입력 데이터 갯수 : 784개\n",
    "dense1 = keras.layers.Dense(\n",
    "    # 출력갯수\n",
    "    units = 100,\n",
    "    # 활성화 함수\n",
    "    activation = \"sigmoid\",\n",
    "    # 입력 데이터 갯수\n",
    "    input_shape = (784, )\n",
    ")\n",
    "dense1"
   ]
  },
  {
   "cell_type": "code",
   "execution_count": 8,
   "id": "fa284e36",
   "metadata": {},
   "outputs": [
    {
     "data": {
      "text/plain": [
       "<keras.layers.core.dense.Dense at 0x27df0466d60>"
      ]
     },
     "execution_count": 8,
     "metadata": {},
     "output_type": "execute_result"
    }
   ],
   "source": [
    "### 출력계층 생성하기\n",
    "# - 변수명 : dense2\n",
    "dense2 = keras.layers.Dense(\n",
    "    # 최종 출력갯수(종속변수 범주 갯수)\n",
    "    units = 10,\n",
    "    # 다중분류\n",
    "    activation = \"softmax\"\n",
    ")\n",
    "dense2"
   ]
  },
  {
   "cell_type": "code",
   "execution_count": 9,
   "id": "38bc2eb2",
   "metadata": {},
   "outputs": [
    {
     "name": "stdout",
     "output_type": "stream",
     "text": [
      "Model: \"sequential\"\n",
      "_________________________________________________________________\n",
      " Layer (type)                Output Shape              Param #   \n",
      "=================================================================\n",
      " dense (Dense)               (None, 100)               78500     \n",
      "                                                                 \n",
      " dense_1 (Dense)             (None, 10)                1010      \n",
      "                                                                 \n",
      "=================================================================\n",
      "Total params: 79,510\n",
      "Trainable params: 79,510\n",
      "Non-trainable params: 0\n",
      "_________________________________________________________________\n"
     ]
    }
   ],
   "source": [
    "### 신경망 모델 생성과 동시에 미리 생성한 계층 추가하기\n",
    "model = keras.Sequential([dense1, dense2])\n",
    "model.summary()"
   ]
  },
  {
   "cell_type": "markdown",
   "id": "bdd23f37",
   "metadata": {},
   "source": [
    "##### 2. 신경망 모델 생성 시에 계층(Layer)을 함께 추가하는 방식"
   ]
  },
  {
   "cell_type": "code",
   "execution_count": 10,
   "id": "208af992",
   "metadata": {},
   "outputs": [
    {
     "name": "stdout",
     "output_type": "stream",
     "text": [
      "Model: \"Model2\"\n",
      "_________________________________________________________________\n",
      " Layer (type)                Output Shape              Param #   \n",
      "=================================================================\n",
      " Input_Layer (Dense)         (None, 100)               78500     \n",
      "                                                                 \n",
      " Output-Layer (Dense)        (None, 10)                1010      \n",
      "                                                                 \n",
      "=================================================================\n",
      "Total params: 79,510\n",
      "Trainable params: 79,510\n",
      "Non-trainable params: 0\n",
      "_________________________________________________________________\n"
     ]
    }
   ],
   "source": [
    "### 신경망 모델 생성하기\n",
    "model2 = keras.Sequential([\n",
    "    # 입력계층 생성 및 추가\n",
    "    keras.layers.Dense(units=100, activation=\"sigmoid\",\n",
    "                        input_shape=(784,), name=\"Input_Layer\"),\n",
    "\n",
    "    # 출력계층 생성 및 추가\n",
    "    keras.layers.Dense(units=10, activation=\"softmax\", name=\"Output-Layer\")\n",
    "\n",
    "   # 모델 이름 정의 \n",
    "], name=\"Model2\")\n",
    "\n",
    "model2.summary()"
   ]
  },
  {
   "cell_type": "markdown",
   "id": "8cabb99f",
   "metadata": {},
   "source": [
    "#### 3. 신경망 모델을 먼저 생성 후 add()함수를 이용해서 계층(Layer) 추가하는 방식(가장 많이 사용됨)"
   ]
  },
  {
   "cell_type": "code",
   "execution_count": 11,
   "id": "d565cd57",
   "metadata": {},
   "outputs": [
    {
     "data": {
      "text/plain": [
       "<keras.engine.sequential.Sequential at 0x27e070b22e0>"
      ]
     },
     "execution_count": 11,
     "metadata": {},
     "output_type": "execute_result"
    }
   ],
   "source": [
    "### 모델 생성하기\n",
    "model3 = keras.Sequential(name=\"Model3\")\n",
    "model3"
   ]
  },
  {
   "cell_type": "code",
   "execution_count": 13,
   "id": "d6ab1ba9",
   "metadata": {},
   "outputs": [
    {
     "name": "stdout",
     "output_type": "stream",
     "text": [
      "Model: \"Model3\"\n",
      "_________________________________________________________________\n",
      " Layer (type)                Output Shape              Param #   \n",
      "=================================================================\n",
      " Input-Layer (Dense)         (None, 100)               78500     \n",
      "                                                                 \n",
      "=================================================================\n",
      "Total params: 78,500\n",
      "Trainable params: 78,500\n",
      "Non-trainable params: 0\n",
      "_________________________________________________________________\n"
     ]
    }
   ],
   "source": [
    "### 입력계층 생성 및 추가하기\n",
    "model3.add(\n",
    "    keras.layers.Dense(units=100, activation=\"sigmoid\", \n",
    "                        input_shape=(784,), name=\"Input-Layer\")\n",
    ")\n",
    "model3.summary()"
   ]
  },
  {
   "cell_type": "code",
   "execution_count": 15,
   "id": "d996ad85",
   "metadata": {},
   "outputs": [
    {
     "name": "stdout",
     "output_type": "stream",
     "text": [
      "Model: \"Model3\"\n",
      "_________________________________________________________________\n",
      " Layer (type)                Output Shape              Param #   \n",
      "=================================================================\n",
      " Input-Layer (Dense)         (None, 100)               78500     \n",
      "                                                                 \n",
      " Output-Layer (Dense)        (None, 10)                1010      \n",
      "                                                                 \n",
      "=================================================================\n",
      "Total params: 79,510\n",
      "Trainable params: 79,510\n",
      "Non-trainable params: 0\n",
      "_________________________________________________________________\n"
     ]
    }
   ],
   "source": [
    "### 출력계층 생성 및 모델에 추가하기\n",
    "model3.add(\n",
    "    keras.layers.Dense(units=10, activation=\"softmax\", name=\"Output-Layer\")\n",
    ")\n",
    "\n",
    "model3.summary()"
   ]
  }
 ],
 "metadata": {
  "kernelspec": {
   "display_name": "pk_dl_gpu_kernel",
   "language": "python",
   "name": "pk_dl_gpu"
  },
  "language_info": {
   "codemirror_mode": {
    "name": "ipython",
    "version": 3
   },
   "file_extension": ".py",
   "mimetype": "text/x-python",
   "name": "python",
   "nbconvert_exporter": "python",
   "pygments_lexer": "ipython3",
   "version": "3.9.21"
  }
 },
 "nbformat": 4,
 "nbformat_minor": 5
}
