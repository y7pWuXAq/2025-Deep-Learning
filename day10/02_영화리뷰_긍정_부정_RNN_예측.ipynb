{
 "cells": [
  {
   "cell_type": "markdown",
   "id": "c14318ce",
   "metadata": {},
   "source": [
    "- 영화리뷰 긍정/부정 예측 하기\n",
    "    - 사용자로부터 영화리뷰 입력 받기\n",
    "    - 함수를 이용하여 예측 기능 수행\n",
    "    - 긍정/부정 출력\n",
    "        - 출력 예시 : 00% 확률로 [긍정 or 부정] 리뷰임\n",
    "    -  훈련에서 사용된 말뭉치 tokenizer가 필요함\n",
    "        - 훈련 시에 훈련에 적용된 tokenizer의 최종본을 파일로 저장해야 함\n",
    "        - 저장 방법 : pickle 사용하여 저장"
   ]
  },
  {
   "cell_type": "code",
   "execution_count": null,
   "id": "5144f574",
   "metadata": {},
   "outputs": [
    {
     "name": "stdout",
     "output_type": "stream",
     "text": [
      "0.95018506\n",
      "95.0 확률의 [긍정] 리뷰입니다.\n"
     ]
    }
   ],
   "source": [
    "# 1. 라이브러리 불러들이기\n",
    "\n",
    "import tensorflow as tf\n",
    "from tensorflow import keras\n",
    "import pickle\n",
    "from tensorflow.keras.preprocessing.sequence import pad_sequences\n",
    "\n",
    "\n",
    "\n",
    "## 2. 최적의 모델 불러들이기\n",
    "best_model =  keras.models.load_model(\"./model/best_LSTM_model.h5\")\n",
    "\n",
    "## 3. 말뭉치 사전 불러들이기\n",
    "save_path = \"./files/word_dictionary.pickle\"\n",
    "\n",
    "\n",
    "### rb : r은 읽기 , b는 바이너리, 즉 바이너리 형태의 파일을 읽어들이기\n",
    "with open(save_path,\"rb\") as f :\n",
    "    word_dictionary = pickle.load(f)\n",
    "\n",
    "\n",
    "while 1:\n",
    "    ###4. 예측을 위한 임의 리뷰 입력받기\n",
    "\n",
    "    user_input = str(input())\n",
    "\n",
    "    ### 텍스트 문장 내에 단어를 추출하여 -> 말뭉치 인덱스 번호로 변환하기\n",
    "    # - 1차원 리스트로 넣어주기 -> 2차원 데이터로 반환해줌\n",
    "    #   -> 외부 파일에서 모델을 사용하여 예측할 경우에는 말뭉치사전의 값을 알고 있어야 함\n",
    "    input_seq = word_dictionary.texts_to_sequences([user_input])\n",
    "\n",
    "    ### 데이터 스케일링 처리하기\n",
    "    # - 훈련시 사용한 질문의 특성 갯수로 스케일링해야 함\n",
    "    # - maxlen 속성을 정의해야 함\n",
    "    #   -> 외부 파일에서 모델을 사용하여 예측할 경우에는 maxlen의 값을 알고 있어야 함\n",
    "    # - truncating 속성을 정의해야 함 : 질문이 길게 입력될 수 있기 때문임\n",
    "    padded_seq = pad_sequences(input_seq, padding=\"post\", truncating=\"post\",\n",
    "                            maxlen=11)\n",
    "\n",
    "    ### 예측하기\n",
    "    # - 말뭉치의 숫자로 예측을 해줌\n",
    "    pred = best_model.predict(padded_seq)\n",
    "\n",
    "    value = pred[0][0]\n",
    "    print(value)\n",
    "\n",
    "    if value >= 0.5:\n",
    "        print(f\"{round(value * 100,0)} 확률의 [긍정] 리뷰입니다.\")\n",
    "    elif value < 0.5:\n",
    "        print(f\"{round(value * 100,0)} 확률의 [부정] 리뷰입니다.\")\n",
    "    \n",
    "    break\n"
   ]
  }
 ],
 "metadata": {
  "kernelspec": {
   "display_name": "pk_dl_gpu_kernel",
   "language": "python",
   "name": "pk_dl_gpu"
  },
  "language_info": {
   "codemirror_mode": {
    "name": "ipython",
    "version": 3
   },
   "file_extension": ".py",
   "mimetype": "text/x-python",
   "name": "python",
   "nbconvert_exporter": "python",
   "pygments_lexer": "ipython3",
   "version": "3.9.21"
  }
 },
 "nbformat": 4,
 "nbformat_minor": 5
}
