{
 "cells": [
  {
   "cell_type": "code",
   "execution_count": 1,
   "id": "1ba1cc23",
   "metadata": {},
   "outputs": [
    {
     "name": "stdout",
     "output_type": "stream",
     "text": [
      "[name: \"/device:CPU:0\"\n",
      "device_type: \"CPU\"\n",
      "memory_limit: 268435456\n",
      "locality {\n",
      "}\n",
      "incarnation: 968053941241833546\n",
      "xla_global_id: -1\n",
      ", name: \"/device:GPU:0\"\n",
      "device_type: \"GPU\"\n",
      "memory_limit: 10089332736\n",
      "locality {\n",
      "  bus_id: 1\n",
      "  links {\n",
      "  }\n",
      "}\n",
      "incarnation: 1549189767740819263\n",
      "physical_device_desc: \"device: 0, name: NVIDIA GeForce RTX 3060, pci bus id: 0000:01:00.0, compute capability: 8.6\"\n",
      "xla_global_id: 416903419\n",
      "]\n"
     ]
    }
   ],
   "source": [
    "from tensorflow.python.client import device_lib\n",
    "print(device_lib.list_local_devices())"
   ]
  },
  {
   "cell_type": "code",
   "execution_count": 2,
   "id": "9f82d51b",
   "metadata": {},
   "outputs": [],
   "source": [
    "import os\n",
    "## GPU 사용\n",
    "# os.environ[\"CUDA_VISIBLE_DEVICES\"] = \"0\"\n",
    "## CPU 사용\n",
    "# os.environ[\"CUDA_VISIBLE_DEVICES\"] = \"-1\""
   ]
  },
  {
   "cell_type": "markdown",
   "id": "447eff0b",
   "metadata": {},
   "source": [
    "- 텐서플로 프레임워크 사용\n",
    "- 사용 라이브러리 : keras\n",
    "- 텐서플로우 사용버전\n",
    "    - CUDA 버전에 따라 설치 버전 다양함\n",
    "    - CUDA 버전은 GPU 버전에 설치 버전 다양함\n",
    "    - GPU -> RTX3060에 대한 텐서는 보통 2.8.0버전 설치\n",
    "        - CPU 및 GPU 모두 가능한 버전"
   ]
  },
  {
   "cell_type": "code",
   "execution_count": null,
   "id": "204c9778",
   "metadata": {},
   "outputs": [],
   "source": [
    "### 텐서플로우 프레임워크(패키지라고도 칭함)\n",
    "import tensorflow as tf\n",
    "\n",
    "### 케라스 라이브러리 불러들이기\n",
    "from tensorflow import keras\n",
    "\n",
    "### 시각화 라이브러리 불러들이기\n",
    "import matplotlib.pyplot as plt\n",
    "\n",
    "### 넘파이\n",
    "import numpy as np\n",
    "\n",
    "### 훈련 및 테스트 데이터로 분류하는 라이브러리\n",
    "from sklearn.model_selection import train_test_split\n",
    "\n",
    "### 딥러닝 랜덤 규칙 정의하기\n",
    "# - 딥러닝에서의 랜덤 규칙은 항상 일정하게 유지되지는 않음\n",
    "# - 딥러닝 모델 내부에서 훈련을 위한 데이터를 임의로 추출하여 사용(사람이 관여 안함)\n",
    "tf.keras.utils.set_random_seed(42)\n",
    "tf.config.experimental.enable_op_determinism()"
   ]
  },
  {
   "cell_type": "markdown",
   "id": "89fc8a2c",
   "metadata": {},
   "source": [
    "### 데이터 수집하기\n",
    "##### - 사용데이터 : Fashion MNIST 데이터셋 사용(패션 데이터)"
   ]
  },
  {
   "cell_type": "code",
   "execution_count": null,
   "metadata": {},
   "outputs": [
    {
     "name": "stdout",
     "output_type": "stream",
     "text": [
      "(60000, 28, 28) (60000,)\n",
      "(10000, 28, 28) (10000,)\n"
     ]
    }
   ],
   "source": [
    "### keras에서 제공하는 데이터 라이브러리 : Fashion MNIST\n",
    "# - 이미지 데이터로 되어있음\n",
    "\n",
    "### 데이터셋 읽어들이기\n",
    "# - 반환되는 데이터 : train(독립, 종속), test(독립, 종속) 총 4개 데이터 변수로 반환됨\n",
    "(train_input, train_target), (test_input, test_target) = keras.datasets.fashion_mnist.load_data()\n",
    "\n",
    "print(train_input.shape, train_target.shape)\n",
    "print(test_input.shape, test_target.shape)"
   ]
  },
  {
   "cell_type": "code",
   "execution_count": 5,
   "metadata": {},
   "outputs": [
    {
     "data": {
      "text/plain": [
       "array([[  0,   0,   0,   0,   0,   0,   0,   0,   0,   0,   0,   0,   0,\n",
       "          0,   0,   0,   0,   0,   0,   0,   0,   0,   0,   0,   0,   0,\n",
       "          0,   0],\n",
       "       [  0,   0,   0,   0,   0,   0,   0,   0,   0,   0,   0,   0,   0,\n",
       "          0,   0,   0,   0,   0,   0,   0,   0,   0,   0,   0,   0,   0,\n",
       "          0,   0],\n",
       "       [  0,   0,   0,   0,   0,   0,   0,   0,   0,   0,   0,   0,   0,\n",
       "          0,   0,   0,   0,   0,   0,   0,   0,   0,   0,   0,   0,   0,\n",
       "          0,   0],\n",
       "       [  0,   0,   0,   0,   0,   0,   0,   0,   0,   0,   0,   0,   1,\n",
       "          0,   0,  13,  73,   0,   0,   1,   4,   0,   0,   0,   0,   1,\n",
       "          1,   0],\n",
       "       [  0,   0,   0,   0,   0,   0,   0,   0,   0,   0,   0,   0,   3,\n",
       "          0,  36, 136, 127,  62,  54,   0,   0,   0,   1,   3,   4,   0,\n",
       "          0,   3],\n",
       "       [  0,   0,   0,   0,   0,   0,   0,   0,   0,   0,   0,   0,   6,\n",
       "          0, 102, 204, 176, 134, 144, 123,  23,   0,   0,   0,   0,  12,\n",
       "         10,   0],\n",
       "       [  0,   0,   0,   0,   0,   0,   0,   0,   0,   0,   0,   0,   0,\n",
       "          0, 155, 236, 207, 178, 107, 156, 161, 109,  64,  23,  77, 130,\n",
       "         72,  15],\n",
       "       [  0,   0,   0,   0,   0,   0,   0,   0,   0,   0,   0,   1,   0,\n",
       "         69, 207, 223, 218, 216, 216, 163, 127, 121, 122, 146, 141,  88,\n",
       "        172,  66],\n",
       "       [  0,   0,   0,   0,   0,   0,   0,   0,   0,   1,   1,   1,   0,\n",
       "        200, 232, 232, 233, 229, 223, 223, 215, 213, 164, 127, 123, 196,\n",
       "        229,   0],\n",
       "       [  0,   0,   0,   0,   0,   0,   0,   0,   0,   0,   0,   0,   0,\n",
       "        183, 225, 216, 223, 228, 235, 227, 224, 222, 224, 221, 223, 245,\n",
       "        173,   0],\n",
       "       [  0,   0,   0,   0,   0,   0,   0,   0,   0,   0,   0,   0,   0,\n",
       "        193, 228, 218, 213, 198, 180, 212, 210, 211, 213, 223, 220, 243,\n",
       "        202,   0],\n",
       "       [  0,   0,   0,   0,   0,   0,   0,   0,   0,   1,   3,   0,  12,\n",
       "        219, 220, 212, 218, 192, 169, 227, 208, 218, 224, 212, 226, 197,\n",
       "        209,  52],\n",
       "       [  0,   0,   0,   0,   0,   0,   0,   0,   0,   0,   6,   0,  99,\n",
       "        244, 222, 220, 218, 203, 198, 221, 215, 213, 222, 220, 245, 119,\n",
       "        167,  56],\n",
       "       [  0,   0,   0,   0,   0,   0,   0,   0,   0,   4,   0,   0,  55,\n",
       "        236, 228, 230, 228, 240, 232, 213, 218, 223, 234, 217, 217, 209,\n",
       "         92,   0],\n",
       "       [  0,   0,   1,   4,   6,   7,   2,   0,   0,   0,   0,   0, 237,\n",
       "        226, 217, 223, 222, 219, 222, 221, 216, 223, 229, 215, 218, 255,\n",
       "         77,   0],\n",
       "       [  0,   3,   0,   0,   0,   0,   0,   0,   0,  62, 145, 204, 228,\n",
       "        207, 213, 221, 218, 208, 211, 218, 224, 223, 219, 215, 224, 244,\n",
       "        159,   0],\n",
       "       [  0,   0,   0,   0,  18,  44,  82, 107, 189, 228, 220, 222, 217,\n",
       "        226, 200, 205, 211, 230, 224, 234, 176, 188, 250, 248, 233, 238,\n",
       "        215,   0],\n",
       "       [  0,  57, 187, 208, 224, 221, 224, 208, 204, 214, 208, 209, 200,\n",
       "        159, 245, 193, 206, 223, 255, 255, 221, 234, 221, 211, 220, 232,\n",
       "        246,   0],\n",
       "       [  3, 202, 228, 224, 221, 211, 211, 214, 205, 205, 205, 220, 240,\n",
       "         80, 150, 255, 229, 221, 188, 154, 191, 210, 204, 209, 222, 228,\n",
       "        225,   0],\n",
       "       [ 98, 233, 198, 210, 222, 229, 229, 234, 249, 220, 194, 215, 217,\n",
       "        241,  65,  73, 106, 117, 168, 219, 221, 215, 217, 223, 223, 224,\n",
       "        229,  29],\n",
       "       [ 75, 204, 212, 204, 193, 205, 211, 225, 216, 185, 197, 206, 198,\n",
       "        213, 240, 195, 227, 245, 239, 223, 218, 212, 209, 222, 220, 221,\n",
       "        230,  67],\n",
       "       [ 48, 203, 183, 194, 213, 197, 185, 190, 194, 192, 202, 214, 219,\n",
       "        221, 220, 236, 225, 216, 199, 206, 186, 181, 177, 172, 181, 205,\n",
       "        206, 115],\n",
       "       [  0, 122, 219, 193, 179, 171, 183, 196, 204, 210, 213, 207, 211,\n",
       "        210, 200, 196, 194, 191, 195, 191, 198, 192, 176, 156, 167, 177,\n",
       "        210,  92],\n",
       "       [  0,   0,  74, 189, 212, 191, 175, 172, 175, 181, 185, 188, 189,\n",
       "        188, 193, 198, 204, 209, 210, 210, 211, 188, 188, 194, 192, 216,\n",
       "        170,   0],\n",
       "       [  2,   0,   0,   0,  66, 200, 222, 237, 239, 242, 246, 243, 244,\n",
       "        221, 220, 193, 191, 179, 182, 182, 181, 176, 166, 168,  99,  58,\n",
       "          0,   0],\n",
       "       [  0,   0,   0,   0,   0,   0,   0,  40,  61,  44,  72,  41,  35,\n",
       "          0,   0,   0,   0,   0,   0,   0,   0,   0,   0,   0,   0,   0,\n",
       "          0,   0],\n",
       "       [  0,   0,   0,   0,   0,   0,   0,   0,   0,   0,   0,   0,   0,\n",
       "          0,   0,   0,   0,   0,   0,   0,   0,   0,   0,   0,   0,   0,\n",
       "          0,   0],\n",
       "       [  0,   0,   0,   0,   0,   0,   0,   0,   0,   0,   0,   0,   0,\n",
       "          0,   0,   0,   0,   0,   0,   0,   0,   0,   0,   0,   0,   0,\n",
       "          0,   0]], dtype=uint8)"
      ]
     },
     "execution_count": 5,
     "metadata": {},
     "output_type": "execute_result"
    }
   ],
   "source": [
    "### 이미지 1개 데이터 확인해보기\n",
    "train_input[0]"
   ]
  },
  {
   "cell_type": "code",
   "execution_count": null,
   "metadata": {},
   "outputs": [
    {
     "data": {
      "image/png": "[encoded data removed]",
      "text/plain": [
       "<Figure size 1000x1000 with 10 Axes>"
      ]
     },
     "metadata": {},
     "output_type": "display_data"
    }
   ],
   "source": [
    "### 픽셀 데이터를 이용해서 이미지 시각화 하기\n",
    "# - 훈련 데이터 상위 10개 이미지만  그려보기\n",
    "# - 이미지 시각화 시에는 --> 3차원 원본 데이터를 그대로 사용\n",
    "fig, axs = plt.subplots(1, 10, figsize=(10, 10))\n",
    "\n",
    "for i in range(10) :\n",
    "    axs[i].imshow(train_input[i], cmap=\"gray_r\")\n",
    "    axs[i].axis(\"off\")\n",
    "\n",
    "plt.show()"
   ]
  },
  {
   "cell_type": "code",
   "execution_count": 7,
   "metadata": {},
   "outputs": [
    {
     "data": {
      "text/plain": [
       "array([9, 0, 0, 3, 0, 2, 7, 2, 5, 5], dtype=uint8)"
      ]
     },
     "execution_count": 7,
     "metadata": {},
     "output_type": "execute_result"
    }
   ],
   "source": [
    "### 훈련 데이터 상위 10개에 대한 종속변수 확인하기\n",
    "train_target[:10]"
   ]
  },
  {
   "cell_type": "code",
   "execution_count": 8,
   "metadata": {},
   "outputs": [
    {
     "data": {
      "text/plain": [
       "(array([0, 1, 2, 3, 4, 5, 6, 7, 8, 9], dtype=uint8),\n",
       " array([6000, 6000, 6000, 6000, 6000, 6000, 6000, 6000, 6000, 6000],\n",
       "       dtype=int64))"
      ]
     },
     "execution_count": 8,
     "metadata": {},
     "output_type": "execute_result"
    }
   ],
   "source": [
    "### 훈련 종속변수의 고유한값들만 출력해주세요..\n",
    "# 각 고유한 값들이 몇개씩 있는지도 함께 출력...\n",
    "\n",
    "np.unique(train_target, return_counts=True)"
   ]
  },
  {
   "cell_type": "markdown",
   "id": "cc8d06e3",
   "metadata": {},
   "source": [
    "### 이미지 데이터(픽셀) 스케일링 처리하기"
   ]
  },
  {
   "cell_type": "code",
   "execution_count": 9,
   "metadata": {},
   "outputs": [
    {
     "data": {
      "text/plain": [
       "array([[  0,   0,   0,   0,   0,   0,   0,   0,   0,   0,   0,   0,   0,\n",
       "          0,   0,   0,   0,   0,   0,   0,   0,   0,   0,   0,   0,   0,\n",
       "          0,   0],\n",
       "       [  0,   0,   0,   0,   0,   0,   0,   0,   0,   0,   0,   0,   0,\n",
       "          0,   0,   0,   0,   0,   0,   0,   0,   0,   0,   0,   0,   0,\n",
       "          0,   0],\n",
       "       [  0,   0,   0,   0,   0,   0,   0,   0,   0,   0,   0,   0,   0,\n",
       "          0,   0,   0,   0,   0,   0,   0,   0,   0,   0,   0,   0,   0,\n",
       "          0,   0],\n",
       "       [  0,   0,   0,   0,   0,   0,   0,   0,   0,   0,   0,   0,   1,\n",
       "          0,   0,  13,  73,   0,   0,   1,   4,   0,   0,   0,   0,   1,\n",
       "          1,   0],\n",
       "       [  0,   0,   0,   0,   0,   0,   0,   0,   0,   0,   0,   0,   3,\n",
       "          0,  36, 136, 127,  62,  54,   0,   0,   0,   1,   3,   4,   0,\n",
       "          0,   3],\n",
       "       [  0,   0,   0,   0,   0,   0,   0,   0,   0,   0,   0,   0,   6,\n",
       "          0, 102, 204, 176, 134, 144, 123,  23,   0,   0,   0,   0,  12,\n",
       "         10,   0],\n",
       "       [  0,   0,   0,   0,   0,   0,   0,   0,   0,   0,   0,   0,   0,\n",
       "          0, 155, 236, 207, 178, 107, 156, 161, 109,  64,  23,  77, 130,\n",
       "         72,  15],\n",
       "       [  0,   0,   0,   0,   0,   0,   0,   0,   0,   0,   0,   1,   0,\n",
       "         69, 207, 223, 218, 216, 216, 163, 127, 121, 122, 146, 141,  88,\n",
       "        172,  66],\n",
       "       [  0,   0,   0,   0,   0,   0,   0,   0,   0,   1,   1,   1,   0,\n",
       "        200, 232, 232, 233, 229, 223, 223, 215, 213, 164, 127, 123, 196,\n",
       "        229,   0],\n",
       "       [  0,   0,   0,   0,   0,   0,   0,   0,   0,   0,   0,   0,   0,\n",
       "        183, 225, 216, 223, 228, 235, 227, 224, 222, 224, 221, 223, 245,\n",
       "        173,   0],\n",
       "       [  0,   0,   0,   0,   0,   0,   0,   0,   0,   0,   0,   0,   0,\n",
       "        193, 228, 218, 213, 198, 180, 212, 210, 211, 213, 223, 220, 243,\n",
       "        202,   0],\n",
       "       [  0,   0,   0,   0,   0,   0,   0,   0,   0,   1,   3,   0,  12,\n",
       "        219, 220, 212, 218, 192, 169, 227, 208, 218, 224, 212, 226, 197,\n",
       "        209,  52],\n",
       "       [  0,   0,   0,   0,   0,   0,   0,   0,   0,   0,   6,   0,  99,\n",
       "        244, 222, 220, 218, 203, 198, 221, 215, 213, 222, 220, 245, 119,\n",
       "        167,  56],\n",
       "       [  0,   0,   0,   0,   0,   0,   0,   0,   0,   4,   0,   0,  55,\n",
       "        236, 228, 230, 228, 240, 232, 213, 218, 223, 234, 217, 217, 209,\n",
       "         92,   0],\n",
       "       [  0,   0,   1,   4,   6,   7,   2,   0,   0,   0,   0,   0, 237,\n",
       "        226, 217, 223, 222, 219, 222, 221, 216, 223, 229, 215, 218, 255,\n",
       "         77,   0],\n",
       "       [  0,   3,   0,   0,   0,   0,   0,   0,   0,  62, 145, 204, 228,\n",
       "        207, 213, 221, 218, 208, 211, 218, 224, 223, 219, 215, 224, 244,\n",
       "        159,   0],\n",
       "       [  0,   0,   0,   0,  18,  44,  82, 107, 189, 228, 220, 222, 217,\n",
       "        226, 200, 205, 211, 230, 224, 234, 176, 188, 250, 248, 233, 238,\n",
       "        215,   0],\n",
       "       [  0,  57, 187, 208, 224, 221, 224, 208, 204, 214, 208, 209, 200,\n",
       "        159, 245, 193, 206, 223, 255, 255, 221, 234, 221, 211, 220, 232,\n",
       "        246,   0],\n",
       "       [  3, 202, 228, 224, 221, 211, 211, 214, 205, 205, 205, 220, 240,\n",
       "         80, 150, 255, 229, 221, 188, 154, 191, 210, 204, 209, 222, 228,\n",
       "        225,   0],\n",
       "       [ 98, 233, 198, 210, 222, 229, 229, 234, 249, 220, 194, 215, 217,\n",
       "        241,  65,  73, 106, 117, 168, 219, 221, 215, 217, 223, 223, 224,\n",
       "        229,  29],\n",
       "       [ 75, 204, 212, 204, 193, 205, 211, 225, 216, 185, 197, 206, 198,\n",
       "        213, 240, 195, 227, 245, 239, 223, 218, 212, 209, 222, 220, 221,\n",
       "        230,  67],\n",
       "       [ 48, 203, 183, 194, 213, 197, 185, 190, 194, 192, 202, 214, 219,\n",
       "        221, 220, 236, 225, 216, 199, 206, 186, 181, 177, 172, 181, 205,\n",
       "        206, 115],\n",
       "       [  0, 122, 219, 193, 179, 171, 183, 196, 204, 210, 213, 207, 211,\n",
       "        210, 200, 196, 194, 191, 195, 191, 198, 192, 176, 156, 167, 177,\n",
       "        210,  92],\n",
       "       [  0,   0,  74, 189, 212, 191, 175, 172, 175, 181, 185, 188, 189,\n",
       "        188, 193, 198, 204, 209, 210, 210, 211, 188, 188, 194, 192, 216,\n",
       "        170,   0],\n",
       "       [  2,   0,   0,   0,  66, 200, 222, 237, 239, 242, 246, 243, 244,\n",
       "        221, 220, 193, 191, 179, 182, 182, 181, 176, 166, 168,  99,  58,\n",
       "          0,   0],\n",
       "       [  0,   0,   0,   0,   0,   0,   0,  40,  61,  44,  72,  41,  35,\n",
       "          0,   0,   0,   0,   0,   0,   0,   0,   0,   0,   0,   0,   0,\n",
       "          0,   0],\n",
       "       [  0,   0,   0,   0,   0,   0,   0,   0,   0,   0,   0,   0,   0,\n",
       "          0,   0,   0,   0,   0,   0,   0,   0,   0,   0,   0,   0,   0,\n",
       "          0,   0],\n",
       "       [  0,   0,   0,   0,   0,   0,   0,   0,   0,   0,   0,   0,   0,\n",
       "          0,   0,   0,   0,   0,   0,   0,   0,   0,   0,   0,   0,   0,\n",
       "          0,   0]], dtype=uint8)"
      ]
     },
     "execution_count": 9,
     "metadata": {},
     "output_type": "execute_result"
    }
   ],
   "source": [
    "train_input[0]"
   ]
  },
  {
   "cell_type": "code",
   "execution_count": 10,
   "metadata": {},
   "outputs": [],
   "source": [
    "### 이미지 픽셀 데이터를 0~1사이의 값으로 변환하기\n",
    "# - 이미지 픽셀 데이터의 범위는 0~255의 범위값으로 구성되어 있음\n",
    "# - 따라서, 각 픽셀의 값을 255로 나눠주면, 0~1사이의 값으로 일반화가 가능함\n",
    "# - 훈련 및 테스트 독립변수의 데이터를 모두 255로 나누어서 전처리하기\n",
    "#   (255.0의 소숫점으로 나눠줍니다.)\n",
    "train_scaled_255 = train_input / 255.0\n",
    "test_scaled_255  = test_input / 255.0"
   ]
  },
  {
   "cell_type": "code",
   "execution_count": 11,
   "metadata": {},
   "outputs": [
    {
     "data": {
      "text/plain": [
       "array([[0.        , 0.        , 0.        , 0.        , 0.        ,\n",
       "        0.        , 0.        , 0.        , 0.        , 0.        ,\n",
       "        0.        , 0.        , 0.        , 0.        , 0.        ,\n",
       "        0.        , 0.        , 0.        , 0.        , 0.        ,\n",
       "        0.        , 0.        , 0.        , 0.        , 0.        ,\n",
       "        0.        , 0.        , 0.        ],\n",
       "       [0.        , 0.        , 0.        , 0.        , 0.        ,\n",
       "        0.        , 0.        , 0.        , 0.        , 0.        ,\n",
       "        0.        , 0.        , 0.        , 0.        , 0.        ,\n",
       "        0.        , 0.        , 0.        , 0.        , 0.        ,\n",
       "        0.        , 0.        , 0.        , 0.        , 0.        ,\n",
       "        0.        , 0.        , 0.        ],\n",
       "       [0.        , 0.        , 0.        , 0.        , 0.        ,\n",
       "        0.        , 0.        , 0.        , 0.        , 0.        ,\n",
       "        0.        , 0.        , 0.        , 0.        , 0.        ,\n",
       "        0.        , 0.        , 0.        , 0.        , 0.        ,\n",
       "        0.        , 0.        , 0.        , 0.        , 0.        ,\n",
       "        0.        , 0.        , 0.        ],\n",
       "       [0.        , 0.        , 0.        , 0.        , 0.        ,\n",
       "        0.        , 0.        , 0.        , 0.        , 0.        ,\n",
       "        0.        , 0.        , 0.00392157, 0.        , 0.        ,\n",
       "        0.05098039, 0.28627451, 0.        , 0.        , 0.00392157,\n",
       "        0.01568627, 0.        , 0.        , 0.        , 0.        ,\n",
       "        0.00392157, 0.00392157, 0.        ],\n",
       "       [0.        , 0.        , 0.        , 0.        , 0.        ,\n",
       "        0.        , 0.        , 0.        , 0.        , 0.        ,\n",
       "        0.        , 0.        , 0.01176471, 0.        , 0.14117647,\n",
       "        0.53333333, 0.49803922, 0.24313725, 0.21176471, 0.        ,\n",
       "        0.        , 0.        , 0.00392157, 0.01176471, 0.01568627,\n",
       "        0.        , 0.        , 0.01176471],\n",
       "       [0.        , 0.        , 0.        , 0.        , 0.        ,\n",
       "        0.        , 0.        , 0.        , 0.        , 0.        ,\n",
       "        0.        , 0.        , 0.02352941, 0.        , 0.4       ,\n",
       "        0.8       , 0.69019608, 0.5254902 , 0.56470588, 0.48235294,\n",
       "        0.09019608, 0.        , 0.        , 0.        , 0.        ,\n",
       "        0.04705882, 0.03921569, 0.        ],\n",
       "       [0.        , 0.        , 0.        , 0.        , 0.        ,\n",
       "        0.        , 0.        , 0.        , 0.        , 0.        ,\n",
       "        0.        , 0.        , 0.        , 0.        , 0.60784314,\n",
       "        0.9254902 , 0.81176471, 0.69803922, 0.41960784, 0.61176471,\n",
       "        0.63137255, 0.42745098, 0.25098039, 0.09019608, 0.30196078,\n",
       "        0.50980392, 0.28235294, 0.05882353],\n",
       "       [0.        , 0.        , 0.        , 0.        , 0.        ,\n",
       "        0.        , 0.        , 0.        , 0.        , 0.        ,\n",
       "        0.        , 0.00392157, 0.        , 0.27058824, 0.81176471,\n",
       "        0.8745098 , 0.85490196, 0.84705882, 0.84705882, 0.63921569,\n",
       "        0.49803922, 0.4745098 , 0.47843137, 0.57254902, 0.55294118,\n",
       "        0.34509804, 0.6745098 , 0.25882353],\n",
       "       [0.        , 0.        , 0.        , 0.        , 0.        ,\n",
       "        0.        , 0.        , 0.        , 0.        , 0.00392157,\n",
       "        0.00392157, 0.00392157, 0.        , 0.78431373, 0.90980392,\n",
       "        0.90980392, 0.91372549, 0.89803922, 0.8745098 , 0.8745098 ,\n",
       "        0.84313725, 0.83529412, 0.64313725, 0.49803922, 0.48235294,\n",
       "        0.76862745, 0.89803922, 0.        ],\n",
       "       [0.        , 0.        , 0.        , 0.        , 0.        ,\n",
       "        0.        , 0.        , 0.        , 0.        , 0.        ,\n",
       "        0.        , 0.        , 0.        , 0.71764706, 0.88235294,\n",
       "        0.84705882, 0.8745098 , 0.89411765, 0.92156863, 0.89019608,\n",
       "        0.87843137, 0.87058824, 0.87843137, 0.86666667, 0.8745098 ,\n",
       "        0.96078431, 0.67843137, 0.        ],\n",
       "       [0.        , 0.        , 0.        , 0.        , 0.        ,\n",
       "        0.        , 0.        , 0.        , 0.        , 0.        ,\n",
       "        0.        , 0.        , 0.        , 0.75686275, 0.89411765,\n",
       "        0.85490196, 0.83529412, 0.77647059, 0.70588235, 0.83137255,\n",
       "        0.82352941, 0.82745098, 0.83529412, 0.8745098 , 0.8627451 ,\n",
       "        0.95294118, 0.79215686, 0.        ],\n",
       "       [0.        , 0.        , 0.        , 0.        , 0.        ,\n",
       "        0.        , 0.        , 0.        , 0.        , 0.00392157,\n",
       "        0.01176471, 0.        , 0.04705882, 0.85882353, 0.8627451 ,\n",
       "        0.83137255, 0.85490196, 0.75294118, 0.6627451 , 0.89019608,\n",
       "        0.81568627, 0.85490196, 0.87843137, 0.83137255, 0.88627451,\n",
       "        0.77254902, 0.81960784, 0.20392157],\n",
       "       [0.        , 0.        , 0.        , 0.        , 0.        ,\n",
       "        0.        , 0.        , 0.        , 0.        , 0.        ,\n",
       "        0.02352941, 0.        , 0.38823529, 0.95686275, 0.87058824,\n",
       "        0.8627451 , 0.85490196, 0.79607843, 0.77647059, 0.86666667,\n",
       "        0.84313725, 0.83529412, 0.87058824, 0.8627451 , 0.96078431,\n",
       "        0.46666667, 0.65490196, 0.21960784],\n",
       "       [0.        , 0.        , 0.        , 0.        , 0.        ,\n",
       "        0.        , 0.        , 0.        , 0.        , 0.01568627,\n",
       "        0.        , 0.        , 0.21568627, 0.9254902 , 0.89411765,\n",
       "        0.90196078, 0.89411765, 0.94117647, 0.90980392, 0.83529412,\n",
       "        0.85490196, 0.8745098 , 0.91764706, 0.85098039, 0.85098039,\n",
       "        0.81960784, 0.36078431, 0.        ],\n",
       "       [0.        , 0.        , 0.00392157, 0.01568627, 0.02352941,\n",
       "        0.02745098, 0.00784314, 0.        , 0.        , 0.        ,\n",
       "        0.        , 0.        , 0.92941176, 0.88627451, 0.85098039,\n",
       "        0.8745098 , 0.87058824, 0.85882353, 0.87058824, 0.86666667,\n",
       "        0.84705882, 0.8745098 , 0.89803922, 0.84313725, 0.85490196,\n",
       "        1.        , 0.30196078, 0.        ],\n",
       "       [0.        , 0.01176471, 0.        , 0.        , 0.        ,\n",
       "        0.        , 0.        , 0.        , 0.        , 0.24313725,\n",
       "        0.56862745, 0.8       , 0.89411765, 0.81176471, 0.83529412,\n",
       "        0.86666667, 0.85490196, 0.81568627, 0.82745098, 0.85490196,\n",
       "        0.87843137, 0.8745098 , 0.85882353, 0.84313725, 0.87843137,\n",
       "        0.95686275, 0.62352941, 0.        ],\n",
       "       [0.        , 0.        , 0.        , 0.        , 0.07058824,\n",
       "        0.17254902, 0.32156863, 0.41960784, 0.74117647, 0.89411765,\n",
       "        0.8627451 , 0.87058824, 0.85098039, 0.88627451, 0.78431373,\n",
       "        0.80392157, 0.82745098, 0.90196078, 0.87843137, 0.91764706,\n",
       "        0.69019608, 0.7372549 , 0.98039216, 0.97254902, 0.91372549,\n",
       "        0.93333333, 0.84313725, 0.        ],\n",
       "       [0.        , 0.22352941, 0.73333333, 0.81568627, 0.87843137,\n",
       "        0.86666667, 0.87843137, 0.81568627, 0.8       , 0.83921569,\n",
       "        0.81568627, 0.81960784, 0.78431373, 0.62352941, 0.96078431,\n",
       "        0.75686275, 0.80784314, 0.8745098 , 1.        , 1.        ,\n",
       "        0.86666667, 0.91764706, 0.86666667, 0.82745098, 0.8627451 ,\n",
       "        0.90980392, 0.96470588, 0.        ],\n",
       "       [0.01176471, 0.79215686, 0.89411765, 0.87843137, 0.86666667,\n",
       "        0.82745098, 0.82745098, 0.83921569, 0.80392157, 0.80392157,\n",
       "        0.80392157, 0.8627451 , 0.94117647, 0.31372549, 0.58823529,\n",
       "        1.        , 0.89803922, 0.86666667, 0.7372549 , 0.60392157,\n",
       "        0.74901961, 0.82352941, 0.8       , 0.81960784, 0.87058824,\n",
       "        0.89411765, 0.88235294, 0.        ],\n",
       "       [0.38431373, 0.91372549, 0.77647059, 0.82352941, 0.87058824,\n",
       "        0.89803922, 0.89803922, 0.91764706, 0.97647059, 0.8627451 ,\n",
       "        0.76078431, 0.84313725, 0.85098039, 0.94509804, 0.25490196,\n",
       "        0.28627451, 0.41568627, 0.45882353, 0.65882353, 0.85882353,\n",
       "        0.86666667, 0.84313725, 0.85098039, 0.8745098 , 0.8745098 ,\n",
       "        0.87843137, 0.89803922, 0.11372549],\n",
       "       [0.29411765, 0.8       , 0.83137255, 0.8       , 0.75686275,\n",
       "        0.80392157, 0.82745098, 0.88235294, 0.84705882, 0.7254902 ,\n",
       "        0.77254902, 0.80784314, 0.77647059, 0.83529412, 0.94117647,\n",
       "        0.76470588, 0.89019608, 0.96078431, 0.9372549 , 0.8745098 ,\n",
       "        0.85490196, 0.83137255, 0.81960784, 0.87058824, 0.8627451 ,\n",
       "        0.86666667, 0.90196078, 0.2627451 ],\n",
       "       [0.18823529, 0.79607843, 0.71764706, 0.76078431, 0.83529412,\n",
       "        0.77254902, 0.7254902 , 0.74509804, 0.76078431, 0.75294118,\n",
       "        0.79215686, 0.83921569, 0.85882353, 0.86666667, 0.8627451 ,\n",
       "        0.9254902 , 0.88235294, 0.84705882, 0.78039216, 0.80784314,\n",
       "        0.72941176, 0.70980392, 0.69411765, 0.6745098 , 0.70980392,\n",
       "        0.80392157, 0.80784314, 0.45098039],\n",
       "       [0.        , 0.47843137, 0.85882353, 0.75686275, 0.70196078,\n",
       "        0.67058824, 0.71764706, 0.76862745, 0.8       , 0.82352941,\n",
       "        0.83529412, 0.81176471, 0.82745098, 0.82352941, 0.78431373,\n",
       "        0.76862745, 0.76078431, 0.74901961, 0.76470588, 0.74901961,\n",
       "        0.77647059, 0.75294118, 0.69019608, 0.61176471, 0.65490196,\n",
       "        0.69411765, 0.82352941, 0.36078431],\n",
       "       [0.        , 0.        , 0.29019608, 0.74117647, 0.83137255,\n",
       "        0.74901961, 0.68627451, 0.6745098 , 0.68627451, 0.70980392,\n",
       "        0.7254902 , 0.7372549 , 0.74117647, 0.7372549 , 0.75686275,\n",
       "        0.77647059, 0.8       , 0.81960784, 0.82352941, 0.82352941,\n",
       "        0.82745098, 0.7372549 , 0.7372549 , 0.76078431, 0.75294118,\n",
       "        0.84705882, 0.66666667, 0.        ],\n",
       "       [0.00784314, 0.        , 0.        , 0.        , 0.25882353,\n",
       "        0.78431373, 0.87058824, 0.92941176, 0.9372549 , 0.94901961,\n",
       "        0.96470588, 0.95294118, 0.95686275, 0.86666667, 0.8627451 ,\n",
       "        0.75686275, 0.74901961, 0.70196078, 0.71372549, 0.71372549,\n",
       "        0.70980392, 0.69019608, 0.65098039, 0.65882353, 0.38823529,\n",
       "        0.22745098, 0.        , 0.        ],\n",
       "       [0.        , 0.        , 0.        , 0.        , 0.        ,\n",
       "        0.        , 0.        , 0.15686275, 0.23921569, 0.17254902,\n",
       "        0.28235294, 0.16078431, 0.1372549 , 0.        , 0.        ,\n",
       "        0.        , 0.        , 0.        , 0.        , 0.        ,\n",
       "        0.        , 0.        , 0.        , 0.        , 0.        ,\n",
       "        0.        , 0.        , 0.        ],\n",
       "       [0.        , 0.        , 0.        , 0.        , 0.        ,\n",
       "        0.        , 0.        , 0.        , 0.        , 0.        ,\n",
       "        0.        , 0.        , 0.        , 0.        , 0.        ,\n",
       "        0.        , 0.        , 0.        , 0.        , 0.        ,\n",
       "        0.        , 0.        , 0.        , 0.        , 0.        ,\n",
       "        0.        , 0.        , 0.        ],\n",
       "       [0.        , 0.        , 0.        , 0.        , 0.        ,\n",
       "        0.        , 0.        , 0.        , 0.        , 0.        ,\n",
       "        0.        , 0.        , 0.        , 0.        , 0.        ,\n",
       "        0.        , 0.        , 0.        , 0.        , 0.        ,\n",
       "        0.        , 0.        , 0.        , 0.        , 0.        ,\n",
       "        0.        , 0.        , 0.        ]])"
      ]
     },
     "execution_count": 11,
     "metadata": {},
     "output_type": "execute_result"
    }
   ],
   "source": [
    "train_scaled_255[0]"
   ]
  },
  {
   "cell_type": "code",
   "execution_count": 12,
   "metadata": {},
   "outputs": [
    {
     "name": "stdout",
     "output_type": "stream",
     "text": [
      "(60000, 28, 28) (60000,)\n",
      "(10000, 28, 28) (10000,)\n"
     ]
    }
   ],
   "source": [
    "print(train_scaled_255.shape, train_target.shape)\n",
    "print(test_scaled_255.shape, test_target.shape)"
   ]
  },
  {
   "cell_type": "markdown",
   "id": "aa6f7e83",
   "metadata": {},
   "source": [
    "### 모델 훈련을 위한 데이터 차원을 2차원으로 변환하기"
   ]
  },
  {
   "cell_type": "code",
   "execution_count": 13,
   "id": "eb6e0e2d",
   "metadata": {},
   "outputs": [
    {
     "name": "stdout",
     "output_type": "stream",
     "text": [
      "(60000, 784) (60000,)\n",
      "(10000, 784) (10000,)\n"
     ]
    }
   ],
   "source": [
    "### (60000, 28, 28) = (축, 행, 열) => 3차원\n",
    "# - 축은 행으로, 행열을 곱해서 열로 처리 => 2차원\n",
    "# - 차원을 변경하는 함수 : reshpae()\n",
    "train_scaled_2d = train_scaled_255.reshape(-1, 28 * 28)\n",
    "test_scaled_2d  = test_scaled_255.reshape(-1, 28 * 28)\n",
    "\n",
    "print(train_scaled_2d.shape, train_target.shape)\n",
    "print(test_scaled_2d.shape, test_target.shape)"
   ]
  },
  {
   "cell_type": "markdown",
   "id": "b26ebe33",
   "metadata": {},
   "source": [
    "### 훈련 : 검증 = 8 : 2로 분리하기"
   ]
  },
  {
   "cell_type": "code",
   "execution_count": 14,
   "id": "3ed4bb95",
   "metadata": {},
   "outputs": [
    {
     "name": "stdout",
     "output_type": "stream",
     "text": [
      "(48000, 784) (48000,)\n",
      "(12000, 784) (12000,)\n",
      "(10000, 784) (10000,)\n"
     ]
    }
   ],
   "source": [
    "### 훈련(train_scaled, train_target)\n",
    "### 검증(val_scaled, val_target)\n",
    "train_scaled, val_scaled, train_target, val_target = train_test_split(\n",
    "    train_scaled_2d, train_target, test_size=0.2, random_state=42\n",
    ")\n",
    "\n",
    "print(train_scaled.shape,   train_target.shape)\n",
    "print(val_scaled.shape,     val_target.shape)\n",
    "print(test_scaled_2d.shape, test_target.shape)"
   ]
  },
  {
   "cell_type": "markdown",
   "id": "33f24695",
   "metadata": {},
   "source": [
    "### 인공신경망 모델 훈련 시키기"
   ]
  },
  {
   "cell_type": "markdown",
   "id": "c6455360",
   "metadata": {},
   "source": [
    "<딥러닝 모델 훈련 순서>\n",
    "- 1. 모델 생성하기 : 딥러닝에서는 모델은 껍데기임(2번과 1번은 순서 바뀌어도 무관함)\n",
    "- 2. 모델에 계층(Layer) 생성하기 : 계층이 실제 훈련을 수행(수많은 알고리즘이 들어 있음)\n",
    "- 3. 모델 환경 설정하기 : 컴파일(Compile) 설정이라고 칭함 (수많은 알고리즘이 활용 됨)\n",
    "- 4. 모델 훈련 시키기 : fit()\n",
    "- 5. 모델 성능 검증하기 (평가하기)\n",
    "    - 딥러닝 결과는 손실율 및 정확도를 기준으로 평가함\n",
    "    - 과대/과소 적합 여부는 손실율을 기준으로 함\n",
    "    - 스스로 반복 수행하면서 오차(손실율)를 줄여나가면서 훈련함\n",
    "- 6. 성능 개선(튜닝)\n",
    "    - 데이터 양 증가시키기 (딥러닝에서는 데이터양이 성능에 매우 큰 영향을 미침)\n",
    "    - 하이퍼파라메터 튜닝\n",
    "    - 계층 추가 또는 삭제\n",
    "\n",
    "- 7. 예측하기 : predict()"
   ]
  },
  {
   "cell_type": "markdown",
   "id": "44ac87e5",
   "metadata": {},
   "source": [
    "- 신경망 종류\n",
    "    - 인공신경망, 심층신경망\n",
    "\n",
    "- 인공신경망(Artificial Neural Network, ANN)>\n",
    "    - 은닉계층(Hidden Layer)이 없는 경우\n",
    "    - 입력계층 + 출력계층 또는 입/출력 계층만 사용하는 경우\n",
    "    - 1개인 계층 : 입력 - 계층을 1개 또는 2개를 사용함\n",
    "\n",
    "    - (Input)과 출력(Output)을 동시에 담당하는 계층\n",
    "        - 2개인 계층 : 입력계층(Input Layer)과, 출력계층(Output Layer) 2개 사용됨\n",
    "\n",
    "- 심층신경망(Deep Neural Network, DNN)\n",
    "    - 은닉계층(Hidden Layer)이 있는 경우\n",
    "    - 입력계층 + 은닉계층...n개 + 출력계층\n",
    "    - 계층이 3개 이상 사용함\n",
    "    - 첫번째 계층 : 입력계층(Input Layer)\n",
    "    - 중간계층\n",
    "        - 은닉계층(Hidden Layer)\n",
    "        - 히든 계층이라고도 칭함, 여러개 계층 존재 가능\n",
    "    - 마지막 계층 : 출력계층(Output Layer)\n",
    "\n",
    "- 계층\n",
    "    - 계층은 여러 계층이 존재함\n",
    "    - 훈련에 참여하는 계층과 훈련에 참여하지 않는 계층으로 구분함\n",
    "    - 훈련에 참여하는 계층은 주로 Dense()로 생성이 됨\n",
    "    - 훈련에 참여하지 않는 계층을 \"전처리 계층\" 이라고 함"
   ]
  },
  {
   "cell_type": "markdown",
   "id": "5e9f8cc2",
   "metadata": {},
   "source": [
    "- Dense()\n",
    "    - 딥러닝에서 사용되는 가장 기본적인 계층(클래스)\n",
    "    - 훈련에 참여하는 계층(성능에 영향을 미침)\n",
    "           \n",
    "- units\n",
    "    - 출력의 갯수를 정의함. 즉, 범주의 갯수를 의미함(범주 10개)\n",
    "    - units 속성은 출력계층(Output Layer)에 정의됩니다.\n",
    "    - units이라는 이름은 생략가능\n",
    "        - 단, 입력과 출력계층을 동시에 사용되는 경우에는 생략하면 안됨\n",
    " \n",
    "- kernel_initializer : 성능을 높이기 위해 가중치를 초기화하는 방법 지정\n",
    "    - 가중치 : 손실을 최소화 하기위해, 모델이 훈련을 반복하는 과정에서 스스로 성능을 높이기 위해 조정하는 값을 의미함\n",
    "\n",
    "    - 가중치 초기화 방법\n",
    "        - uniform : 균일 분포 방법(훈련 반복 시에 균일하게 가중치를 부여함)\n",
    "        - normal  : 가우시안 분포(정규분포) 방법(훈련 반복 시에 정규분포를 고려하여 가중치를 부여함)\n",
    "    - 초기화 방법은 사람이 정의하지만, 훈련 반복중에 사용되는 가중치 값은 모델 스스로 사용하게 됨(사람이 관여하지 못함)\n",
    "       \n",
    "- activation : \"활성화 함수\"라고 칭함\n",
    "    - 훈련 시 입력된 특성의 갯수를, 어떤 형태의 크기(범주의 갯수)로 변환할지를 결정하는 방법을 제시함(이 방법을 함수로 칭함)\n",
    " \n",
    "    - 주로 출력계층(Output Layer)에 적용(은닉계층이 있는 경우에는 은닉계층에도 적용)\n",
    "    - 활성화 함수는 범주의 갯수(종속변수의 갯수)에 따라서 결정\n",
    "    \n",
    "    - 활성화 함수 분류 방법\n",
    "    * 회귀분석의 경우 : linear 사용 (디폴트 값으로 사용됨)\n",
    "        - 출력계층에 주로 사용됨\n",
    "     \n",
    "    * 분류분석의 경우(이진분류) : sigmoid, relu, tanh, ReakyRelu 중에 사용(0과 1 둘중 하나 선택)\n",
    "        - sigmoid : 출력 또는 은닉계층에 주로 사용됨(주로 출력)\n",
    "        - relu : 은닉계층에 사용됨\n",
    "        - tanh : 은닉계층에 사용됨\n",
    "        - ReakyRelu : 은닉계층에 사용됨\n",
    "       \n",
    "       \n",
    "    - 이진분류 활설화 함수\n",
    "        * sigmoid\n",
    "            - 보통 출력계층(가장 마지막 계층)에 주로 사용\n",
    "            - 단점, 은닉계층에 사용시 오른쪽과 왼쪽 끝으로 갈수록 그래프가 누워있기 때문에 올바른 출력을 만드는데 어려움이 있음\n",
    "                - 이는 훈련을 거듭할 수록 누적되기에 성능이 좋아지지 않은 경향을 보임\n",
    "        * relu\n",
    "            - sigmoid의 50% 시점으로 분류하지 않고 0을 기준으로 0과 1로 분류함(단점을 보완)\n",
    "            - 기울기가 급함(완만함을 보완하였음)\n",
    "        * 나머지 : relu를 보완한 향상된 함수\n",
    "       \n",
    "    * 분류분석의 경우(다중분류) : softmax (여러 범주 중 하나 선택)\n",
    "\n",
    "\n",
    "- input_shape : 입력할 특성(뉴런)의 갯수를 정의함. 주로 입력계층(Input Layer)에 사용됨"
   ]
  },
  {
   "cell_type": "code",
   "execution_count": 16,
   "id": "7ed456d2",
   "metadata": {},
   "outputs": [
    {
     "data": {
      "text/plain": [
       "<keras.layers.core.dense.Dense at 0x1e7ac8f1790>"
      ]
     },
     "execution_count": 16,
     "metadata": {},
     "output_type": "execute_result"
    }
   ],
   "source": [
    "### 2. 훈련 계층 생성하기 : 계층(layer), 생성함수(Dense)\n",
    "# - Dense() : 훈련에 영향을 미치는 함수\n",
    "dense = keras.layers.Dense(\n",
    "    units = 10,\n",
    "    kernel_initializer = \"uniform\",\n",
    "    activation = \"softmax\",\n",
    "    input_shape = (784, )\n",
    ")\n",
    "\n",
    "dense"
   ]
  },
  {
   "cell_type": "code",
   "execution_count": null,
   "id": "5fab6b64",
   "metadata": {},
   "outputs": [
    {
     "data": {
      "text/plain": [
       "<keras.engine.sequential.Sequential at 0x1e7ac8f1ac0>"
      ]
     },
     "execution_count": 17,
     "metadata": {},
     "output_type": "execute_result"
    }
   ],
   "source": [
    "### 1. 인공신경망 모델 객체 생성하기\n",
    "# - 생성된 계층이 사전에 존재하는 경우\n",
    "model = keras.Sequential([dense])\n",
    "model"
   ]
  },
  {
   "cell_type": "markdown",
   "id": "192f1bd5",
   "metadata": {},
   "source": [
    "- compile() : 손실을 줄이기 위한 방법을 설정하는 함수(역전파 담당)\n",
    "- loss : 손실을 줄이기 위해 사용되는 함수 설정(손실함수라고 칭함)\n",
    "    - 손실함수에는 categorical_crossentropy, sparse_categorical_crossentropy, binary_crossentropy가 있슴\n",
    "\n",
    "- 손실함수\n",
    "    * categorical_crossentropy\n",
    "        - 다중분류에 사용됨(특별한 경우에만 사용됨)\n",
    "        - 단, 종속변수 값의 형태가 원-핫인코딩된 데이터인 경우에 사용\n",
    "        - 원-핫인코딩 종속변수 형태 : [[0, 0, 1], [0, 1, 0], [1, 0, 0] ...]\n",
    " \n",
    "    * sparse_categorical_crossentropy\n",
    "        - 다중분류에 사용됨(분류에서 주로 사용됨)\n",
    "        - 종속변수 형태 : [0, 1, 2, 3, 4, 5, 6, 7, 8, 9, ...]\n",
    " \n",
    "    * binary_crossentropy\n",
    "        - 이진분류에 사용됨\n",
    "        - 종속변수 형태 : [0, 1, 1, 0, 0, 1...]\n",
    "   \n",
    "- metrics : 훈련시 출력할 값 -> 정확도 값 출력(손실률은 기본적으로 출력됨)"
   ]
  },
  {
   "cell_type": "code",
   "execution_count": null,
   "id": "07585c28",
   "metadata": {},
   "outputs": [],
   "source": [
    "### 3.모델 환경 설정하기\n",
    "# - 컴파일(compile) 설정이라고 칭함\n",
    "# - 오차를 줄이는 작업을 수행하는 설정\n",
    "model.compile(\n",
    "    loss = \"sparse_categorical_crossentropy\",\n",
    "    metrics = [\"accuracy\"]\n",
    ")"
   ]
  },
  {
   "cell_type": "code",
   "execution_count": null,
   "id": "f0582708",
   "metadata": {},
   "outputs": [],
   "source": [
    "### 4. 모델 훈련시키기\n",
    "# - fit()만 재실행하면, 기존의 훈련에서 계속 이어서 수행하게 됨\n",
    "# - 깨끗한 상태로 재실행(초기화)하려면, 모델 생성부터 다시 실행해야 함\n",
    "# - epochs : 훈련 반복 횟수\n",
    "#          : 훈련을 반복하면서 스스로 가중치를 부여하면서 성능을 높여감\n",
    "#          : 반복 횟수가 많다고 해서 성능일 좋아진다고 볼 수는 없슴\n",
    "#            (좋아질수도, 나빠질수도 있음)\n",
    "#          : 성능에 영향을 미치는 값 -> 하이퍼파라메터 튜닝 대상\n",
    "\n",
    "\n",
    "# - 최적의 epoch 확인 방법\n",
    "#   : loss(손실율)은 낮고, accuracy(정확도)는 높은 시점의 epoch를 선정\n",
    "\n",
    "\n",
    "# - 훈련에 사용된 데이터 갯수 : 1500\n",
    "# 1500/1500 = 총 데이터 갯수 / 배치사이즈(기본값 32)\n",
    "#           = 훈련데이터 48,000건 / 기본값 32 = 1,500"
   ]
  },
  {
   "cell_type": "code",
   "execution_count": 19,
   "id": "90fc76c2",
   "metadata": {},
   "outputs": [
    {
     "name": "stdout",
     "output_type": "stream",
     "text": [
      "Epoch 1/50\n",
      "1500/1500 [==============================] - 2s 1ms/step - loss: 0.6028 - accuracy: 0.7960\n",
      "Epoch 2/50\n",
      "1500/1500 [==============================] - 2s 2ms/step - loss: 0.4773 - accuracy: 0.8391\n",
      "Epoch 3/50\n",
      "1500/1500 [==============================] - 3s 2ms/step - loss: 0.4555 - accuracy: 0.8476\n",
      "Epoch 4/50\n",
      "1500/1500 [==============================] - 3s 2ms/step - loss: 0.4428 - accuracy: 0.8539\n",
      "Epoch 5/50\n",
      "1500/1500 [==============================] - 3s 2ms/step - loss: 0.4351 - accuracy: 0.8554\n",
      "Epoch 6/50\n",
      "1500/1500 [==============================] - 3s 2ms/step - loss: 0.4322 - accuracy: 0.8582\n",
      "Epoch 7/50\n",
      "1500/1500 [==============================] - 3s 2ms/step - loss: 0.4270 - accuracy: 0.8590\n",
      "Epoch 8/50\n",
      "1500/1500 [==============================] - 4s 3ms/step - loss: 0.4242 - accuracy: 0.8598\n",
      "Epoch 9/50\n",
      "1500/1500 [==============================] - 3s 2ms/step - loss: 0.4213 - accuracy: 0.8613\n",
      "Epoch 10/50\n",
      "1500/1500 [==============================] - 4s 3ms/step - loss: 0.4201 - accuracy: 0.8630\n",
      "Epoch 11/50\n",
      "1500/1500 [==============================] - 4s 2ms/step - loss: 0.4182 - accuracy: 0.8629\n",
      "Epoch 12/50\n",
      "1500/1500 [==============================] - 3s 2ms/step - loss: 0.4166 - accuracy: 0.8638\n",
      "Epoch 13/50\n",
      "1500/1500 [==============================] - 4s 2ms/step - loss: 0.4150 - accuracy: 0.8642\n",
      "Epoch 14/50\n",
      "1500/1500 [==============================] - 4s 2ms/step - loss: 0.4137 - accuracy: 0.8645\n",
      "Epoch 15/50\n",
      "1500/1500 [==============================] - 4s 2ms/step - loss: 0.4134 - accuracy: 0.8654\n",
      "Epoch 16/50\n",
      "1500/1500 [==============================] - 4s 2ms/step - loss: 0.4124 - accuracy: 0.8660\n",
      "Epoch 17/50\n",
      "1500/1500 [==============================] - 3s 2ms/step - loss: 0.4105 - accuracy: 0.8666\n",
      "Epoch 18/50\n",
      "1500/1500 [==============================] - 4s 2ms/step - loss: 0.4112 - accuracy: 0.8665\n",
      "Epoch 19/50\n",
      "1500/1500 [==============================] - 4s 2ms/step - loss: 0.4091 - accuracy: 0.8676\n",
      "Epoch 20/50\n",
      "1500/1500 [==============================] - 4s 2ms/step - loss: 0.4105 - accuracy: 0.8665\n",
      "Epoch 21/50\n",
      "1500/1500 [==============================] - 4s 2ms/step - loss: 0.4094 - accuracy: 0.8671\n",
      "Epoch 22/50\n",
      "1500/1500 [==============================] - 3s 2ms/step - loss: 0.4084 - accuracy: 0.8675\n",
      "Epoch 23/50\n",
      "1500/1500 [==============================] - 4s 3ms/step - loss: 0.4079 - accuracy: 0.8682\n",
      "Epoch 24/50\n",
      "1500/1500 [==============================] - 4s 3ms/step - loss: 0.4081 - accuracy: 0.8679\n",
      "Epoch 25/50\n",
      "1500/1500 [==============================] - 4s 2ms/step - loss: 0.4088 - accuracy: 0.8684\n",
      "Epoch 26/50\n",
      "1500/1500 [==============================] - 4s 2ms/step - loss: 0.4082 - accuracy: 0.8670\n",
      "Epoch 27/50\n",
      "1500/1500 [==============================] - 4s 2ms/step - loss: 0.4074 - accuracy: 0.8692\n",
      "Epoch 28/50\n",
      "1500/1500 [==============================] - 4s 2ms/step - loss: 0.4072 - accuracy: 0.8683\n",
      "Epoch 29/50\n",
      "1500/1500 [==============================] - 4s 2ms/step - loss: 0.4070 - accuracy: 0.8692\n",
      "Epoch 30/50\n",
      "1500/1500 [==============================] - 4s 2ms/step - loss: 0.4072 - accuracy: 0.8688\n",
      "Epoch 31/50\n",
      "1500/1500 [==============================] - 4s 3ms/step - loss: 0.4068 - accuracy: 0.8693\n",
      "Epoch 32/50\n",
      "1500/1500 [==============================] - 4s 3ms/step - loss: 0.4063 - accuracy: 0.8697\n",
      "Epoch 33/50\n",
      "1500/1500 [==============================] - 4s 3ms/step - loss: 0.4054 - accuracy: 0.8690\n",
      "Epoch 34/50\n",
      "1500/1500 [==============================] - 4s 3ms/step - loss: 0.4058 - accuracy: 0.8708\n",
      "Epoch 35/50\n",
      "1500/1500 [==============================] - 5s 3ms/step - loss: 0.4056 - accuracy: 0.8696\n",
      "Epoch 36/50\n",
      "1500/1500 [==============================] - 4s 3ms/step - loss: 0.4061 - accuracy: 0.8705\n",
      "Epoch 37/50\n",
      "1500/1500 [==============================] - 4s 2ms/step - loss: 0.4052 - accuracy: 0.8704\n",
      "Epoch 38/50\n",
      "1500/1500 [==============================] - 4s 3ms/step - loss: 0.4062 - accuracy: 0.8710\n",
      "Epoch 39/50\n",
      "1500/1500 [==============================] - 4s 3ms/step - loss: 0.4055 - accuracy: 0.8718\n",
      "Epoch 40/50\n",
      "1500/1500 [==============================] - 3s 2ms/step - loss: 0.4052 - accuracy: 0.8720\n",
      "Epoch 41/50\n",
      "1500/1500 [==============================] - 3s 2ms/step - loss: 0.4051 - accuracy: 0.8706\n",
      "Epoch 42/50\n",
      "1500/1500 [==============================] - 3s 2ms/step - loss: 0.4048 - accuracy: 0.8720\n",
      "Epoch 43/50\n",
      "1500/1500 [==============================] - 3s 2ms/step - loss: 0.4049 - accuracy: 0.8711\n",
      "Epoch 44/50\n",
      "1500/1500 [==============================] - 3s 2ms/step - loss: 0.4056 - accuracy: 0.8720\n",
      "Epoch 45/50\n",
      "1500/1500 [==============================] - 3s 2ms/step - loss: 0.4051 - accuracy: 0.8710\n",
      "Epoch 46/50\n",
      "1500/1500 [==============================] - 3s 2ms/step - loss: 0.4050 - accuracy: 0.8712\n",
      "Epoch 47/50\n",
      "1500/1500 [==============================] - 3s 2ms/step - loss: 0.4055 - accuracy: 0.8722\n",
      "Epoch 48/50\n",
      "1500/1500 [==============================] - 3s 2ms/step - loss: 0.4049 - accuracy: 0.8724\n",
      "Epoch 49/50\n",
      "1500/1500 [==============================] - 3s 2ms/step - loss: 0.4056 - accuracy: 0.8708\n",
      "Epoch 50/50\n",
      "1500/1500 [==============================] - 3s 2ms/step - loss: 0.4047 - accuracy: 0.8724\n"
     ]
    }
   ],
   "source": [
    "### 4. 모델 훈련 시키기 : fit()\n",
    "with tf.device(\"/CPU:0\") :\n",
    "    model.fit(train_scaled, train_target, epochs=50)"
   ]
  },
  {
   "cell_type": "code",
   "execution_count": 20,
   "id": "c25b5a7a",
   "metadata": {},
   "outputs": [
    {
     "name": "stdout",
     "output_type": "stream",
     "text": [
      "375/375 [==============================] - 2s 2ms/step - loss: 0.4838 - accuracy: 0.8512\n"
     ]
    },
    {
     "data": {
      "text/plain": [
       "[0.4837850034236908, 0.8512499928474426]"
      ]
     },
     "execution_count": 20,
     "metadata": {},
     "output_type": "execute_result"
    }
   ],
   "source": [
    "### 5. 모델 성능 검증하기\n",
    "score = model.evaluate(val_scaled, val_target)\n",
    "score"
   ]
  },
  {
   "cell_type": "code",
   "execution_count": 21,
   "id": "d33a4e47",
   "metadata": {},
   "outputs": [
    {
     "name": "stdout",
     "output_type": "stream",
     "text": [
      "손실율 : 0.4837850034236908, 정확도 : 0.8512499928474426\n"
     ]
    }
   ],
   "source": [
    "print(f\"손실율 : {score[0]}, 정확도 : {score[1]}\")"
   ]
  },
  {
   "cell_type": "code",
   "execution_count": null,
   "id": "db01d583",
   "metadata": {},
   "outputs": [
    {
     "name": "stdout",
     "output_type": "stream",
     "text": [
      "Model: \"sequential\"\n",
      "_________________________________________________________________\n",
      " Layer (type)                Output Shape              Param #   \n",
      "=================================================================\n",
      " dense (Dense)               (None, 10)                7850      \n",
      "                                                                 \n",
      "=================================================================\n",
      "Total params: 7,850\n",
      "Trainable params: 7,850\n",
      "Non-trainable params: 0\n",
      "_________________________________________________________________\n"
     ]
    }
   ],
   "source": [
    "### 현재까지 사용한 모델의 구조 출력하기\n",
    "model.summary()\n",
    "\n",
    "\n",
    "### 모델에서 사용한 계층 확인하기\n",
    "# - Model: \"sequential\" : 모델 이름\n",
    "# - Layer (type) : 모델 이름\n",
    "# - Output Shape : 출력 갯수(크기)\n",
    "# - Param : 훈련 중에 사용된 특성의 총 갯수\n",
    "#   (Param 계산방법) : 모델이 알아서 하기에 몰라도 됨\n",
    "#    Param = (입력의 갯수 + 1) * 출력 갯수\n",
    "#          = (784        + 1) * 10\n",
    "#          = 7850"
   ]
  }
 ],
 "metadata": {
  "kernelspec": {
   "display_name": "pk_dl_gpu_kernel",
   "language": "python",
   "name": "pk_dl_gpu"
  },
  "language_info": {
   "codemirror_mode": {
    "name": "ipython",
    "version": 3
   },
   "file_extension": ".py",
   "mimetype": "text/x-python",
   "name": "python",
   "nbconvert_exporter": "python",
   "pygments_lexer": "ipython3",
   "version": "3.9.21"
  }
 },
 "nbformat": 4,
 "nbformat_minor": 5
}
