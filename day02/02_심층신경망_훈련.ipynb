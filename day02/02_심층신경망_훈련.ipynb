{
 "cells": [
  {
   "cell_type": "markdown",
   "id": "bcd534a7",
   "metadata": {},
   "source": [
    "- 심층 신경망(DNN)\n",
    "    - 입력계층과 출력계층 사이에 여러 계층이 포함된 경우\n",
    "    - 중간에 포함된 계층을 -> 은닉계층(Hidden Layer)이라고 표현함\n",
    "    - 은닉계층은 입력된 데이터를 다음 계층으로 넘겨주기 위한 활성화 함수가 필요함\n",
    "        - 보통 relu를 주로 사용함"
   ]
  },
  {
   "cell_type": "markdown",
   "id": "cfa4c3e8",
   "metadata": {},
   "source": [
    "1. 패션데이터셋 읽어들이기 : 변수는 기존과 동일\n",
    "2. 데이터 스케일링 : 변수는 기존과 동일\n",
    "3. 훈련 : 검증 = 8:2로 분리 : 변수는 기존과 동일"
   ]
  },
  {
   "cell_type": "code",
   "execution_count": null,
   "id": "6c08db93",
   "metadata": {
    "executionInfo": {
     "elapsed": 7463,
     "status": "ok",
     "timestamp": 1748333053024,
     "user": {
      "displayName": "dal ma",
      "userId": "14924289622934975830"
     },
     "user_tz": -540
    },
    "id": "6c08db93"
   },
   "outputs": [],
   "source": [
    "### <텐서플로 프레임워크 사용>\n",
    "# - 사용 라이브러리 : keras\n",
    "\n",
    "### 텐서플로우 프레임워크(패키지라고도 칭함)\n",
    "import tensorflow as tf\n",
    "\n",
    "### 케라스 라이브러리 불러들이기\n",
    "from tensorflow import keras\n",
    "\n",
    "### 시각화 라이브러리 불러들이기\n",
    "import matplotlib.pyplot as plt\n",
    "\n",
    "### 넘파이\n",
    "import numpy as np\n",
    "\n",
    "### 훈련 및 테스트 데이터로 분류하는 라이브러리\n",
    "from sklearn.model_selection import train_test_split\n",
    "\n",
    "### 딥러닝 랜덤 규칙 정의하기\n",
    "# - 딥러닝에서의 랜덤 규칙은 항상 일정하게 유지되지는 않음\n",
    "# - 딥러닝 모델 내부에서 훈련을 위한 데이터를 임의로 추출하여 사용(사람이 관여 안함)\n",
    "tf.keras.utils.set_random_seed(42)\n",
    "tf.config.experimental.enable_op_determinism()"
   ]
  },
  {
   "cell_type": "code",
   "execution_count": 2,
   "id": "76a51388",
   "metadata": {
    "colab": {
     "base_uri": "https://localhost:8080/"
    },
    "executionInfo": {
     "elapsed": 4814,
     "status": "ok",
     "timestamp": 1748333061549,
     "user": {
      "displayName": "dal ma",
      "userId": "14924289622934975830"
     },
     "user_tz": -540
    },
    "id": "76a51388",
    "outputId": "574902f6-a29a-436a-8a9e-dce3438e22a9"
   },
   "outputs": [
    {
     "name": "stdout",
     "output_type": "stream",
     "text": [
      "(60000, 28, 28) (60000,)\n",
      "(10000, 28, 28) (10000,)\n"
     ]
    }
   ],
   "source": [
    "### keras에서 제공하는 데이터 라이브러리 : Fashion MNIST\n",
    "# - 이미지 데이터로 되어있음\n",
    "\n",
    "### 데이터셋 읽어들이기\n",
    "# - 반환되는 데이터 : train(독립, 종속), test(독립, 종속) 총 4개 데이터 변수로 반환됨\n",
    "(train_input, train_target), (test_input, test_target) = keras.datasets.fashion_mnist.load_data()\n",
    "\n",
    "print(train_input.shape, train_target.shape)\n",
    "print(test_input.shape, test_target.shape)"
   ]
  },
  {
   "cell_type": "code",
   "execution_count": 3,
   "id": "6289fb99",
   "metadata": {
    "executionInfo": {
     "elapsed": 169,
     "status": "ok",
     "timestamp": 1748333064946,
     "user": {
      "displayName": "dal ma",
      "userId": "14924289622934975830"
     },
     "user_tz": -540
    },
    "id": "6289fb99"
   },
   "outputs": [],
   "source": [
    "### 이미지 픽셀 데이터를 0~1사이의 값으로 변환하기\n",
    "# - 이미지 픽셀 데이터의 범위는 0~255의 범위값으로 구성되어 있음\n",
    "# - 따라서, 각 픽셀의 값을 255로 나눠주면, 0~1사이의 값으로 일반화가 가능함\n",
    "# - 훈련 및 테스트 독립변수의 데이터를 모두 255로 나누어서 전처리하기\n",
    "#   (255.0의 소숫점으로 나눠줌)\n",
    "train_scaled_255 = train_input / 255.0\n",
    "test_scaled_255  = test_input / 255.0"
   ]
  },
  {
   "cell_type": "code",
   "execution_count": 4,
   "id": "6f60a612",
   "metadata": {
    "colab": {
     "base_uri": "https://localhost:8080/"
    },
    "executionInfo": {
     "elapsed": 147,
     "status": "ok",
     "timestamp": 1748333067559,
     "user": {
      "displayName": "dal ma",
      "userId": "14924289622934975830"
     },
     "user_tz": -540
    },
    "id": "6f60a612",
    "outputId": "cf95d71a-1c8f-45e3-a885-2e181997f0ef"
   },
   "outputs": [
    {
     "name": "stdout",
     "output_type": "stream",
     "text": [
      "(48000, 28, 28) (48000,)\n",
      "(12000, 28, 28) (12000,)\n",
      "(10000, 28, 28) (10000,)\n"
     ]
    }
   ],
   "source": [
    "### 훈련(train_scaled, train_target)\n",
    "### 검증(val_scaled, val_target)\n",
    "train_scaled, val_scaled, train_target, val_target = train_test_split(\n",
    "    train_scaled_255, train_target, test_size=0.2, random_state=42\n",
    ")\n",
    "\n",
    "print(train_scaled.shape,   train_target.shape)\n",
    "print(val_scaled.shape,     val_target.shape)\n",
    "print(test_scaled_255.shape, test_target.shape)"
   ]
  },
  {
   "cell_type": "markdown",
   "id": "9110a0b5",
   "metadata": {
    "id": "9110a0b5"
   },
   "source": [
    "### 심층신경망(Deep Neural Network, DNN)"
   ]
  },
  {
   "cell_type": "markdown",
   "id": "da1e2dac",
   "metadata": {},
   "source": [
    "- 인공신경망(Artificial Neural Network, ANN)\n",
    "    - 은닉계층(Hidden Layer)이 없는 모델\n",
    "    - 입력계층 + 출력계층 or 입/출력 계층만 존재하는 모델\n",
    "\n",
    "- 심층신경망(Deep Neural Network, DNN)\n",
    "    - 은닉계층(Hidden Layer)이 있는 모델\n",
    "    - 입력계층 + 은닉계층....n개 + 출력계층"
   ]
  },
  {
   "cell_type": "code",
   "execution_count": 5,
   "id": "e16d24cd",
   "metadata": {
    "colab": {
     "base_uri": "https://localhost:8080/"
    },
    "executionInfo": {
     "elapsed": 6,
     "status": "ok",
     "timestamp": 1748333068552,
     "user": {
      "displayName": "dal ma",
      "userId": "14924289622934975830"
     },
     "user_tz": -540
    },
    "id": "e16d24cd",
    "outputId": "5791bef9-382b-40b8-9103-8d403ea92c12"
   },
   "outputs": [
    {
     "data": {
      "text/plain": [
       "<keras.engine.sequential.Sequential at 0x1c9493cf700>"
      ]
     },
     "execution_count": 5,
     "metadata": {},
     "output_type": "execute_result"
    }
   ],
   "source": [
    "### 1 모델 생성하기 : 변수명  model\n",
    "model = keras.Sequential()\n",
    "model"
   ]
  },
  {
   "cell_type": "code",
   "execution_count": 6,
   "id": "54cfb18d",
   "metadata": {
    "colab": {
     "base_uri": "https://localhost:8080/"
    },
    "executionInfo": {
     "elapsed": 11,
     "status": "ok",
     "timestamp": 1748333068760,
     "user": {
      "displayName": "dal ma",
      "userId": "14924289622934975830"
     },
     "user_tz": -540
    },
    "id": "54cfb18d",
    "outputId": "faced2e1-9c13-4ebf-b875-cf92dee3530c"
   },
   "outputs": [
    {
     "data": {
      "text/plain": [
       "<keras.engine.sequential.Sequential at 0x1c9493cf700>"
      ]
     },
     "execution_count": 6,
     "metadata": {},
     "output_type": "execute_result"
    }
   ],
   "source": [
    "### 2. 입력계층 생성하겨 모델에 추가하기\n",
    "# - 차원을 변환하는 전처리 계층을 입력계층으로 사용\n",
    "#   -> 모델에 사용되는 데이터는 2차원을 사용해야함\n",
    "#   -> (축, 행, 열) => (행, 열)로 변환\n",
    "#                      --> 축이 행이됨, (행*열)을 열로 통합\n",
    "# - Flatten : 차원변경 전처리 계층\n",
    "#           : 전처리 계층은 훈련에 사용되지 않는 계층임(데이터 전처리만 수행함)\n",
    "#           : 보통 입력된 데이터의 갯수가 출력으로 사용됨\n",
    "#\n",
    "# - input_shape을 사용하여 입력 계층의 역할도 함께 수행함\n",
    "dense1 = keras.layers.Flatten(input_shape=(28, 28))\n",
    "\n",
    "### 모델에 계층 추가하기\n",
    "model.add(dense1)\n",
    "model"
   ]
  },
  {
   "cell_type": "code",
   "execution_count": 7,
   "id": "2d67a7fd",
   "metadata": {
    "executionInfo": {
     "elapsed": 1608,
     "status": "ok",
     "timestamp": 1748333071631,
     "user": {
      "displayName": "dal ma",
      "userId": "14924289622934975830"
     },
     "user_tz": -540
    },
    "id": "2d67a7fd"
   },
   "outputs": [],
   "source": [
    "### 은닉계층(Hidden Layer) 생성 및 모델에 추가하기\n",
    "# - 입력으로 받아올 데이터 갯수 :\n",
    "# - 다음계층으로 넘겨줄 데이터 갯수 : 100개(출력 갯수)\n",
    "# - 훈련 중 분류에 사용할 활성화함수 activation :\n",
    "hidden_layer = keras.layers.Dense(units=100, activation=\"relu\")\n",
    "\n",
    "### 모델에 추가하기\n",
    "model.add(hidden_layer)"
   ]
  },
  {
   "cell_type": "code",
   "execution_count": 8,
   "id": "2f1bb551",
   "metadata": {
    "executionInfo": {
     "elapsed": 14,
     "status": "ok",
     "timestamp": 1748333071648,
     "user": {
      "displayName": "dal ma",
      "userId": "14924289622934975830"
     },
     "user_tz": -540
    },
    "id": "2f1bb551"
   },
   "outputs": [],
   "source": [
    "### 출력계층 생성 및 모델에 추가하기\n",
    "# - 출력 데이터 갯수 : 종속변수의 범주 갯수를 정의함\n",
    "output_layer = keras.layers.Dense(units=10, activation=\"softmax\")\n",
    "\n",
    "model.add(output_layer)"
   ]
  },
  {
   "cell_type": "code",
   "execution_count": 9,
   "id": "d525a5cd",
   "metadata": {
    "colab": {
     "base_uri": "https://localhost:8080/",
     "height": 238
    },
    "executionInfo": {
     "elapsed": 26,
     "status": "ok",
     "timestamp": 1748333071675,
     "user": {
      "displayName": "dal ma",
      "userId": "14924289622934975830"
     },
     "user_tz": -540
    },
    "id": "d525a5cd",
    "outputId": "11ee1ff8-8bb5-493c-d249-a4e0a1d19588"
   },
   "outputs": [
    {
     "name": "stdout",
     "output_type": "stream",
     "text": [
      "Model: \"sequential\"\n",
      "_________________________________________________________________\n",
      " Layer (type)                Output Shape              Param #   \n",
      "=================================================================\n",
      " flatten (Flatten)           (None, 784)               0         \n",
      "                                                                 \n",
      " dense (Dense)               (None, 100)               78500     \n",
      "                                                                 \n",
      " dense_1 (Dense)             (None, 10)                1010      \n",
      "                                                                 \n",
      "=================================================================\n",
      "Total params: 79,510\n",
      "Trainable params: 79,510\n",
      "Non-trainable params: 0\n",
      "_________________________________________________________________\n"
     ]
    }
   ],
   "source": [
    "model.summary()"
   ]
  },
  {
   "cell_type": "markdown",
   "id": "b02bed6f",
   "metadata": {
    "id": "b02bed6f"
   },
   "source": [
    "### 모델 생성하는 함수 정의하기"
   ]
  },
  {
   "cell_type": "markdown",
   "id": "cde3a6a6",
   "metadata": {},
   "source": [
    "- 함수 프로세스\n",
    "    - 함수 이름 : model_fn\n",
    "    - 매개변수 : add_layer (은닉계층이 있으면 모델 중간에 추가, 없으면 추가 안함)\n",
    "    - 모델 변수명 : model\n",
    "    - 입력계층 모델에 추가 : 1차원 전처리 계층 사용\n",
    "    - 은닉계층 추가 조건 : 여러개의 은니계층이 넘어 올 수 있음\n",
    "        - add_layer의 값이 None이 아니면, 은닉계층을 모델에 추가\n",
    "        - add_layer의 값이 None이면, 추가하지 않기\n",
    "    - 출력계층 모델에 추가\n",
    "    - 모델을 반환(리턴)\n",
    "\n",
    "    - -> 함수 호출 시 인자값으로 사용할 -> 테스트를 위한 은닉계층-1\n",
    "        - 출력 100개, 활성화함수 relu 사용\n",
    "        - 단, 여러개의 은닉계층을 인자값으로 넘길 수 있도록 처리\n",
    "\n",
    "    - 은닉계층 2개를 사용하는 경우 추가 은닉계층-2\n",
    "        - -> 출력 50개, 활성화함수 relu 사용"
   ]
  },
  {
   "cell_type": "code",
   "execution_count": 10,
   "id": "1fd1baa2",
   "metadata": {
    "executionInfo": {
     "elapsed": 4,
     "status": "ok",
     "timestamp": 1748333075630,
     "user": {
      "displayName": "dal ma",
      "userId": "14924289622934975830"
     },
     "user_tz": -540
    },
    "id": "1fd1baa2"
   },
   "outputs": [],
   "source": [
    "def model_fn(add_layer = None) :\n",
    "    ### 모델 생성하기\n",
    "    model = keras.Sequential()\n",
    "\n",
    "    ### 입력계층(차원축소 전처리 계층)  생성 및 모델에 추가하기\n",
    "    model.add(keras.layers.Flatten(input_shape=(28, 28)))\n",
    "\n",
    "    ### 은닉계층 추가여부 확인하기\n",
    "    if add_layer != None :\n",
    "        ### 은닉계층 여러개를 리스트 타입으로 받아서 처리할 예정\n",
    "        for layer in add_layer :\n",
    "            model.add(layer)\n",
    "\n",
    "    ### 출력계층\n",
    "    model.add(keras.layers.Dense(units=10, activation=\"softmax\"))\n",
    "\n",
    "    ### 모델 반환하기\n",
    "    return model\n"
   ]
  },
  {
   "cell_type": "code",
   "execution_count": 11,
   "id": "29becfdd",
   "metadata": {
    "colab": {
     "base_uri": "https://localhost:8080/",
     "height": 204
    },
    "executionInfo": {
     "elapsed": 37,
     "status": "ok",
     "timestamp": 1748333076930,
     "user": {
      "displayName": "dal ma",
      "userId": "14924289622934975830"
     },
     "user_tz": -540
    },
    "id": "29becfdd",
    "outputId": "2087c8aa-246f-46b2-f54c-fb5da275879e"
   },
   "outputs": [
    {
     "name": "stdout",
     "output_type": "stream",
     "text": [
      "Model: \"sequential_1\"\n",
      "_________________________________________________________________\n",
      " Layer (type)                Output Shape              Param #   \n",
      "=================================================================\n",
      " flatten_1 (Flatten)         (None, 784)               0         \n",
      "                                                                 \n",
      " dense_2 (Dense)             (None, 10)                7850      \n",
      "                                                                 \n",
      "=================================================================\n",
      "Total params: 7,850\n",
      "Trainable params: 7,850\n",
      "Non-trainable params: 0\n",
      "_________________________________________________________________\n"
     ]
    }
   ],
   "source": [
    "### 함수 호출하여 모델 생성하기\n",
    "# - 은닉계층 없이 생성\n",
    "model_temp = model_fn()\n",
    "model_temp.summary()"
   ]
  },
  {
   "cell_type": "code",
   "execution_count": 12,
   "id": "9fc14e77",
   "metadata": {
    "colab": {
     "base_uri": "https://localhost:8080/",
     "height": 238
    },
    "executionInfo": {
     "elapsed": 36,
     "status": "ok",
     "timestamp": 1748333077931,
     "user": {
      "displayName": "dal ma",
      "userId": "14924289622934975830"
     },
     "user_tz": -540
    },
    "id": "9fc14e77",
    "outputId": "e83afd85-ce5f-41c0-f733-73557ece7011"
   },
   "outputs": [
    {
     "name": "stdout",
     "output_type": "stream",
     "text": [
      "Model: \"sequential_2\"\n",
      "_________________________________________________________________\n",
      " Layer (type)                Output Shape              Param #   \n",
      "=================================================================\n",
      " flatten_2 (Flatten)         (None, 784)               0         \n",
      "                                                                 \n",
      " dense_3 (Dense)             (None, 100)               78500     \n",
      "                                                                 \n",
      " dense_4 (Dense)             (None, 10)                1010      \n",
      "                                                                 \n",
      "=================================================================\n",
      "Total params: 79,510\n",
      "Trainable params: 79,510\n",
      "Non-trainable params: 0\n",
      "_________________________________________________________________\n"
     ]
    }
   ],
   "source": [
    "### 함수 호출하여 모델 생성하기\n",
    "# - 은닉계층 추가\n",
    "hidden_layer1 = keras.layers.Dense(units=100, activation=\"relu\")\n",
    "\n",
    "model_temp = model_fn([hidden_layer1])\n",
    "model_temp.summary()"
   ]
  },
  {
   "cell_type": "code",
   "execution_count": 13,
   "id": "4fac6b27",
   "metadata": {
    "colab": {
     "base_uri": "https://localhost:8080/",
     "height": 272
    },
    "executionInfo": {
     "elapsed": 49,
     "status": "ok",
     "timestamp": 1748333078681,
     "user": {
      "displayName": "dal ma",
      "userId": "14924289622934975830"
     },
     "user_tz": -540
    },
    "id": "4fac6b27",
    "outputId": "daef67be-6ba9-4131-8e52-f2110eab8f23"
   },
   "outputs": [
    {
     "name": "stdout",
     "output_type": "stream",
     "text": [
      "Model: \"sequential_3\"\n",
      "_________________________________________________________________\n",
      " Layer (type)                Output Shape              Param #   \n",
      "=================================================================\n",
      " flatten_3 (Flatten)         (None, 784)               0         \n",
      "                                                                 \n",
      " dense_5 (Dense)             (None, 100)               78500     \n",
      "                                                                 \n",
      " dense_6 (Dense)             (None, 50)                5050      \n",
      "                                                                 \n",
      " dense_7 (Dense)             (None, 10)                510       \n",
      "                                                                 \n",
      "=================================================================\n",
      "Total params: 84,060\n",
      "Trainable params: 84,060\n",
      "Non-trainable params: 0\n",
      "_________________________________________________________________\n"
     ]
    }
   ],
   "source": [
    "### 함수 호출하여 모델 생성하기\n",
    "# - 은닉계층 추가\n",
    "hidden_layer1 = keras.layers.Dense(units=100, activation=\"relu\")\n",
    "hidden_layer2 = keras.layers.Dense(units=50, activation=\"relu\")\n",
    "\n",
    "model_temp = model_fn([hidden_layer1, hidden_layer2])\n",
    "model_temp.summary()"
   ]
  },
  {
   "cell_type": "markdown",
   "id": "83f24473",
   "metadata": {
    "id": "83f24473"
   },
   "source": [
    "### 모델 환경설정하기(역전파: 손실을 줄이기 위한 평가 등을 진행)"
   ]
  },
  {
   "cell_type": "code",
   "execution_count": null,
   "id": "317ca1d0",
   "metadata": {
    "colab": {
     "base_uri": "https://localhost:8080/",
     "height": 373
    },
    "executionInfo": {
     "elapsed": 242,
     "status": "error",
     "timestamp": 1748333079965,
     "user": {
      "displayName": "dal ma",
      "userId": "14924289622934975830"
     },
     "user_tz": -540
    },
    "id": "317ca1d0",
    "outputId": "e6392329-a868-4d43-f964-85230f30bbf6"
   },
   "outputs": [],
   "source": [
    "### 다중분류를 진행하며, 종속변수의 값 형태는 0, 1, 2, \n",
    "# - 평가 결과는 손실율과 정확도까지 출력\n",
    "model_temp.compile(\n",
    "    loss = \"sparse_categorical_crossentropy\",\n",
    "    metrics = \"accuracy\"\n",
    ")"
   ]
  },
  {
   "cell_type": "markdown",
   "id": "f21475ca",
   "metadata": {
    "id": "f21475ca"
   },
   "source": [
    "### 심층신경망 훈련 시키기"
   ]
  },
  {
   "cell_type": "code",
   "execution_count": 15,
   "id": "fa273aa5",
   "metadata": {
    "id": "fa273aa5",
    "outputId": "cfe10641-c3aa-4147-e61a-8cc0404d465e"
   },
   "outputs": [
    {
     "name": "stdout",
     "output_type": "stream",
     "text": [
      "Epoch 1/50\n",
      "1500/1500 [==============================] - 3s 2ms/step - loss: 0.5346 - accuracy: 0.8090\n",
      "Epoch 2/50\n",
      "1500/1500 [==============================] - 3s 2ms/step - loss: 0.3922 - accuracy: 0.8547\n",
      "Epoch 3/50\n",
      "1500/1500 [==============================] - 4s 2ms/step - loss: 0.3566 - accuracy: 0.8705\n",
      "Epoch 4/50\n",
      "1500/1500 [==============================] - 3s 2ms/step - loss: 0.3375 - accuracy: 0.8783\n",
      "Epoch 5/50\n",
      "1500/1500 [==============================] - 3s 2ms/step - loss: 0.3247 - accuracy: 0.8827\n",
      "Epoch 6/50\n",
      "1500/1500 [==============================] - 3s 2ms/step - loss: 0.3195 - accuracy: 0.8867\n",
      "Epoch 7/50\n",
      "1500/1500 [==============================] - 3s 2ms/step - loss: 0.3109 - accuracy: 0.8885\n",
      "Epoch 8/50\n",
      "1500/1500 [==============================] - 3s 2ms/step - loss: 0.3069 - accuracy: 0.8913\n",
      "Epoch 9/50\n",
      "1500/1500 [==============================] - 3s 2ms/step - loss: 0.3007 - accuracy: 0.8946\n",
      "Epoch 10/50\n",
      "1500/1500 [==============================] - 3s 2ms/step - loss: 0.2976 - accuracy: 0.8972\n",
      "Epoch 11/50\n",
      "1500/1500 [==============================] - 3s 2ms/step - loss: 0.2952 - accuracy: 0.8982\n",
      "Epoch 12/50\n",
      "1500/1500 [==============================] - 3s 2ms/step - loss: 0.2967 - accuracy: 0.8982\n",
      "Epoch 13/50\n",
      "1500/1500 [==============================] - 3s 2ms/step - loss: 0.2890 - accuracy: 0.9013\n",
      "Epoch 14/50\n",
      "1500/1500 [==============================] - 3s 2ms/step - loss: 0.2848 - accuracy: 0.9016\n",
      "Epoch 15/50\n",
      "1500/1500 [==============================] - 3s 2ms/step - loss: 0.2836 - accuracy: 0.9018\n",
      "Epoch 16/50\n",
      "1500/1500 [==============================] - 3s 2ms/step - loss: 0.2778 - accuracy: 0.9050\n",
      "Epoch 17/50\n",
      "1500/1500 [==============================] - 3s 2ms/step - loss: 0.2736 - accuracy: 0.9056\n",
      "Epoch 18/50\n",
      "1500/1500 [==============================] - 3s 2ms/step - loss: 0.2749 - accuracy: 0.9075\n",
      "Epoch 19/50\n",
      "1500/1500 [==============================] - 3s 2ms/step - loss: 0.2720 - accuracy: 0.9070\n",
      "Epoch 20/50\n",
      "1500/1500 [==============================] - 3s 2ms/step - loss: 0.2779 - accuracy: 0.9082\n",
      "Epoch 21/50\n",
      "1500/1500 [==============================] - 3s 2ms/step - loss: 0.2694 - accuracy: 0.9086\n",
      "Epoch 22/50\n",
      "1500/1500 [==============================] - 3s 2ms/step - loss: 0.2669 - accuracy: 0.9116\n",
      "Epoch 23/50\n",
      "1500/1500 [==============================] - 3s 2ms/step - loss: 0.2634 - accuracy: 0.9109\n",
      "Epoch 24/50\n",
      "1500/1500 [==============================] - 3s 2ms/step - loss: 0.2627 - accuracy: 0.9118\n",
      "Epoch 25/50\n",
      "1500/1500 [==============================] - 3s 2ms/step - loss: 0.2656 - accuracy: 0.9135\n",
      "Epoch 26/50\n",
      "1500/1500 [==============================] - 3s 2ms/step - loss: 0.2582 - accuracy: 0.9138\n",
      "Epoch 27/50\n",
      "1500/1500 [==============================] - 3s 2ms/step - loss: 0.2588 - accuracy: 0.9151\n",
      "Epoch 28/50\n",
      "1500/1500 [==============================] - 3s 2ms/step - loss: 0.2611 - accuracy: 0.9141\n",
      "Epoch 29/50\n",
      "1500/1500 [==============================] - 3s 2ms/step - loss: 0.2580 - accuracy: 0.9153\n",
      "Epoch 30/50\n",
      "1500/1500 [==============================] - 3s 2ms/step - loss: 0.2567 - accuracy: 0.9162\n",
      "Epoch 31/50\n",
      "1500/1500 [==============================] - 4s 2ms/step - loss: 0.2528 - accuracy: 0.9185\n",
      "Epoch 32/50\n",
      "1500/1500 [==============================] - 3s 2ms/step - loss: 0.2512 - accuracy: 0.9186\n",
      "Epoch 33/50\n",
      "1500/1500 [==============================] - 3s 2ms/step - loss: 0.2475 - accuracy: 0.9190\n",
      "Epoch 34/50\n",
      "1500/1500 [==============================] - 3s 2ms/step - loss: 0.2483 - accuracy: 0.9195\n",
      "Epoch 35/50\n",
      "1500/1500 [==============================] - 3s 2ms/step - loss: 0.2500 - accuracy: 0.9208\n",
      "Epoch 36/50\n",
      "1500/1500 [==============================] - 3s 2ms/step - loss: 0.2475 - accuracy: 0.9195\n",
      "Epoch 37/50\n",
      "1500/1500 [==============================] - 3s 2ms/step - loss: 0.2455 - accuracy: 0.9214\n",
      "Epoch 38/50\n",
      "1500/1500 [==============================] - 3s 2ms/step - loss: 0.2454 - accuracy: 0.9207\n",
      "Epoch 39/50\n",
      "1500/1500 [==============================] - 3s 2ms/step - loss: 0.2435 - accuracy: 0.9225\n",
      "Epoch 40/50\n",
      "1500/1500 [==============================] - 3s 2ms/step - loss: 0.2391 - accuracy: 0.9230\n",
      "Epoch 41/50\n",
      "1500/1500 [==============================] - 3s 2ms/step - loss: 0.2420 - accuracy: 0.9239\n",
      "Epoch 42/50\n",
      "1500/1500 [==============================] - 3s 2ms/step - loss: 0.2387 - accuracy: 0.9233\n",
      "Epoch 43/50\n",
      "1500/1500 [==============================] - 3s 2ms/step - loss: 0.2389 - accuracy: 0.9255\n",
      "Epoch 44/50\n",
      "1500/1500 [==============================] - 3s 2ms/step - loss: 0.2324 - accuracy: 0.9264\n",
      "Epoch 45/50\n",
      "1500/1500 [==============================] - 3s 2ms/step - loss: 0.2368 - accuracy: 0.9273\n",
      "Epoch 46/50\n",
      "1500/1500 [==============================] - 3s 2ms/step - loss: 0.2374 - accuracy: 0.9262\n",
      "Epoch 47/50\n",
      "1500/1500 [==============================] - 3s 2ms/step - loss: 0.2414 - accuracy: 0.9271\n",
      "Epoch 48/50\n",
      "1500/1500 [==============================] - 3s 2ms/step - loss: 0.2267 - accuracy: 0.9283\n",
      "Epoch 49/50\n",
      "1500/1500 [==============================] - 3s 2ms/step - loss: 0.2299 - accuracy: 0.9285\n",
      "Epoch 50/50\n",
      "1500/1500 [==============================] - 3s 2ms/step - loss: 0.2307 - accuracy: 0.9281\n"
     ]
    }
   ],
   "source": [
    "# - 훈련 횟수 50회\n",
    "with tf.device(\"/CPU:0\") :\n",
    "    model_temp.fit(train_scaled, train_target, epochs=50)"
   ]
  },
  {
   "cell_type": "code",
   "execution_count": 16,
   "id": "6565e0e1",
   "metadata": {
    "id": "6565e0e1",
    "outputId": "91a11c9f-2b2b-49a1-f476-99cf98a98e07"
   },
   "outputs": [
    {
     "name": "stdout",
     "output_type": "stream",
     "text": [
      "Epoch 1/50\n",
      "1500/1500 [==============================] - 3s 2ms/step - loss: 0.2275 - accuracy: 0.9291\n",
      "Epoch 2/50\n",
      "1500/1500 [==============================] - 3s 2ms/step - loss: 0.2242 - accuracy: 0.9299\n",
      "Epoch 3/50\n",
      "1500/1500 [==============================] - 3s 2ms/step - loss: 0.2241 - accuracy: 0.9307\n",
      "Epoch 4/50\n",
      "1500/1500 [==============================] - 3s 2ms/step - loss: 0.2286 - accuracy: 0.9300\n",
      "Epoch 5/50\n",
      "1500/1500 [==============================] - 3s 2ms/step - loss: 0.2281 - accuracy: 0.9305\n",
      "Epoch 6/50\n",
      "1500/1500 [==============================] - 3s 2ms/step - loss: 0.2221 - accuracy: 0.9321\n",
      "Epoch 7/50\n",
      "1500/1500 [==============================] - 3s 2ms/step - loss: 0.2217 - accuracy: 0.9311\n",
      "Epoch 8/50\n",
      "1500/1500 [==============================] - 3s 2ms/step - loss: 0.2209 - accuracy: 0.9326\n",
      "Epoch 9/50\n",
      "1500/1500 [==============================] - 3s 2ms/step - loss: 0.2248 - accuracy: 0.9329\n",
      "Epoch 10/50\n",
      "1500/1500 [==============================] - 3s 2ms/step - loss: 0.2137 - accuracy: 0.9343\n",
      "Epoch 11/50\n",
      "1500/1500 [==============================] - 3s 2ms/step - loss: 0.2113 - accuracy: 0.9349\n",
      "Epoch 12/50\n",
      "1500/1500 [==============================] - 3s 2ms/step - loss: 0.2150 - accuracy: 0.9334\n",
      "Epoch 13/50\n",
      "1500/1500 [==============================] - 3s 2ms/step - loss: 0.2231 - accuracy: 0.9351\n",
      "Epoch 14/50\n",
      "1500/1500 [==============================] - 3s 2ms/step - loss: 0.2179 - accuracy: 0.9346\n",
      "Epoch 15/50\n",
      "1500/1500 [==============================] - 3s 2ms/step - loss: 0.2152 - accuracy: 0.9354\n",
      "Epoch 16/50\n",
      "1500/1500 [==============================] - 3s 2ms/step - loss: 0.2151 - accuracy: 0.9358\n",
      "Epoch 17/50\n",
      "1500/1500 [==============================] - 3s 2ms/step - loss: 0.2149 - accuracy: 0.9356\n",
      "Epoch 18/50\n",
      "1500/1500 [==============================] - 3s 2ms/step - loss: 0.2081 - accuracy: 0.9370\n",
      "Epoch 19/50\n",
      "1500/1500 [==============================] - 3s 2ms/step - loss: 0.2135 - accuracy: 0.9381\n",
      "Epoch 20/50\n",
      "1500/1500 [==============================] - 3s 2ms/step - loss: 0.2112 - accuracy: 0.9375\n",
      "Epoch 21/50\n",
      "1500/1500 [==============================] - 3s 2ms/step - loss: 0.2037 - accuracy: 0.9381\n",
      "Epoch 22/50\n",
      "1500/1500 [==============================] - 3s 2ms/step - loss: 0.2045 - accuracy: 0.9384\n",
      "Epoch 23/50\n",
      "1500/1500 [==============================] - 3s 2ms/step - loss: 0.1977 - accuracy: 0.9393\n",
      "Epoch 24/50\n",
      "1500/1500 [==============================] - 3s 2ms/step - loss: 0.2087 - accuracy: 0.9376\n",
      "Epoch 25/50\n",
      "1500/1500 [==============================] - 3s 2ms/step - loss: 0.2005 - accuracy: 0.9390\n",
      "Epoch 26/50\n",
      "1500/1500 [==============================] - 3s 2ms/step - loss: 0.2031 - accuracy: 0.9398\n",
      "Epoch 27/50\n",
      "1500/1500 [==============================] - 3s 2ms/step - loss: 0.2106 - accuracy: 0.9397\n",
      "Epoch 28/50\n",
      "1500/1500 [==============================] - 3s 2ms/step - loss: 0.2040 - accuracy: 0.9393\n",
      "Epoch 29/50\n",
      "1500/1500 [==============================] - 3s 2ms/step - loss: 0.2047 - accuracy: 0.9407\n",
      "Epoch 30/50\n",
      "1500/1500 [==============================] - 3s 2ms/step - loss: 0.1980 - accuracy: 0.9406\n",
      "Epoch 31/50\n",
      "1500/1500 [==============================] - 3s 2ms/step - loss: 0.1942 - accuracy: 0.9412\n",
      "Epoch 32/50\n",
      "1500/1500 [==============================] - 3s 2ms/step - loss: 0.1987 - accuracy: 0.9419\n",
      "Epoch 33/50\n",
      "1500/1500 [==============================] - 3s 2ms/step - loss: 0.1973 - accuracy: 0.9439\n",
      "Epoch 34/50\n",
      "1500/1500 [==============================] - 3s 2ms/step - loss: 0.1981 - accuracy: 0.9419\n",
      "Epoch 35/50\n",
      "1500/1500 [==============================] - 3s 2ms/step - loss: 0.1964 - accuracy: 0.9422\n",
      "Epoch 36/50\n",
      "1500/1500 [==============================] - 3s 2ms/step - loss: 0.1995 - accuracy: 0.9430\n",
      "Epoch 37/50\n",
      "1500/1500 [==============================] - 3s 2ms/step - loss: 0.1958 - accuracy: 0.9436\n",
      "Epoch 38/50\n",
      "1500/1500 [==============================] - 3s 2ms/step - loss: 0.1897 - accuracy: 0.9446\n",
      "Epoch 39/50\n",
      "1500/1500 [==============================] - 3s 2ms/step - loss: 0.1863 - accuracy: 0.9445\n",
      "Epoch 40/50\n",
      "1500/1500 [==============================] - 3s 2ms/step - loss: 0.1892 - accuracy: 0.9449\n",
      "Epoch 41/50\n",
      "1500/1500 [==============================] - 3s 2ms/step - loss: 0.1900 - accuracy: 0.9456\n",
      "Epoch 42/50\n",
      "1500/1500 [==============================] - 3s 2ms/step - loss: 0.1914 - accuracy: 0.9449\n",
      "Epoch 43/50\n",
      "1500/1500 [==============================] - 3s 2ms/step - loss: 0.1884 - accuracy: 0.9466\n",
      "Epoch 44/50\n",
      "1500/1500 [==============================] - 3s 2ms/step - loss: 0.1840 - accuracy: 0.9449\n",
      "Epoch 45/50\n",
      "1500/1500 [==============================] - 3s 2ms/step - loss: 0.1908 - accuracy: 0.9465\n",
      "Epoch 46/50\n",
      "1500/1500 [==============================] - 3s 2ms/step - loss: 0.1868 - accuracy: 0.9456\n",
      "Epoch 47/50\n",
      "1500/1500 [==============================] - 3s 2ms/step - loss: 0.1785 - accuracy: 0.9465\n",
      "Epoch 48/50\n",
      "1500/1500 [==============================] - 3s 2ms/step - loss: 0.1894 - accuracy: 0.9455\n",
      "Epoch 49/50\n",
      "1500/1500 [==============================] - 3s 2ms/step - loss: 0.1978 - accuracy: 0.9464\n",
      "Epoch 50/50\n",
      "1500/1500 [==============================] - 3s 2ms/step - loss: 0.1851 - accuracy: 0.9464\n"
     ]
    }
   ],
   "source": [
    "### 훈련 결과에 대한 히스토리 정보 받아오기\n",
    "with tf.device(\"/CPU:0\") :\n",
    "    history = model_temp.fit(train_scaled, train_target, epochs=50)"
   ]
  },
  {
   "cell_type": "code",
   "execution_count": 17,
   "id": "fe91aaa5",
   "metadata": {
    "id": "fe91aaa5",
    "outputId": "8190fb0b-d7c0-4471-a5ff-3bdcba512e3d"
   },
   "outputs": [
    {
     "data": {
      "text/plain": [
       "<keras.callbacks.History at 0x1c998b3ed00>"
      ]
     },
     "execution_count": 17,
     "metadata": {},
     "output_type": "execute_result"
    }
   ],
   "source": [
    "history"
   ]
  },
  {
   "cell_type": "code",
   "execution_count": 18,
   "id": "4c7d56d8",
   "metadata": {
    "id": "4c7d56d8",
    "outputId": "e900ca49-c2ad-49ca-d30a-9b92c230ded4"
   },
   "outputs": [
    {
     "name": "stdout",
     "output_type": "stream",
     "text": [
      "[0, 1, 2, 3, 4, 5, 6, 7, 8, 9, 10, 11, 12, 13, 14, 15, 16, 17, 18, 19, 20, 21, 22, 23, 24, 25, 26, 27, 28, 29, 30, 31, 32, 33, 34, 35, 36, 37, 38, 39, 40, 41, 42, 43, 44, 45, 46, 47, 48, 49]\n"
     ]
    }
   ],
   "source": [
    "### 반복횟수 데이터 추출하기\n",
    "print(history.epoch)"
   ]
  },
  {
   "cell_type": "code",
   "execution_count": 19,
   "id": "a9f3279a",
   "metadata": {
    "id": "a9f3279a",
    "outputId": "30699d0f-f5d4-4ffa-ef9c-4c0aae59c85e"
   },
   "outputs": [
    {
     "data": {
      "text/plain": [
       "{'loss': [0.22754144668579102,\n",
       "  0.22422568500041962,\n",
       "  0.2240537703037262,\n",
       "  0.22858524322509766,\n",
       "  0.2281494140625,\n",
       "  0.2221207618713379,\n",
       "  0.22167012095451355,\n",
       "  0.22089707851409912,\n",
       "  0.2247781604528427,\n",
       "  0.21371683478355408,\n",
       "  0.21130235493183136,\n",
       "  0.2149895876646042,\n",
       "  0.2231292575597763,\n",
       "  0.21794991195201874,\n",
       "  0.21520353853702545,\n",
       "  0.2150948941707611,\n",
       "  0.2148505598306656,\n",
       "  0.20814737677574158,\n",
       "  0.2134716957807541,\n",
       "  0.21118693053722382,\n",
       "  0.2037281095981598,\n",
       "  0.2045440822839737,\n",
       "  0.19766156375408173,\n",
       "  0.20873872935771942,\n",
       "  0.20054249465465546,\n",
       "  0.2030695378780365,\n",
       "  0.21063868701457977,\n",
       "  0.20397432148456573,\n",
       "  0.20465362071990967,\n",
       "  0.19802409410476685,\n",
       "  0.1941637098789215,\n",
       "  0.19870831072330475,\n",
       "  0.19732747972011566,\n",
       "  0.19811785221099854,\n",
       "  0.1963619440793991,\n",
       "  0.19950948655605316,\n",
       "  0.19577880203723907,\n",
       "  0.18967391550540924,\n",
       "  0.18633140623569489,\n",
       "  0.18923711776733398,\n",
       "  0.19002050161361694,\n",
       "  0.1914391666650772,\n",
       "  0.18837714195251465,\n",
       "  0.1839601844549179,\n",
       "  0.19078828394412994,\n",
       "  0.18681958317756653,\n",
       "  0.17846596240997314,\n",
       "  0.18939104676246643,\n",
       "  0.19784869253635406,\n",
       "  0.18509306013584137],\n",
       " 'accuracy': [0.9290833473205566,\n",
       "  0.9298750162124634,\n",
       "  0.9307291507720947,\n",
       "  0.930020809173584,\n",
       "  0.9304999709129333,\n",
       "  0.9320625066757202,\n",
       "  0.9311458468437195,\n",
       "  0.9325833320617676,\n",
       "  0.932854175567627,\n",
       "  0.934333324432373,\n",
       "  0.9348750114440918,\n",
       "  0.9334166646003723,\n",
       "  0.9351041913032532,\n",
       "  0.9345625042915344,\n",
       "  0.9353541731834412,\n",
       "  0.9358333349227905,\n",
       "  0.9355624914169312,\n",
       "  0.9370416402816772,\n",
       "  0.9381250143051147,\n",
       "  0.937458336353302,\n",
       "  0.9381250143051147,\n",
       "  0.9384166598320007,\n",
       "  0.9392708539962769,\n",
       "  0.9376458525657654,\n",
       "  0.9390416741371155,\n",
       "  0.9398124814033508,\n",
       "  0.9396666884422302,\n",
       "  0.9393333196640015,\n",
       "  0.940666675567627,\n",
       "  0.940625011920929,\n",
       "  0.9412291646003723,\n",
       "  0.9418541789054871,\n",
       "  0.9438541531562805,\n",
       "  0.9419375061988831,\n",
       "  0.9421666860580444,\n",
       "  0.9429583549499512,\n",
       "  0.9436249732971191,\n",
       "  0.9445624947547913,\n",
       "  0.9445000290870667,\n",
       "  0.9449166655540466,\n",
       "  0.945604145526886,\n",
       "  0.944937527179718,\n",
       "  0.9466041922569275,\n",
       "  0.9448750019073486,\n",
       "  0.9464583396911621,\n",
       "  0.9455833435058594,\n",
       "  0.9465416669845581,\n",
       "  0.945479154586792,\n",
       "  0.9464374780654907,\n",
       "  0.9463750123977661]}"
      ]
     },
     "execution_count": 19,
     "metadata": {},
     "output_type": "execute_result"
    }
   ],
   "source": [
    "### 손실율과 정확도에 대한 훈련 결과데이터 추출하기\n",
    "history.history"
   ]
  },
  {
   "cell_type": "markdown",
   "id": "aa519caf",
   "metadata": {
    "id": "aa519caf"
   },
   "source": [
    "### 훈련 중 발생한 손실율을 이용하여 손실곡선 시각화 하기"
   ]
  },
  {
   "cell_type": "code",
   "execution_count": 21,
   "id": "d6b37a3b",
   "metadata": {
    "id": "d6b37a3b",
    "outputId": "b32e9b1c-f0ed-4ec2-d25b-713fa65f9de4"
   },
   "outputs": [
    {
     "data": {
      "image/png": "[encoded data removed]",
      "text/plain": [
       "<Figure size 640x480 with 1 Axes>"
      ]
     },
     "metadata": {},
     "output_type": "display_data"
    }
   ],
   "source": [
    "### 손실곡선 : 선그래프로 그리기\n",
    "# - x축은 반복횟수\n",
    "# - y축은 손실율\n",
    "\n",
    "# - 그래프는 saveFig 폴더에 png 확장자를 가지는 이미지로 저장하기\n",
    "\n",
    "plt.title(\"model_epoch_loss_01\")\n",
    "plt.plot(history.epoch, history.history[\"loss\"])\n",
    "\n",
    "plt.xlabel(\"Epoch\")\n",
    "plt.ylabel(\"Loss\")\n",
    "\n",
    "plt.grid()\n",
    "\n",
    "### 이미지 저장\n",
    "plt.savefig(\"./saveFig/model_epoch_loss_01.png\")\n",
    "\n",
    "plt.show()\n"
   ]
  },
  {
   "cell_type": "markdown",
   "id": "81df18de",
   "metadata": {
    "id": "81df18de"
   },
   "source": [
    "### 훈련결과에 대한 정확도 곡선 시각화하기"
   ]
  },
  {
   "cell_type": "code",
   "execution_count": 22,
   "id": "6ef1f8e0",
   "metadata": {
    "id": "6ef1f8e0",
    "outputId": "d70665d9-42d8-4c79-f310-8ec6a65a5c38"
   },
   "outputs": [
    {
     "data": {
      "image/png": "[encoded data removed]",
      "text/plain": [
       "<Figure size 640x480 with 1 Axes>"
      ]
     },
     "metadata": {},
     "output_type": "display_data"
    }
   ],
   "source": [
    "### 정확도 곡선 : 선그래프로 그리기\n",
    "# - x축은 반복횟수\n",
    "# - y축은 정확도\n",
    "plt.title(\"model_epoch_accuracy_01\")\n",
    "plt.plot(history.epoch, history.history[\"accuracy\"])\n",
    "\n",
    "plt.xlabel(\"Epoch\")\n",
    "plt.ylabel(\"accuracy\")\n",
    "\n",
    "plt.grid()\n",
    "\n",
    "### 이미지 저장\n",
    "plt.savefig(\"./saveFig/model_epoch_accuracy_01.png\")\n",
    "\n",
    "plt.show()"
   ]
  },
  {
   "cell_type": "code",
   "execution_count": 23,
   "id": "3c028e4c",
   "metadata": {
    "id": "3c028e4c",
    "outputId": "5fb5ed4c-f2bf-43a4-aaa1-2b674e5d7d22"
   },
   "outputs": [
    {
     "name": "stdout",
     "output_type": "stream",
     "text": [
      "Epoch 1/50\n",
      "1500/1500 [==============================] - 3s 2ms/step - loss: 0.5308 - accuracy: 0.8108\n",
      "Epoch 2/50\n",
      "1500/1500 [==============================] - 3s 2ms/step - loss: 0.3925 - accuracy: 0.8584\n",
      "Epoch 3/50\n",
      "1500/1500 [==============================] - 3s 2ms/step - loss: 0.3559 - accuracy: 0.8720\n",
      "Epoch 4/50\n",
      "1500/1500 [==============================] - 3s 2ms/step - loss: 0.3337 - accuracy: 0.8791\n",
      "Epoch 5/50\n",
      "1500/1500 [==============================] - 3s 2ms/step - loss: 0.3186 - accuracy: 0.8853\n",
      "Epoch 6/50\n",
      "1500/1500 [==============================] - 3s 2ms/step - loss: 0.3083 - accuracy: 0.8901\n",
      "Epoch 7/50\n",
      "1500/1500 [==============================] - 3s 2ms/step - loss: 0.2996 - accuracy: 0.8942\n",
      "Epoch 8/50\n",
      "1500/1500 [==============================] - 3s 2ms/step - loss: 0.2901 - accuracy: 0.8969\n",
      "Epoch 9/50\n",
      "1500/1500 [==============================] - 3s 2ms/step - loss: 0.2794 - accuracy: 0.9042\n",
      "Epoch 10/50\n",
      "1500/1500 [==============================] - 3s 2ms/step - loss: 0.2772 - accuracy: 0.9033\n",
      "Epoch 11/50\n",
      "1500/1500 [==============================] - 3s 2ms/step - loss: 0.2716 - accuracy: 0.9044\n",
      "Epoch 12/50\n",
      "1500/1500 [==============================] - 3s 2ms/step - loss: 0.2654 - accuracy: 0.9076\n",
      "Epoch 13/50\n",
      "1500/1500 [==============================] - 3s 2ms/step - loss: 0.2601 - accuracy: 0.9099\n",
      "Epoch 14/50\n",
      "1500/1500 [==============================] - 3s 2ms/step - loss: 0.2537 - accuracy: 0.9116\n",
      "Epoch 15/50\n",
      "1500/1500 [==============================] - 3s 2ms/step - loss: 0.2481 - accuracy: 0.9130\n",
      "Epoch 16/50\n",
      "1500/1500 [==============================] - 3s 2ms/step - loss: 0.2451 - accuracy: 0.9146\n",
      "Epoch 17/50\n",
      "1500/1500 [==============================] - 3s 2ms/step - loss: 0.2389 - accuracy: 0.9182\n",
      "Epoch 18/50\n",
      "1500/1500 [==============================] - 3s 2ms/step - loss: 0.2366 - accuracy: 0.9191\n",
      "Epoch 19/50\n",
      "1500/1500 [==============================] - 3s 2ms/step - loss: 0.2312 - accuracy: 0.9201\n",
      "Epoch 20/50\n",
      "1500/1500 [==============================] - 3s 2ms/step - loss: 0.2300 - accuracy: 0.9230\n",
      "Epoch 21/50\n",
      "1500/1500 [==============================] - 3s 2ms/step - loss: 0.2254 - accuracy: 0.9218\n",
      "Epoch 22/50\n",
      "1500/1500 [==============================] - 3s 2ms/step - loss: 0.2225 - accuracy: 0.9241\n",
      "Epoch 23/50\n",
      "1500/1500 [==============================] - 3s 2ms/step - loss: 0.2222 - accuracy: 0.9248\n",
      "Epoch 24/50\n",
      "1500/1500 [==============================] - 3s 2ms/step - loss: 0.2155 - accuracy: 0.9277\n",
      "Epoch 25/50\n",
      "1500/1500 [==============================] - 3s 2ms/step - loss: 0.2139 - accuracy: 0.9291\n",
      "Epoch 26/50\n",
      "1500/1500 [==============================] - 3s 2ms/step - loss: 0.2126 - accuracy: 0.9301\n",
      "Epoch 27/50\n",
      "1500/1500 [==============================] - 3s 2ms/step - loss: 0.2084 - accuracy: 0.9300\n",
      "Epoch 28/50\n",
      "1500/1500 [==============================] - 3s 2ms/step - loss: 0.2071 - accuracy: 0.9323\n",
      "Epoch 29/50\n",
      "1500/1500 [==============================] - 3s 2ms/step - loss: 0.2030 - accuracy: 0.9340\n",
      "Epoch 30/50\n",
      "1500/1500 [==============================] - 3s 2ms/step - loss: 0.2008 - accuracy: 0.9330\n",
      "Epoch 31/50\n",
      "1500/1500 [==============================] - 3s 2ms/step - loss: 0.1940 - accuracy: 0.9345\n",
      "Epoch 32/50\n",
      "1500/1500 [==============================] - 3s 2ms/step - loss: 0.1922 - accuracy: 0.9369\n",
      "Epoch 33/50\n",
      "1500/1500 [==============================] - 3s 2ms/step - loss: 0.1885 - accuracy: 0.9378\n",
      "Epoch 34/50\n",
      "1500/1500 [==============================] - 3s 2ms/step - loss: 0.1877 - accuracy: 0.9388\n",
      "Epoch 35/50\n",
      "1500/1500 [==============================] - 3s 2ms/step - loss: 0.1845 - accuracy: 0.9390\n",
      "Epoch 36/50\n",
      "1500/1500 [==============================] - 3s 2ms/step - loss: 0.1793 - accuracy: 0.9399\n",
      "Epoch 37/50\n",
      "1500/1500 [==============================] - 3s 2ms/step - loss: 0.1817 - accuracy: 0.9399\n",
      "Epoch 38/50\n",
      "1500/1500 [==============================] - 3s 2ms/step - loss: 0.1792 - accuracy: 0.9416\n",
      "Epoch 39/50\n",
      "1500/1500 [==============================] - 3s 2ms/step - loss: 0.1745 - accuracy: 0.9425\n",
      "Epoch 40/50\n",
      "1500/1500 [==============================] - 3s 2ms/step - loss: 0.1708 - accuracy: 0.9438\n",
      "Epoch 41/50\n",
      "1500/1500 [==============================] - 3s 2ms/step - loss: 0.1706 - accuracy: 0.9445\n",
      "Epoch 42/50\n",
      "1500/1500 [==============================] - 3s 2ms/step - loss: 0.1701 - accuracy: 0.9440\n",
      "Epoch 43/50\n",
      "1500/1500 [==============================] - 3s 2ms/step - loss: 0.1666 - accuracy: 0.9454\n",
      "Epoch 44/50\n",
      "1500/1500 [==============================] - 3s 2ms/step - loss: 0.1695 - accuracy: 0.9448\n",
      "Epoch 45/50\n",
      "1500/1500 [==============================] - 3s 2ms/step - loss: 0.1623 - accuracy: 0.9467\n",
      "Epoch 46/50\n",
      "1500/1500 [==============================] - 3s 2ms/step - loss: 0.1638 - accuracy: 0.9471\n",
      "Epoch 47/50\n",
      "1500/1500 [==============================] - 3s 2ms/step - loss: 0.1593 - accuracy: 0.9480\n",
      "Epoch 48/50\n",
      "1500/1500 [==============================] - 3s 2ms/step - loss: 0.1582 - accuracy: 0.9482\n",
      "Epoch 49/50\n",
      "1500/1500 [==============================] - 3s 2ms/step - loss: 0.1578 - accuracy: 0.9480\n",
      "Epoch 50/50\n",
      "1500/1500 [==============================] - 3s 2ms/step - loss: 0.1548 - accuracy: 0.9495\n"
     ]
    }
   ],
   "source": [
    "# - 신규모델 생성하여 훈련하기\n",
    "# - 은닉계층은 출력 100개로 한개 계층 추가\n",
    "# - 반복횟수는 50회\n",
    "# - 손실곡선 및 정확도 곡선 그리기\n",
    "\n",
    "hidden_layer = keras.layers.Dense(units=100, activation=\"relu\")\n",
    "\n",
    "model = model_fn([hidden_layer])\n",
    "\n",
    "model.compile(\n",
    "    loss = \"sparse_categorical_crossentropy\",\n",
    "    metrics = \"accuracy\"\n",
    ")\n",
    "\n",
    "with tf.device(\"/CPU:0\") :\n",
    "    history = model.fit(train_scaled, train_target, epochs=50)"
   ]
  },
  {
   "cell_type": "code",
   "execution_count": 24,
   "id": "9064aaea",
   "metadata": {
    "id": "9064aaea",
    "outputId": "6f5d1b60-3240-40f8-e62b-11aeb7fc7bfa"
   },
   "outputs": [
    {
     "data": {
      "image/png": "[encoded data removed]",
      "text/plain": [
       "<Figure size 640x480 with 1 Axes>"
      ]
     },
     "metadata": {},
     "output_type": "display_data"
    }
   ],
   "source": [
    "### 손실곡선 : 선그래프로 그리기\n",
    "# - x축은 반복횟수\n",
    "# - y축은 손실율\n",
    "\n",
    "# - 그래프는 saveFig 폴더에 png 확장자를 가지는 이미지로 저장하기\n",
    "\n",
    "plt.title(\"model_epoch_loss_02\")\n",
    "plt.plot(history.epoch, history.history[\"loss\"])\n",
    "\n",
    "plt.xlabel(\"Epoch\")\n",
    "plt.ylabel(\"Loss\")\n",
    "\n",
    "plt.grid()\n",
    "\n",
    "### 이미지 저장\n",
    "plt.savefig(\"./saveFig/model_epoch_loss_02.png\")\n",
    "\n",
    "plt.show()\n"
   ]
  },
  {
   "cell_type": "code",
   "execution_count": 25,
   "id": "a90e1f61",
   "metadata": {
    "id": "a90e1f61",
    "outputId": "5d84e2ec-acd5-4c05-b5fe-3fdf3f17deff"
   },
   "outputs": [
    {
     "data": {
      "image/png": "[encoded data removed]",
      "text/plain": [
       "<Figure size 640x480 with 1 Axes>"
      ]
     },
     "metadata": {},
     "output_type": "display_data"
    }
   ],
   "source": [
    "### 정확도 곡선 : 선그래프로 그리기\n",
    "# - x축은 반복횟수\n",
    "# - y축은 정확도\n",
    "plt.title(\"model_epoch_accuracy_02\")\n",
    "plt.plot(history.epoch, history.history[\"accuracy\"])\n",
    "\n",
    "plt.xlabel(\"Epoch\")\n",
    "plt.ylabel(\"accuracy\")\n",
    "\n",
    "plt.grid()\n",
    "\n",
    "### 이미지 저장\n",
    "plt.savefig(\"./saveFig/model_epoch_accuracy_02.png\")\n",
    "\n",
    "plt.show()"
   ]
  },
  {
   "cell_type": "code",
   "execution_count": 26,
   "id": "86daf3ed",
   "metadata": {
    "id": "86daf3ed",
    "outputId": "663c8632-f104-4615-bc43-418fbcd3c4e1"
   },
   "outputs": [
    {
     "data": {
      "image/png": "[encoded data removed]",
      "text/plain": [
       "<Figure size 640x480 with 1 Axes>"
      ]
     },
     "metadata": {},
     "output_type": "display_data"
    }
   ],
   "source": [
    "### 손실과 정확도 곡선 : 선그래프로 그리기\n",
    "# - x축은 반복횟수\n",
    "# - y축은 손실율 및 정확도\n",
    "\n",
    "# - 그래프는 saveFig 폴더에 png 확장자를 가지는 이미지로 저장하기\n",
    "\n",
    "plt.title(\"model_epoch_loss_and_accuracy_03\")\n",
    "plt.plot(history.epoch, history.history[\"loss\"])\n",
    "plt.plot(history.epoch, history.history[\"accuracy\"])\n",
    "\n",
    "plt.xlabel(\"Epoch\")\n",
    "plt.ylabel(\"Loss and Accuracy\")\n",
    "\n",
    "plt.legend([\"loss\", \"accuracy\"])\n",
    "\n",
    "plt.grid()\n",
    "\n",
    "### 이미지 저장\n",
    "plt.savefig(\"./saveFig/model_epoch_loss_and_accuracy_03.png\")\n",
    "\n",
    "plt.show()\n"
   ]
  },
  {
   "cell_type": "markdown",
   "id": "22174765",
   "metadata": {
    "id": "22174765"
   },
   "source": [
    "### 훈련 및 검증 데이터를 모두 사용하여 훈련 시키기"
   ]
  },
  {
   "cell_type": "code",
   "execution_count": 27,
   "id": "a58f97db",
   "metadata": {
    "id": "a58f97db",
    "outputId": "392b83e9-6236-4cd9-b702-4b2fc8acd6c9"
   },
   "outputs": [
    {
     "name": "stdout",
     "output_type": "stream",
     "text": [
      "Epoch 1/50\n",
      "1500/1500 [==============================] - 4s 2ms/step - loss: 0.5342 - accuracy: 0.8112 - val_loss: 0.4342 - val_accuracy: 0.8474\n",
      "Epoch 2/50\n",
      "1500/1500 [==============================] - 3s 2ms/step - loss: 0.3933 - accuracy: 0.8569 - val_loss: 0.4260 - val_accuracy: 0.8436\n",
      "Epoch 3/50\n",
      "1500/1500 [==============================] - 3s 2ms/step - loss: 0.3565 - accuracy: 0.8709 - val_loss: 0.3716 - val_accuracy: 0.8683\n",
      "Epoch 4/50\n",
      "1500/1500 [==============================] - 4s 2ms/step - loss: 0.3350 - accuracy: 0.8817 - val_loss: 0.3789 - val_accuracy: 0.8707\n",
      "Epoch 5/50\n",
      "1500/1500 [==============================] - 3s 2ms/step - loss: 0.3181 - accuracy: 0.8866 - val_loss: 0.3948 - val_accuracy: 0.8658\n",
      "Epoch 6/50\n",
      "1500/1500 [==============================] - 3s 2ms/step - loss: 0.3108 - accuracy: 0.8897 - val_loss: 0.3732 - val_accuracy: 0.8737\n",
      "Epoch 7/50\n",
      "1500/1500 [==============================] - 3s 2ms/step - loss: 0.3012 - accuracy: 0.8930 - val_loss: 0.3880 - val_accuracy: 0.8713\n",
      "Epoch 8/50\n",
      "1500/1500 [==============================] - 3s 2ms/step - loss: 0.2922 - accuracy: 0.8959 - val_loss: 0.3782 - val_accuracy: 0.8792\n",
      "Epoch 9/50\n",
      "1500/1500 [==============================] - 3s 2ms/step - loss: 0.2837 - accuracy: 0.9008 - val_loss: 0.3846 - val_accuracy: 0.8780\n",
      "Epoch 10/50\n",
      "1500/1500 [==============================] - 3s 2ms/step - loss: 0.2772 - accuracy: 0.9032 - val_loss: 0.3919 - val_accuracy: 0.8812\n",
      "Epoch 11/50\n",
      "1500/1500 [==============================] - 3s 2ms/step - loss: 0.2723 - accuracy: 0.9053 - val_loss: 0.3724 - val_accuracy: 0.8808\n",
      "Epoch 12/50\n",
      "1500/1500 [==============================] - 4s 2ms/step - loss: 0.2645 - accuracy: 0.9084 - val_loss: 0.4012 - val_accuracy: 0.8802\n",
      "Epoch 13/50\n",
      "1500/1500 [==============================] - 3s 2ms/step - loss: 0.2609 - accuracy: 0.9092 - val_loss: 0.4211 - val_accuracy: 0.8764\n",
      "Epoch 14/50\n",
      "1500/1500 [==============================] - 3s 2ms/step - loss: 0.2539 - accuracy: 0.9101 - val_loss: 0.4089 - val_accuracy: 0.8785\n",
      "Epoch 15/50\n",
      "1500/1500 [==============================] - 3s 2ms/step - loss: 0.2501 - accuracy: 0.9138 - val_loss: 0.4065 - val_accuracy: 0.8830\n",
      "Epoch 16/50\n",
      "1500/1500 [==============================] - 3s 2ms/step - loss: 0.2439 - accuracy: 0.9154 - val_loss: 0.4198 - val_accuracy: 0.8778\n",
      "Epoch 17/50\n",
      "1500/1500 [==============================] - 3s 2ms/step - loss: 0.2404 - accuracy: 0.9164 - val_loss: 0.4402 - val_accuracy: 0.8833\n",
      "Epoch 18/50\n",
      "1500/1500 [==============================] - 3s 2ms/step - loss: 0.2372 - accuracy: 0.9183 - val_loss: 0.4044 - val_accuracy: 0.8848\n",
      "Epoch 19/50\n",
      "1500/1500 [==============================] - 3s 2ms/step - loss: 0.2306 - accuracy: 0.9209 - val_loss: 0.4690 - val_accuracy: 0.8742\n",
      "Epoch 20/50\n",
      "1500/1500 [==============================] - 3s 2ms/step - loss: 0.2297 - accuracy: 0.9219 - val_loss: 0.4318 - val_accuracy: 0.8853\n",
      "Epoch 21/50\n",
      "1500/1500 [==============================] - 3s 2ms/step - loss: 0.2238 - accuracy: 0.9237 - val_loss: 0.4906 - val_accuracy: 0.8773\n",
      "Epoch 22/50\n",
      "1500/1500 [==============================] - 3s 2ms/step - loss: 0.2211 - accuracy: 0.9244 - val_loss: 0.4912 - val_accuracy: 0.8780\n",
      "Epoch 23/50\n",
      "1500/1500 [==============================] - 3s 2ms/step - loss: 0.2160 - accuracy: 0.9265 - val_loss: 0.4769 - val_accuracy: 0.8842\n",
      "Epoch 24/50\n",
      "1500/1500 [==============================] - 3s 2ms/step - loss: 0.2134 - accuracy: 0.9273 - val_loss: 0.4993 - val_accuracy: 0.8814\n",
      "Epoch 25/50\n",
      "1500/1500 [==============================] - 4s 2ms/step - loss: 0.2133 - accuracy: 0.9287 - val_loss: 0.5118 - val_accuracy: 0.8749\n",
      "Epoch 26/50\n",
      "1500/1500 [==============================] - 3s 2ms/step - loss: 0.2096 - accuracy: 0.9295 - val_loss: 0.4864 - val_accuracy: 0.8797\n",
      "Epoch 27/50\n",
      "1500/1500 [==============================] - 3s 2ms/step - loss: 0.2050 - accuracy: 0.9300 - val_loss: 0.5176 - val_accuracy: 0.8767\n",
      "Epoch 28/50\n",
      "1500/1500 [==============================] - 3s 2ms/step - loss: 0.2026 - accuracy: 0.9314 - val_loss: 0.5138 - val_accuracy: 0.8862\n",
      "Epoch 29/50\n",
      "1500/1500 [==============================] - 3s 2ms/step - loss: 0.1991 - accuracy: 0.9332 - val_loss: 0.4985 - val_accuracy: 0.8808\n",
      "Epoch 30/50\n",
      "1500/1500 [==============================] - 3s 2ms/step - loss: 0.1960 - accuracy: 0.9344 - val_loss: 0.5089 - val_accuracy: 0.8823\n",
      "Epoch 31/50\n",
      "1500/1500 [==============================] - 3s 2ms/step - loss: 0.1916 - accuracy: 0.9357 - val_loss: 0.5697 - val_accuracy: 0.8748\n",
      "Epoch 32/50\n",
      "1500/1500 [==============================] - 3s 2ms/step - loss: 0.1899 - accuracy: 0.9366 - val_loss: 0.5268 - val_accuracy: 0.8836\n",
      "Epoch 33/50\n",
      "1500/1500 [==============================] - 3s 2ms/step - loss: 0.1870 - accuracy: 0.9373 - val_loss: 0.5471 - val_accuracy: 0.8832\n",
      "Epoch 34/50\n",
      "1500/1500 [==============================] - 3s 2ms/step - loss: 0.1860 - accuracy: 0.9377 - val_loss: 0.6020 - val_accuracy: 0.8758\n",
      "Epoch 35/50\n",
      "1500/1500 [==============================] - 3s 2ms/step - loss: 0.1819 - accuracy: 0.9390 - val_loss: 0.5868 - val_accuracy: 0.8772\n",
      "Epoch 36/50\n",
      "1500/1500 [==============================] - 3s 2ms/step - loss: 0.1816 - accuracy: 0.9386 - val_loss: 0.5810 - val_accuracy: 0.8786\n",
      "Epoch 37/50\n",
      "1500/1500 [==============================] - 4s 2ms/step - loss: 0.1775 - accuracy: 0.9404 - val_loss: 0.6137 - val_accuracy: 0.8783\n",
      "Epoch 38/50\n",
      "1500/1500 [==============================] - 3s 2ms/step - loss: 0.1765 - accuracy: 0.9416 - val_loss: 0.6002 - val_accuracy: 0.8825\n",
      "Epoch 39/50\n",
      "1500/1500 [==============================] - 3s 2ms/step - loss: 0.1754 - accuracy: 0.9433 - val_loss: 0.5905 - val_accuracy: 0.8806\n",
      "Epoch 40/50\n",
      "1500/1500 [==============================] - 3s 2ms/step - loss: 0.1721 - accuracy: 0.9431 - val_loss: 0.6137 - val_accuracy: 0.8807\n",
      "Epoch 41/50\n",
      "1500/1500 [==============================] - 3s 2ms/step - loss: 0.1723 - accuracy: 0.9448 - val_loss: 0.6205 - val_accuracy: 0.8792\n",
      "Epoch 42/50\n",
      "1500/1500 [==============================] - 3s 2ms/step - loss: 0.1700 - accuracy: 0.9440 - val_loss: 0.6029 - val_accuracy: 0.8777\n",
      "Epoch 43/50\n",
      "1500/1500 [==============================] - 3s 2ms/step - loss: 0.1663 - accuracy: 0.9459 - val_loss: 0.6417 - val_accuracy: 0.8784\n",
      "Epoch 44/50\n",
      "1500/1500 [==============================] - 3s 2ms/step - loss: 0.1631 - accuracy: 0.9458 - val_loss: 0.6042 - val_accuracy: 0.8825\n",
      "Epoch 45/50\n",
      "1500/1500 [==============================] - 3s 2ms/step - loss: 0.1644 - accuracy: 0.9458 - val_loss: 0.6590 - val_accuracy: 0.8805\n",
      "Epoch 46/50\n",
      "1500/1500 [==============================] - 3s 2ms/step - loss: 0.1615 - accuracy: 0.9467 - val_loss: 0.6402 - val_accuracy: 0.8853\n",
      "Epoch 47/50\n",
      "1500/1500 [==============================] - 3s 2ms/step - loss: 0.1611 - accuracy: 0.9470 - val_loss: 0.7086 - val_accuracy: 0.8769\n",
      "Epoch 48/50\n",
      "1500/1500 [==============================] - 3s 2ms/step - loss: 0.1575 - accuracy: 0.9489 - val_loss: 0.6760 - val_accuracy: 0.8802\n",
      "Epoch 49/50\n",
      "1500/1500 [==============================] - 3s 2ms/step - loss: 0.1552 - accuracy: 0.9491 - val_loss: 0.6674 - val_accuracy: 0.8874\n",
      "Epoch 50/50\n",
      "1500/1500 [==============================] - 3s 2ms/step - loss: 0.1548 - accuracy: 0.9491 - val_loss: 0.7157 - val_accuracy: 0.8789\n"
     ]
    }
   ],
   "source": [
    "### 은닉계층\n",
    "hidden_layer = keras.layers.Dense(units=100, activation=\"relu\")\n",
    "\n",
    "### 모델 생성 함수 호출\n",
    "model = model_fn([hidden_layer])\n",
    "\n",
    "### 모델 설정하기\n",
    "model.compile(\n",
    "    loss = \"sparse_categorical_crossentropy\",\n",
    "    metrics = \"accuracy\"\n",
    ")\n",
    "\n",
    "### 훈련 및 검증 데이터를 이용하여 훈련 시키기\n",
    "# - 훈련시 훈련에 대한 손실/정확도, 검증에 대한 손실/정확도를 모두 출력\n",
    "with tf.device(\"/CPU:0\") :\n",
    "    history = model.fit(train_scaled, train_target, epochs=50,\n",
    "                        validation_data = (val_scaled, val_target))"
   ]
  },
  {
   "cell_type": "code",
   "execution_count": null,
   "id": "ae1eabab",
   "metadata": {
    "id": "ae1eabab",
    "outputId": "8901e951-c4b3-42b1-d33b-784c7b9ca0dd"
   },
   "outputs": [],
   "source": [
    "### 훈련 및 검증 손실 곡선 시각화\n",
    "\n",
    "plt.title(\"model_epoch_train_and_val_loss_04\")\n",
    "plt.plot(history.epoch, history.history[\"loss\"])\n",
    "plt.plot(history.epoch, history.history[\"val_loss\"])\n",
    "\n",
    "plt.xlabel(\"Epoch\")\n",
    "plt.ylabel(\"Loss\")\n",
    "\n",
    "plt.legend([\"train_loss\", \"val_loss\"])\n",
    "\n",
    "plt.grid()\n",
    "\n",
    "### 이미지 저장\n",
    "plt.savefig(\"./saveFig/model_epoch_train_and_val_loss_04.png\")\n",
    "\n",
    "plt.show()"
   ]
  },
  {
   "cell_type": "code",
   "execution_count": null,
   "id": "b5dcdc83",
   "metadata": {
    "id": "b5dcdc83",
    "outputId": "8e51fa84-3898-4322-fb11-14fcdac59d9f"
   },
   "outputs": [],
   "source": [
    "### 훈련 및 검증 정확도 곡선 시각화\n",
    "\n",
    "plt.title(\"model_epoch_train_and_val_accuracy_05\")\n",
    "plt.plot(history.epoch, history.history[\"accuracy\"])\n",
    "plt.plot(history.epoch, history.history[\"val_accuracy\"])\n",
    "\n",
    "plt.xlabel(\"Epoch\")\n",
    "plt.ylabel(\"accuracy\")\n",
    "\n",
    "plt.legend([\"train_accuracy\", \"val_accuracy\"])\n",
    "\n",
    "plt.grid()\n",
    "\n",
    "### 이미지 저장\n",
    "plt.savefig(\"./saveFig/model_epoch_train_and_val_accuracy_05.png\")\n",
    "\n",
    "plt.show()"
   ]
  }
 ],
 "metadata": {
  "accelerator": "GPU",
  "colab": {
   "gpuType": "T4",
   "provenance": []
  },
  "kernelspec": {
   "display_name": "pk_dl_gpu_kernel",
   "language": "python",
   "name": "pk_dl_gpu"
  },
  "language_info": {
   "codemirror_mode": {
    "name": "ipython",
    "version": 3
   },
   "file_extension": ".py",
   "mimetype": "text/x-python",
   "name": "python",
   "nbconvert_exporter": "python",
   "pygments_lexer": "ipython3",
   "version": "3.9.21"
  }
 },
 "nbformat": 4,
 "nbformat_minor": 5
}
